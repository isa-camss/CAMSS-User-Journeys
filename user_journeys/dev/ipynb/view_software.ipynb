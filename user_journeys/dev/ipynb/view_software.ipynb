{
 "cells": [
  {
   "cell_type": "markdown",
   "metadata": {},
   "source": [
    "<nav>\n",
    "  <a href=\"view_home.ipynb\">Home</a> &nbsp;&nbsp;&nbsp;\n",
    "  <a href=\"view_tools.ipynb\">Tools</a> &nbsp;&nbsp;&nbsp;\n",
    "  <a href=\"view_assessments.ipynb\">Assessments</a> &nbsp;&nbsp;&nbsp;\n",
    "  <a href=\"view_assessments.ipynb\">ELIS</a> &nbsp;&nbsp;&nbsp;\n",
    "  <a href=\"view_cssv.ipynb\">CSSV</a> &nbsp;&nbsp;&nbsp;\n",
    "  <a href=\"view_cav.ipynb\">CAV</a> &nbsp;&nbsp;&nbsp;\n",
    "  <a href=\"view_ontology.ipynb\">Ontology</a> &nbsp;&nbsp;&nbsp;\n",
    "  <a href=\"view_glossary.ipynb\">Glossary</a>\n",
    "</nav>"
   ]
  },
  {
   "cell_type": "markdown",
   "metadata": {},
   "source": [
    "<center>\n",
    "    <img src='../img/logo1.jpg' alt='assessment logo' style='width:110px;height:100px;border-radius:3px;margin-right:10px'/>\n",
    "    <img src='../img/european-union-logo.png' alt='EU logo' style='width:150px;height:100px;border-radius:3px'/>\n",
    "</center>"
   ]
  },
  {
   "cell_type": "markdown",
   "metadata": {},
   "source": [
    "<strong> <h1 style='text-align: center;'>ARCHITECT OR <br>SOFTWARE ENGINEER'S JOURNEY</h1> <strong/>"
   ]
  },
  {
   "cell_type": "markdown",
   "metadata": {},
   "source": [
    "<h2 style='font-weight: bold;'> \n",
    "    User Story 2\n",
    "</h2>"
   ]
  },
  {
   "cell_type": "markdown",
   "metadata": {},
   "source": [
    "<h3 style='text-align: justify;font-weight: bold;'> \n",
    "I, as a procurer, want to see all assessments of all specifications linked to one or more EIRA ABBs so I can recommend my team how to aproach the LOST interoperability solutions.\n",
    "</h3>"
   ]
  },
  {
   "cell_type": "markdown",
   "metadata": {
    "tags": []
   },
   "source": [
    "<h2 style='font-weight: bold;'> \n",
    "    Use Cases\n",
    "</h2>   \n",
    "<p style='text-align: justify'> \n",
    "Tipically a User Story cast one or more Use Cases. For example, given the above User Story we can think of flows and sub-flows like:</p>\n",
    "    <ul>\n",
    "      <li>1. Given one or more ABBs get the specifications linked to that ABBs</li>\n",
    "      <li>2. Get the CAV dataset of the assessment</li>\n",
    "      <li>3. Get the CSSV dataset of the specification</li>\n",
    "      <li>Etc</li>\n",
    "    </ul>\n",
    "<p style='text-align: justify'>\n",
    "A User Story can easily be mapped to a SPARQL query. Since all CAMSS datasets are get by <a href='https://op.europa.eu/en/web/eu-vocabularies/news/-/blogs/new-brochure-about-cellar'>CELLAR</a>, this notebook provide you <u>prepared queries</u> which help you obtain usefull information.<br><br>\n",
    "    \n",
    "Additionally, it allows you to draft your own custom queries. So feel free to use this notebook to experiment with the CAMSS datasets in CELLAR. Alternatively, you could use the <a href='http://publications.europa.eu/webapi/rdf/sparql'>CELLAR's Virtuoso endpoint.</a> <br><br>\n",
    "\n",
    "<strong>Note:</strong> If you want to know more about the code that contains this module, you can consult it by clicking <a href='UI_components/component_tab_software.ipynb'>here</a> <br><br>\n",
    "With this in mind, let's try out!  \n",
    "</p>"
   ]
  },
  {
   "cell_type": "code",
   "execution_count": 2,
   "metadata": {},
   "outputs": [
    {
     "ename": "Exception",
     "evalue": "Failed to process cells: No module named 'cfg'",
     "output_type": "error",
     "traceback": [
      "\u001b[1;31m---------------------------------------------------------------------------\u001b[0m",
      "\u001b[1;31mModuleNotFoundError\u001b[0m                       Traceback (most recent call last)",
      "\u001b[1;32mc:\\users\\mgrajale\\appdata\\local\\programs\\python\\python38\\lib\\site-packages\\margo_loader\\nbloader.py\u001b[0m in \u001b[0;36mload_module\u001b[1;34m(self, fullname)\u001b[0m\n\u001b[0;32m     34\u001b[0m             \u001b[0mprocessor\u001b[0m \u001b[1;33m=\u001b[0m \u001b[0mProcessor\u001b[0m\u001b[1;33m(\u001b[0m\u001b[0mmod\u001b[0m\u001b[1;33m,\u001b[0m \u001b[0mfullname\u001b[0m\u001b[1;33m)\u001b[0m\u001b[1;33m\u001b[0m\u001b[1;33m\u001b[0m\u001b[0m\n\u001b[1;32m---> 35\u001b[1;33m             \u001b[0mprocessor\u001b[0m\u001b[1;33m.\u001b[0m\u001b[0mprocess_cells\u001b[0m\u001b[1;33m(\u001b[0m\u001b[0mcells\u001b[0m\u001b[1;33m)\u001b[0m\u001b[1;33m\u001b[0m\u001b[1;33m\u001b[0m\u001b[0m\n\u001b[0m\u001b[0;32m     36\u001b[0m         \u001b[1;32mexcept\u001b[0m \u001b[0mException\u001b[0m \u001b[1;32mas\u001b[0m \u001b[0me\u001b[0m\u001b[1;33m:\u001b[0m\u001b[1;33m\u001b[0m\u001b[1;33m\u001b[0m\u001b[0m\n",
      "\u001b[1;32mc:\\users\\mgrajale\\appdata\\local\\programs\\python\\python38\\lib\\site-packages\\margo_loader\\processor.py\u001b[0m in \u001b[0;36mprocess_cells\u001b[1;34m(self, cells)\u001b[0m\n\u001b[0;32m    167\u001b[0m             \u001b[1;32mif\u001b[0m \u001b[0mcell\u001b[0m\u001b[1;33m.\u001b[0m\u001b[0mcell_type\u001b[0m \u001b[1;33m==\u001b[0m \u001b[1;34m\"code\"\u001b[0m\u001b[1;33m:\u001b[0m\u001b[1;33m\u001b[0m\u001b[1;33m\u001b[0m\u001b[0m\n\u001b[1;32m--> 168\u001b[1;33m                 \u001b[0mexec_wrapper\u001b[0m\u001b[1;33m(\u001b[0m\u001b[0mcell_source\u001b[0m\u001b[1;33m,\u001b[0m \u001b[0mself\u001b[0m\u001b[1;33m.\u001b[0m\u001b[0mmodule\u001b[0m\u001b[1;33m.\u001b[0m\u001b[0m__dict__\u001b[0m\u001b[1;33m)\u001b[0m\u001b[1;33m\u001b[0m\u001b[1;33m\u001b[0m\u001b[0m\n\u001b[0m",
      "\u001b[1;32mc:\\users\\mgrajale\\appdata\\local\\programs\\python\\python38\\lib\\site-packages\\margo_loader\\processor.py\u001b[0m in \u001b[0;36mexec_wrapper\u001b[1;34m(code, context)\u001b[0m\n\u001b[0;32m    115\u001b[0m                 \u001b[1;32mreturn\u001b[0m\u001b[1;33m\u001b[0m\u001b[1;33m\u001b[0m\u001b[0m\n\u001b[1;32m--> 116\u001b[1;33m             \u001b[0mexec\u001b[0m\u001b[1;33m(\u001b[0m\u001b[0mcode\u001b[0m\u001b[1;33m,\u001b[0m \u001b[0mcontext\u001b[0m\u001b[1;33m)\u001b[0m\u001b[1;33m\u001b[0m\u001b[1;33m\u001b[0m\u001b[0m\n\u001b[0m\u001b[0;32m    117\u001b[0m \u001b[1;33m\u001b[0m\u001b[0m\n",
      "\u001b[1;32mC:\\SEMBU\\Github\\CAMSS\\CAMSS_Hub\\user_journeys\\dev\\ipynb\\UI_components\\component_tab_software.ipynb\u001b[0m in \u001b[0;36m<module>\u001b[1;34m\u001b[0m\n",
      "\u001b[1;31mModuleNotFoundError\u001b[0m: No module named 'cfg'",
      "\nDuring handling of the above exception, another exception occurred:\n",
      "\u001b[1;31mException\u001b[0m                                 Traceback (most recent call last)",
      "\u001b[1;32m<ipython-input-2-da1d5f5c5c3c>\u001b[0m in \u001b[0;36m<module>\u001b[1;34m\u001b[0m\n\u001b[0;32m      1\u001b[0m \u001b[1;32mimport\u001b[0m \u001b[0mmargo_loader\u001b[0m\u001b[1;33m\u001b[0m\u001b[1;33m\u001b[0m\u001b[0m\n\u001b[1;32m----> 2\u001b[1;33m \u001b[1;32mimport\u001b[0m \u001b[0mUI_components\u001b[0m\u001b[1;33m.\u001b[0m\u001b[0mcomponent_tab_software\u001b[0m \u001b[1;32mas\u001b[0m \u001b[0mtab\u001b[0m\u001b[1;33m\u001b[0m\u001b[1;33m\u001b[0m\u001b[0m\n\u001b[0m",
      "\u001b[1;32mc:\\users\\mgrajale\\appdata\\local\\programs\\python\\python38\\lib\\importlib\\_bootstrap.py\u001b[0m in \u001b[0;36m_find_and_load\u001b[1;34m(name, import_)\u001b[0m\n",
      "\u001b[1;32mc:\\users\\mgrajale\\appdata\\local\\programs\\python\\python38\\lib\\importlib\\_bootstrap.py\u001b[0m in \u001b[0;36m_find_and_load_unlocked\u001b[1;34m(name, import_)\u001b[0m\n",
      "\u001b[1;32mc:\\users\\mgrajale\\appdata\\local\\programs\\python\\python38\\lib\\importlib\\_bootstrap.py\u001b[0m in \u001b[0;36m_load_unlocked\u001b[1;34m(spec)\u001b[0m\n",
      "\u001b[1;32mc:\\users\\mgrajale\\appdata\\local\\programs\\python\\python38\\lib\\importlib\\_bootstrap.py\u001b[0m in \u001b[0;36m_load_backward_compatible\u001b[1;34m(spec)\u001b[0m\n",
      "\u001b[1;32mc:\\users\\mgrajale\\appdata\\local\\programs\\python\\python38\\lib\\site-packages\\margo_loader\\nbloader.py\u001b[0m in \u001b[0;36mload_module\u001b[1;34m(self, fullname)\u001b[0m\n\u001b[0;32m     35\u001b[0m             \u001b[0mprocessor\u001b[0m\u001b[1;33m.\u001b[0m\u001b[0mprocess_cells\u001b[0m\u001b[1;33m(\u001b[0m\u001b[0mcells\u001b[0m\u001b[1;33m)\u001b[0m\u001b[1;33m\u001b[0m\u001b[1;33m\u001b[0m\u001b[0m\n\u001b[0;32m     36\u001b[0m         \u001b[1;32mexcept\u001b[0m \u001b[0mException\u001b[0m \u001b[1;32mas\u001b[0m \u001b[0me\u001b[0m\u001b[1;33m:\u001b[0m\u001b[1;33m\u001b[0m\u001b[1;33m\u001b[0m\u001b[0m\n\u001b[1;32m---> 37\u001b[1;33m             \u001b[1;32mraise\u001b[0m \u001b[0mException\u001b[0m\u001b[1;33m(\u001b[0m\u001b[1;34m\"Failed to process cells: \"\u001b[0m \u001b[1;33m+\u001b[0m \u001b[0mstr\u001b[0m\u001b[1;33m(\u001b[0m\u001b[0me\u001b[0m\u001b[1;33m)\u001b[0m\u001b[1;33m)\u001b[0m\u001b[1;33m\u001b[0m\u001b[1;33m\u001b[0m\u001b[0m\n\u001b[0m\u001b[0;32m     38\u001b[0m \u001b[1;33m\u001b[0m\u001b[0m\n\u001b[0;32m     39\u001b[0m         \u001b[1;31m# Add the module to sys.modules\u001b[0m\u001b[1;33m\u001b[0m\u001b[1;33m\u001b[0m\u001b[1;33m\u001b[0m\u001b[0m\n",
      "\u001b[1;31mException\u001b[0m: Failed to process cells: No module named 'cfg'"
     ]
    }
   ],
   "source": [
    "import margo_loader\n",
    "import UI_components.component_tab_software as tab"
   ]
  },
  {
   "cell_type": "markdown",
   "metadata": {},
   "source": [
    "<h2 style='font-weight: bold;'> \n",
    "    What is going on?\n",
    "</h2>\n",
    "<p style='text-align: justify'>\n",
    "The query is sent to <a href=\"view_glossary.ipynb\">Cellar triplestore</a> through a microservice developed by the team, then it returns the results, which are formatted inside the jupyter notebook module using the Pandas library.\n",
    "</p>"
   ]
  },
  {
   "cell_type": "code",
   "execution_count": null,
   "metadata": {},
   "outputs": [],
   "source": []
  }
 ],
 "metadata": {
  "kernelspec": {
   "display_name": "Python 3",
   "language": "python",
   "name": "python3"
  },
  "language_info": {
   "codemirror_mode": {
    "name": "ipython",
    "version": 3
   },
   "file_extension": ".py",
   "mimetype": "text/x-python",
   "name": "python",
   "nbconvert_exporter": "python",
   "pygments_lexer": "ipython3",
   "version": "3.8.5"
  },
  "toc-autonumbering": false,
  "toc-showcode": true,
  "toc-showmarkdowntxt": false,
  "toc-showtags": false
 },
 "nbformat": 4,
 "nbformat_minor": 5
}
