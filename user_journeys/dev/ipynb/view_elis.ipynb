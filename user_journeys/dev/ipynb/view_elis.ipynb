{
 "cells": [
  {
   "cell_type": "markdown",
   "metadata": {},
   "source": [
    "<nav>\n",
    "  <a href=\"view_home.ipynb\">Home</a> &nbsp;&nbsp;&nbsp;\n",
    "  <a href=\"view_journeys.ipynb\">User Journeys</a> &nbsp;&nbsp;&nbsp;\n",
    "  <a href=\"view_ecosystem.ipynb\">CAMSS Ecosystem</a> &nbsp;&nbsp;&nbsp;\n",
    "  <a href=\"view_glossary.ipynb\">Glossary</a> &nbsp;&nbsp;&nbsp;\n",
    "</nav>"
   ]
  },
  {
   "cell_type": "markdown",
   "metadata": {},
   "source": [
    "<center>\n",
    "    <table>\n",
    "        <tr>\n",
    "            <td> <img src='../img/camss_elis.jpg' alt='elis logo' width=110px height=100px margin-right=10px/>\n",
    "            </td>\n",
    "            <td> <img src='../img/european-union-logo.png' alt='EU logo' width=160px height=100px/> \n",
    "            </td>\n",
    "        </tr>\n",
    "    </table>\n",
    "</center>"
   ]
  },
  {
   "cell_type": "markdown",
   "metadata": {},
   "source": [
    "<center>\n",
    "<h1 style='text-align: center;font-weight: bold;'> \n",
    "    EIRA Library Interoperability Specifications <br>ELIS\n",
    "</h1>\n",
    "</center>"
   ]
  },
  {
   "cell_type": "markdown",
   "metadata": {},
   "source": [
    "<p style='text-align: justify'>\n",
    "    The EIRA Library of Interoperability Specifications is a library containing the standards and specifications defining the interoperability aspects of the architectural building blocks (ABBs) contained in the European Interoperability Reference Architecture (EIRA). The aim of this library is supporting solutions architects when modelling using EIRA.<br><br>It is important to note that ELIS is also considering CAMSS assessments. It includes specifications that have been evaluated using the CAMSS method and specifically the <a href='view_glossary.ipynb'>EIF</a> Scenario.\n",
    "    <a href='https://joinup.ec.europa.eu/collection/common-assessment-method-standards-and-specifications-camss/solution/elis/about'>Read more</a>.  \n",
    "</p>"
   ]
  },
  {
   "cell_type": "markdown",
   "metadata": {},
   "source": [
    "<h2 style='font-weight: bold;'> \n",
    "    ELIS Conceptual Overview\n",
    "</h2>\n",
    "<p style='text-align: justify'> \n",
    "This section explains how ELIS is connected with DCAT-AP, the CSSV, and the CAV. The figure below shows a conceptual overview of how the ELIS is connected:</p>"
   ]
  },
  {
   "cell_type": "markdown",
   "metadata": {},
   "source": [
    "<center>\n",
    "    <img src='../img/camss_elis/elis_conceptual_model.jpg' alt='ELIS conceptual overview' style='width:100%;height:100%;border-radius:3px;align:\"center\"'/>\n",
    "</center>"
   ]
  },
  {
   "cell_type": "markdown",
   "metadata": {},
   "source": [
    "<p style='text-align: justify'> \n",
    "Beware of the following:\n",
    "</p>\n",
    "    <ul style='text-align: justify'>\n",
    "      <li>The ELIS Catalogue is instantiated using the DCAT-AP class Catalog;</li>\n",
    "      <li>The ELIS Catalogue has as many entries as instances of DCAT-AP CatalogRecord(s). One \n",
    "CatalogRecord is composed of metadata about each entry in the ELIS Catalogue representing one \n",
    "CSSV Specification;</li>\n",
    "      <li>The Primary Topic of an ELIS Catalogue Record is always a Specification, a Standard, an Application Profile or a Family, which are implemented as a DCAT-AP DataSet;</li>\n",
    "      <li>The Primary Topic always has a Distribution which points to the web page where the specification is available;</li>\n",
    "      <li>Some Specifications have associated Assessments that also have Distributions that point to the Joinup page where can be downloaded.</li>\n",
    "      <li>Some Specifications have associated Assessments that also have Distributions that point to the Joinup page where can be downloaded.</li>\n",
    "      <li>Notice that some entities are associated with code lists (<u>Interoperability Specification Domain</u>, and the <u>ELIS Entity Type</u>). Additionally, each EIRA Interoperability Specification can express its interoperability aspects via the association to one or other EIRA ABB as defined in the <u>EIRA Ontology</u> (expressed as SKOS Concepts).</li>\n",
    "    </ul>"
   ]
  },
  {
   "cell_type": "markdown",
   "metadata": {},
   "source": [
    "<h2 style='font-weight: bold;'> \n",
    "    CAMSS ELIS Releases\n",
    "</h2>\n",
    "<p>CAMSS ELIS has 4 releases, you can enter each version by clicking on the releases below.</p>"
   ]
  },
  {
   "cell_type": "markdown",
   "metadata": {},
   "source": [
    "<center>\n",
    "    <table>\n",
    "        <tr>\n",
    "            <td><a href=\"https://joinup.ec.europa.eu/collection/common-assessment-method-standards-and-specifications-camss/solution/elis/release/v110\">\n",
    "                <img src='../img/camss_elis/camss_elis_110.jpg' alt='camss elis release 1.1.0'  width=180px height=100px border-radius=15px/></a>\n",
    "            </td>\n",
    "            <td><a href=\"https://joinup.ec.europa.eu/collection/common-assessment-method-standards-and-specifications-camss/solution/elis/release/v101-0\">\n",
    "                <img src='../img/camss_elis/camss_elis_101.jpg' alt='camss elis release 1.10.1' width=180px height=100px border-radius=15px/></a>\n",
    "            </td>\n",
    "            <td><a href=\"https://joinup.ec.europa.eu/collection/common-assessment-method-standards-and-specifications-camss/solution/elis/release/v100\">\n",
    "                <img src='../img/camss_elis/camss_elis_100.jpg' alt='camss elis release 1.0.0' width=180px height=100px border-radius=15px/></a>\n",
    "            </td>\n",
    "            <td><a href=\"https://joinup.ec.europa.eu/collection/common-assessment-method-standards-and-specifications-camss/solution/elis/release/v100-beta\">\n",
    "                <img src='../img/camss_elis/camss_elis_100b.jpg' alt='camss elis release 1.0.0. beta' width=180px height=100px border-radius=15px/></a>\n",
    "            </td>\n",
    "        </tr>\n",
    "    </table>\n",
    "</center>"
   ]
  },
  {
   "cell_type": "markdown",
   "metadata": {},
   "source": [
    "<p style='text-align: justify'> \n",
    "You can also to interact with the Specifications through this jupiter notebook, to do that it is important that you identify your role in the <a href=\"view_journeys.ipynb\">user journeys</a> section and we will guide you to obtain the information that best suits you from the <a href='http://publications.europa.eu/webapi/rdf/sparql'>CELLAR's Virtuoso endpoint</a> launching the queries and retrieving the data.\n",
    "</p>"
   ]
  },
  {
   "cell_type": "code",
   "execution_count": null,
   "metadata": {},
   "outputs": [],
   "source": []
  }
 ],
 "metadata": {
  "interpreter": {
   "hash": "752c0afe1e4eabc4a14d469b5e142a5026971cf1520ad4aaef16c58fad623442"
  },
  "kernelspec": {
   "display_name": "camss journeys env",
   "language": "python",
   "name": "python3"
  },
  "language_info": {
   "codemirror_mode": {
    "name": "ipython",
    "version": 3
   },
   "file_extension": ".py",
   "mimetype": "text/x-python",
   "name": "python",
   "nbconvert_exporter": "python",
   "pygments_lexer": "ipython3",
   "version": "3.8.5"
  }
 },
 "nbformat": 4,
 "nbformat_minor": 5
}
