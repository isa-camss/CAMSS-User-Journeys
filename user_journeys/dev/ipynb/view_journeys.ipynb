{
 "cells": [
  {
   "cell_type": "markdown",
   "metadata": {},
   "source": [
    "<nav>\n",
    "  <a href=\"view_home.ipynb\">Home</a> &nbsp;&nbsp;&nbsp;\n",
    "  <a href=\"view_journeys.ipynb\">User Journeys</a> &nbsp;&nbsp;&nbsp;\n",
    "  <a href=\"view_ecosystem.ipynb\">CAMSS Ecosystem</a> &nbsp;&nbsp;&nbsp;\n",
    "  <a href=\"view_glossary.ipynb\">Glossary</a> &nbsp;&nbsp;&nbsp;\n",
    "  <a href=\"view_about.ipynb\">About us</a> &nbsp;&nbsp;&nbsp;\n",
    "</nav>"
   ]
  },
  {
   "cell_type": "markdown",
   "metadata": {
    "tags": []
   },
   "source": [
    "<strong> <h1 style='text-align: center;'> WHAT IS YOUR PROFILE? </h1> <strong/>"
   ]
  },
  {
   "cell_type": "markdown",
   "metadata": {
    "tags": []
   },
   "source": [
    "<p>In order to provide you with the tools and information that fit your needs, it is important to know your role, please select from the list below the one you identify with.</p>"
   ]
  },
  {
   "cell_type": "markdown",
   "metadata": {},
   "source": [
    "<ul>\n",
    "    <li><a href='view_assessments_procurer.ipynb'>I am a Procurer</a></li>\n",
    "    <li><a href='view_assessments_software.ipynb'>I am an Architect or Software Engineer</a></li>\n",
    "    <li><a href=''>I am a SDO Manager</a></li>\n",
    "    <li><a href=''>I am public administration CIO</a></li>\n",
    "    <li><a href=''>I am public ICT Expert, Journalist or Editor</a></li>\n",
    "</ul>"
   ]
  },
  {
   "cell_type": "code",
   "execution_count": null,
   "metadata": {},
   "outputs": [],
   "source": []
  }
 ],
 "metadata": {
  "kernelspec": {
   "display_name": "Python 3",
   "language": "python",
   "name": "python3"
  },
  "language_info": {
   "codemirror_mode": {
    "name": "ipython",
    "version": 3
   },
   "file_extension": ".py",
   "mimetype": "text/x-python",
   "name": "python",
   "nbconvert_exporter": "python",
   "pygments_lexer": "ipython3",
   "version": "3.8.5"
  }
 },
 "nbformat": 4,
 "nbformat_minor": 5
}
