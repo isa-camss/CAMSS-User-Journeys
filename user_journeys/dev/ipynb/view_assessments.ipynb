{
 "cells": [
  {
   "cell_type": "markdown",
   "metadata": {},
   "source": [
    "<nav>\n",
    "  <a href=\"view_home.ipynb\">Home</a> &nbsp;&nbsp;&nbsp;\n",
    "  <a href=\"view_tools.ipynb\">Tools</a> &nbsp;&nbsp;&nbsp;\n",
    "  <a href=\"view_assessments.ipynb\">Assessments</a> &nbsp;&nbsp;&nbsp;\n",
    "  <a href=\"view_assessments.ipynb\">ELIS</a> &nbsp;&nbsp;&nbsp;\n",
    "  <a href=\"view_cssv.ipynb\">CSSV</a> &nbsp;&nbsp;&nbsp;\n",
    "  <a href=\"view_cav.ipynb\">CAV</a> &nbsp;&nbsp;&nbsp;\n",
    "  <a href=\"view_ontology.ipynb\">Ontology</a> &nbsp;&nbsp;&nbsp;\n",
    "  <a href=\"view_glossary.ipynb\">Glossary</a>\n",
    "</nav>"
   ]
  },
  {
   "cell_type": "markdown",
   "metadata": {},
   "source": [
    "<table>\n",
    "    <tr>\n",
    "        <td> <img src='../img/camss_assessment.jpg' alt='assessment logo' style='width:110px;height:100px;border-radius:3px'/>\n",
    "        </td>\n",
    "        <td> <img src='../img/european-union-logo.png' alt='EU logo' style='width:150px;height:100px;border-radius:3px'/> \n",
    "        </td>\n",
    "    </tr>\n",
    "</table>"
   ]
  },
  {
   "cell_type": "markdown",
   "metadata": {},
   "source": [
    "<strong> <h1 style='text-align: center;'> CAMSS ASSESSMENTS LIBRARY </h1> <strong/>"
   ]
  },
  {
   "cell_type": "markdown",
   "metadata": {},
   "source": [
    "<p> \n",
    "The CAMSS Assessment is a solution which corresponds to the output of an assessment of a standard or technical specification using the CAMSS Tools. Each assessment produced is considered a CAMSS Assessment once it is approved by the CAMSS team. Any approved assessment is published by the CAMSS Team and publicly available within the Assessment Library. Each assessment constitutes a CAMSS solition and is fully reusable\n",
    "\n",
    "\n",
    "This section of the jupiter notebook is designed to allow you to run SPARQL queries and extract the information you want about the assessments from <a href=\"view_glossary.ipynb\">Cellar triplestore</a>.\n",
    "    \n",
    "Each step you need to follow to run the query environment is explained in the next section.  \n",
    "</p>"
   ]
  },
  {
   "cell_type": "markdown",
   "metadata": {
    "tags": []
   },
   "source": [
    "<strong> <h2> Quering assessments </h2> <strong/>\n",
    "    \n",
    "<p> In the user interface that the camss team has developed, you will be able to:</p>\n",
    "    <ul>\n",
    "      <li>Interact with tabs clicking on them.</li>\n",
    "      <li>Elaborate your own queries</li>\n",
    "      <li>Run a collection of queries</li>\n",
    "      <li>Modify the collection of queries</li>\n",
    "    </ul>\n",
    "\n",
    "<strong> <h3> Import modules </h3> </strong>    \n",
    "<p> To Run the code that the CAMSS team prepared, you must import the module by placing yourself in the cell containing the imports and clicking on the play button in the top bar of the jupyter notebook. You will know that they were imported correctly because you will see a tab UI with a text area and a buton to run the query.</p>\n",
    "    \n",
    "<p> <strong>Note:</strong> If you want to know more about the code that contains the module, you can consult it by clicking <a href='component_tab.ipynb'>here</a> </p>\n",
    "<p> With this in mind, let's try out!  \n",
    "</p>"
   ]
  },
  {
   "cell_type": "code",
   "execution_count": 1,
   "metadata": {},
   "outputs": [
    {
     "data": {
      "application/vnd.jupyter.widget-view+json": {
       "model_id": "2b3f68d411284724b8fa9bca58a2cfd4",
       "version_major": 2,
       "version_minor": 0
      },
      "text/plain": [
       "Tab(children=(VBox(children=(HTML(value='In this section you can make a SPARQL query of whatever you want to C…"
      ]
     },
     "metadata": {},
     "output_type": "display_data"
    },
    {
     "data": {
      "application/vnd.jupyter.widget-view+json": {
       "model_id": "ffe7148181164b6c96578a599e364423",
       "version_major": 2,
       "version_minor": 0
      },
      "text/plain": [
       "Output()"
      ]
     },
     "metadata": {},
     "output_type": "display_data"
    }
   ],
   "source": [
    "import margo_loader\n",
    "import component_tab as tab"
   ]
  },
  {
   "cell_type": "markdown",
   "metadata": {},
   "source": [
    "<strong> <h2> What is going on?</h2> <strong/>\n",
    "<p>\n",
    "The query is sent to <a href=\"view_glossary.ipynb\">Cellar triplestore</a> through a microservice developed by the team, then it returns the results, which are formatted inside the jupyter notebook module using the Pandas library  \n",
    "</p>"
   ]
  },
  {
   "cell_type": "code",
   "execution_count": null,
   "metadata": {},
   "outputs": [],
   "source": []
  }
 ],
 "metadata": {
  "kernelspec": {
   "display_name": "Python 3",
   "language": "python",
   "name": "python3"
  },
  "language_info": {
   "codemirror_mode": {
    "name": "ipython",
    "version": 3
   },
   "file_extension": ".py",
   "mimetype": "text/x-python",
   "name": "python",
   "nbconvert_exporter": "python",
   "pygments_lexer": "ipython3",
   "version": "3.8.5"
  },
  "toc-autonumbering": false,
  "toc-showcode": true,
  "toc-showmarkdowntxt": false,
  "toc-showtags": false
 },
 "nbformat": 4,
 "nbformat_minor": 5
}
