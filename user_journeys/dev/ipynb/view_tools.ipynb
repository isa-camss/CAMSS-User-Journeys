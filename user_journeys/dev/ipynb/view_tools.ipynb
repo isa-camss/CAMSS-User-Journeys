{
 "cells": [
  {
   "cell_type": "markdown",
   "metadata": {},
   "source": [
    "<nav>\n",
    "  <a href=\"view_home.ipynb\">Home</a> &nbsp;&nbsp;&nbsp;\n",
    "  <a href=\"view_journeys.ipynb\">User Journeys</a> &nbsp;&nbsp;&nbsp;\n",
    "  <a href=\"view_ecosystem.ipynb\">CAMSS Ecosystem</a> &nbsp;&nbsp;&nbsp;\n",
    "  <a href=\"view_glossary.ipynb\">Glossary</a> &nbsp;&nbsp;&nbsp;\n",
    "  <a href=\"view_about.ipynb\">About us</a> &nbsp;&nbsp;&nbsp;\n",
    "</nav>"
   ]
  },
  {
   "cell_type": "markdown",
   "metadata": {},
   "source": [
    "<table>\n",
    "    <tr>\n",
    "        <td> <img src='../img/camss_tools.jpg' alt='tools logo' style='width:110px;height:100px;border-radius:3px'/>\n",
    "        </td>\n",
    "        <td> <img src='../img/european-union-logo.png' alt='EU logo' style='width:150px;height:100px;border-radius:3px'/> \n",
    "        </td>\n",
    "    </tr>\n",
    "</table>"
   ]
  },
  {
   "cell_type": "markdown",
   "metadata": {},
   "source": [
    "<strong> <h1 style='text-align: center;'> CAMSS TOOLS </h1> <strong/>"
   ]
  },
  {
   "cell_type": "markdown",
   "metadata": {},
   "source": [
    "<p> \n",
    "Work in progress. \n",
    "Documentation and links to JoinUp and EUSurvey\n",
    "Other documentation and links to existing CAMSS tools\n",
    "</p>"
   ]
  },
  {
   "cell_type": "markdown",
   "metadata": {},
   "source": []
  }
 ],
 "metadata": {
  "kernelspec": {
   "display_name": "Python 3",
   "language": "python",
   "name": "python3"
  },
  "language_info": {
   "codemirror_mode": {
    "name": "ipython",
    "version": 3
   },
   "file_extension": ".py",
   "mimetype": "text/x-python",
   "name": "python",
   "nbconvert_exporter": "python",
   "pygments_lexer": "ipython3",
   "version": "3.8.5"
  }
 },
 "nbformat": 4,
 "nbformat_minor": 5
}
