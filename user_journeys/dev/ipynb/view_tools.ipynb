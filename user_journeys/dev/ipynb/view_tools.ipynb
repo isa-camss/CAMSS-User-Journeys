{
 "cells": [
  {
   "cell_type": "markdown",
   "metadata": {},
   "source": [
    "<nav>\n",
    "  <a href=\"view_home.ipynb\">Home</a> &nbsp;&nbsp;&nbsp;\n",
    "  <a href=\"view_journeys.ipynb\">User Journeys</a> &nbsp;&nbsp;&nbsp;\n",
    "  <a href=\"view_ecosystem.ipynb\">CAMSS Ecosystem</a> &nbsp;&nbsp;&nbsp;\n",
    "  <a href=\"view_glossary.ipynb\">Glossary</a> &nbsp;&nbsp;&nbsp;\n",
    "  <a href=\"view_about.ipynb\">About us</a> &nbsp;&nbsp;&nbsp;\n",
    "</nav>"
   ]
  },
  {
   "cell_type": "markdown",
   "metadata": {},
   "source": [
    "<table>\n",
    "    <tr>\n",
    "        <td> <img src='../img/camss_tools.jpg' alt='tools logo' style='width:110px;height:100px;border-radius:3px'/>\n",
    "        </td>\n",
    "        <td> <img src='../img/european-union-logo.png' alt='EU logo' style='width:150px;height:100px;border-radius:3px'/> \n",
    "        </td>\n",
    "    </tr>\n",
    "</table>"
   ]
  },
  {
   "cell_type": "markdown",
   "metadata": {},
   "source": [
    "<strong> <h1 style='text-align: center;'> CAMSS TOOLS </h1> <strong/>"
   ]
  },
  {
   "cell_type": "markdown",
   "metadata": {},
   "source": [
    "<p>\n",
    "    CAMSS Tools are the assessment tools provided by the CAMSS Team. They are publicly available and support the fulfilment\n",
    "    of assessments of standards and technical specifications. <a href='https://joinup.ec.europa.eu/collection/common-assessment-method-standards-and-specifications-camss/solution/camss-tools/about'>Read more</a>. <br><br> \n",
    "</p>"
   ]
  },
  {
   "cell_type": "markdown",
   "metadata": {},
   "source": [
    "<strong> <h3>CAMSS Tools have 10 releases </h3> <strong/>\n",
    "<p>The latest release of this solution provides publicly available tools to meet the assessments of Technical Specifications or Standards with <a href='view_glossary.ipynb'>EIF</a>, <a href='view_glossary.ipynb'>MSP</a> and <a href='view_glossary.ipynb'>TS</a> scenarios.</p>"
   ]
  },
  {
   "cell_type": "markdown",
   "metadata": {},
   "source": [
    "<center>\n",
    "     <a href=\"https://joinup.ec.europa.eu/collection/common-assessment-method-standards-and-specifications-camss/solution/camss-tools/release/v400\">\n",
    "         <img src='../img/camss_tools/tools_4.0.0.jpg' alt='camss tools release 4.0.0' style='width:180px;height:100px;border-radius:15px'/>\n",
    "     </a>\n",
    "    <a href=\"https://joinup.ec.europa.eu/collection/common-assessment-method-standards-and-specifications-camss/solution/camss-tools/release/v310\">\n",
    "         <img src='../img/camss_tools/tools_3.1.0.jpg' alt='camss tools release 3.1.0' style='width:180px;height:100px;border-radius:15px'/>\n",
    "    </a>\n",
    "    <a href=\"https://joinup.ec.europa.eu/collection/common-assessment-method-standards-and-specifications-camss/solution/camss-tools/release/v300\">\n",
    "         <img src='../img/camss_tools/tools_3.0.0.jpg' alt='camss tools release 3.0.0' style='width:180px;height:100px;border-radius:15px'/>\n",
    "    </a>\n",
    "    <a href=\"https://joinup.ec.europa.eu/collection/common-assessment-method-standards-and-specifications-camss/solution/camss-tools/release/v210-beta\">\n",
    "         <img src='../img/camss_tools/tools_2.1.0.jpg' alt='camss tools release 2.1.0' style='width:180px;height:100px;border-radius:15px'/>\n",
    "    </a>\n",
    "    <a href=\"https://joinup.ec.europa.eu/collection/common-assessment-method-standards-and-specifications-camss/solution/camss-tools/release/v200\">\n",
    "         <img src='../img/camss_tools/tools_2.0.0.jpg' alt='camss tools release 2.0.0' style='width:180px;height:100px;border-radius:15px'/>\n",
    "    </a>\n",
    "</center>"
   ]
  },
  {
   "cell_type": "markdown",
   "metadata": {},
   "source": [
    "<center>\n",
    "    <a href=\"https://joinup.ec.europa.eu/collection/common-assessment-method-standards-and-specifications-camss/solution/camss-tools/release/v110\">\n",
    "        <img src='../img/camss_tools/tools_1.1.0.jpg' alt='camss tools release 1.1.0' style='width:180px;height:100px;border-radius:15px'/>\n",
    "    </a>\n",
    "    <a href=\"https://joinup.ec.europa.eu/collection/common-assessment-method-standards-and-specifications-camss/solution/camss-tools/release/v100\">\n",
    "         <img src='../img/camss_tools/tools_1.0.0.jpg' alt='camss tools release 1.0.0' style='width:180px;height:100px;border-radius:15px'/>\n",
    "    </a>\n",
    "    <a a href=\"https://joinup.ec.europa.eu/collection/common-assessment-method-standards-and-specifications-camss/solution/camss-tools/release/v09\">\n",
    "         <img src='../img/camss_tools/tools_0.9.jpg' alt='camss tools release 0.9' style='width:180px;height:100px;border-radius:15px'/>\n",
    "    </a>\n",
    "    <a href=\"https://joinup.ec.europa.eu/collection/common-assessment-method-standards-and-specifications-camss/solution/camss-tools/release/v04\">\n",
    "        <img src='../img/camss_tools/tools_0.4.jpg' alt='camss tools release 0.4' style='width:180px;height:100px;border-radius:15px'/>\n",
    "    </a>\n",
    "    <a href=\"https://joinup.ec.europa.eu/collection/common-assessment-method-standards-and-specifications-camss/solution/camss-tools/release/v03\">\n",
    "         <img src='../img/camss_tools/tools_0.3.jpg' alt='camss tools release 0.3' style='width:180px;height:100px;border-radius:15px'/>\n",
    "    </a>\n",
    "</center>"
   ]
  },
  {
   "cell_type": "markdown",
   "metadata": {},
   "source": [
    "<p>TODO: to comment about EUSurvey</p>"
   ]
  },
  {
   "cell_type": "code",
   "execution_count": null,
   "metadata": {},
   "outputs": [],
   "source": []
  }
 ],
 "metadata": {
  "kernelspec": {
   "display_name": "Python 3",
   "language": "python",
   "name": "python3"
  },
  "language_info": {
   "codemirror_mode": {
    "name": "ipython",
    "version": 3
   },
   "file_extension": ".py",
   "mimetype": "text/x-python",
   "name": "python",
   "nbconvert_exporter": "python",
   "pygments_lexer": "ipython3",
   "version": "3.8.5"
  }
 },
 "nbformat": 4,
 "nbformat_minor": 5
}
