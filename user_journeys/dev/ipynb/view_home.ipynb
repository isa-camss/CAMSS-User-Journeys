{
 "cells": [
  {
   "cell_type": "markdown",
   "metadata": {
    "tags": []
   },
   "source": [
    "<nav>\n",
    "  <a href=\"view_home.ipynb\">Home</a> &nbsp;&nbsp;&nbsp;\n",
    "  <a href=\"view_journeys.ipynb\">User Journeys</a> &nbsp;&nbsp;&nbsp;\n",
    "  <a href=\"view_ecosystem.ipynb\">CAMSS Ecosystem</a> &nbsp;&nbsp;&nbsp;\n",
    "  <a href=\"view_glossary.ipynb\">Glossary</a> &nbsp;&nbsp;&nbsp;\n",
    "</nav>"
   ]
  },
  {
   "cell_type": "markdown",
   "metadata": {},
   "source": [
    "<table>\n",
    "    <tr>\n",
    "        <td> <img src='../img/logo1.jpg' alt='assessment logo' width=110px height=100px margin-right=10px/>\n",
    "        </td>\n",
    "        <td> <img src='../img/european-union-logo.png' alt='EU logo' width=160px height=100px/> \n",
    "        </td>\n",
    "    </tr>\n",
    "</table>"
   ]
  },
  {
   "cell_type": "markdown",
   "metadata": {
    "tags": []
   },
   "source": [
    "<center>\n",
    "    <h1 style='text-align: center;font-weight: bold;'> \n",
    "        CAMSS <br>Common Assessment Method for Standards and Specifications\n",
    "    </h1>\n",
    "</center>"
   ]
  },
  {
   "cell_type": "markdown",
   "metadata": {},
   "source": [
    "<p style='text-align: justify'>\n",
    "    CAMSS is the European guide for assessing and selecting standards and specifications for an eGovernment project, a reference when building an architecture and an enabler for justifying the choice of standards and specifications in terms of interoperability needs and requirements. It is fully aligned with the European Standardisation Regulation 1025/2012.<br>CAMSS will be useful if you want to use ICT standards or specifications in the procurement and implementation of your regional, national or cross-border ICT services. You want to ensure that you choose the best ICT standards or specifications available to meet your business needs. More information is available on the <a href='https://joinup.ec.europa.eu/collection/common-assessment-method-standards-and-specifications-camss/about'>CAMSS page</a> on Joinup.<br><br> The purposes of CAMSS is:\n",
    "</p>\n",
    "        <ul style='text-align: justify'>\n",
    "            <li>to ensure that assessments of technical ICT specifications or standards and interoperability profiles are performed according to high and consistent standards</li>\n",
    "            <li>to ensure that assessments will contribute significantly to confidence in the interoperability of systems implementing these specifications and profiles;</li>\n",
    "            <li>to enable the reuse, in whole or in part, of such assessments;</li>\n",
    "            <li>to continuously improve the efficiency and effectiveness of the assessment process for ICT technical specifications, standards and interoperability profiles.</li>\n",
    "        </ul>      \n",
    "\n",
    "<p style='text-align: justify'>\n",
    "    This Jupyter notebook has been developed with the purpose of facilitating the use of the tools to CAMSS users according to their role.<br>So to give you a good experience and ensure you get the right information for you, tell us more about your role by <a href='view_journeys.ipynb'>clicking here</a>.\n",
    "</p>"
   ]
  },
  {
   "cell_type": "code",
   "execution_count": null,
   "metadata": {},
   "outputs": [],
   "source": []
  }
 ],
 "metadata": {
  "kernelspec": {
   "display_name": "camss journeys env",
   "language": "python",
   "name": ".env"
  },
  "language_info": {
   "codemirror_mode": {
    "name": "ipython",
    "version": 3
   },
   "file_extension": ".py",
   "mimetype": "text/x-python",
   "name": "python",
   "nbconvert_exporter": "python",
   "pygments_lexer": "ipython3",
   "version": "3.8.5"
  }
 },
 "nbformat": 4,
 "nbformat_minor": 5
}
