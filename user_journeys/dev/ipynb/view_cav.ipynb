{
 "cells": [
  {
   "cell_type": "markdown",
   "metadata": {},
   "source": [
    "<nav>\n",
    "  <a href=\"view_home.ipynb\">Home</a> &nbsp;&nbsp;&nbsp;\n",
    "  <a href=\"view_journeys.ipynb\">User Journeys</a> &nbsp;&nbsp;&nbsp;\n",
    "  <a href=\"view_ecosystem.ipynb\">CAMSS Ecosystem</a> &nbsp;&nbsp;&nbsp;\n",
    "  <a href=\"view_glossary.ipynb\">Glossary</a> &nbsp;&nbsp;&nbsp;\n",
    "  <a href=\"view_about.ipynb\">About us</a> &nbsp;&nbsp;&nbsp;\n",
    "</nav>"
   ]
  },
  {
   "cell_type": "markdown",
   "metadata": {},
   "source": [
    "<center>\n",
    "    <img src='../img/camss_cav.jpg' alt='cav logo' style='width:110px;height:100px;border-radius:3px;margin-right:10px'/>\n",
    "    <img src='../img/european-union-logo.png' alt='EU logo' style='width:150px;height:100px;border-radius:3px'/>\n",
    "</center>"
   ]
  },
  {
   "cell_type": "markdown",
   "metadata": {},
   "source": [
    "<h1 style='text-align: center;font-weight: bold;'> \n",
    "    Core Assessment Vocabulary <br>CAV\n",
    "</h1"
   ]
  },
  {
   "cell_type": "markdown",
   "metadata": {},
   "source": [
    "<p> \n",
    "Work in progress.  \n",
    "    Frase explicativa de qué es? \n",
    "    presentar el modelo conceptual (data model)\n",
    "    acceso a las releases en joinup\n",
    "    que apunte a los user Journeys --> para consulta de especificaciones\n",
    "</p>"
   ]
  },
  {
   "cell_type": "markdown",
   "metadata": {},
   "source": [
    "<p style='text-align: justify'>\n",
    "    The Core Assessment Vocabulary represents and defines what an “Assessment” of “assets” is and how to perform the assessment based on “Criteria”. It is a domain-agnostic vocabulary, meaning that it can be used to assess any type of assets.\n",
    "    <a href='https://joinup.ec.europa.eu/collection/common-assessment-method-standards-and-specifications-camss/solution/core-assessment-vocabulary-cav/about'>Read more</a>.  \n",
    "</p>"
   ]
  },
  {
   "cell_type": "markdown",
   "metadata": {},
   "source": [
    "<h2 style='font-weight: bold;'> \n",
    "    CAV Conceptual Overview\n",
    "</h2>\n",
    "<p style='text-align: justify'> \n",
    "The following figure shows the classes and properties that are used or defined in the vocabulary:\n",
    "</p>"
   ]
  },
  {
   "cell_type": "markdown",
   "metadata": {},
   "source": [
    "<center>\n",
    "    <img src='../img/camss_cav/cav_conceptual_model.jpg' alt='CAV conceptual overview' style='width:100%;height:100%;border-radius:3px;align:\"center\"'/>\n",
    "</center>"
   ]
  },
  {
   "cell_type": "markdown",
   "metadata": {},
   "source": [
    "<h2 style='font-weight: bold;'> \n",
    "    CAMSS CAV releases\n",
    "</h2>\n",
    "<p>CAMSS CAV has 2 releases, you can enter each version by clicking on the releases below.</p>"
   ]
  },
  {
   "cell_type": "markdown",
   "metadata": {},
   "source": [
    "<center>\n",
    "    <div>\n",
    "        <a href=\"https://joinup.ec.europa.eu/collection/common-assessment-method-standards-and-specifications-camss/solution/core-assessment-vocabulary-cav/release/v100\">\n",
    "            <img src='../img/camss_cav/camss_cav_100.jpg' alt='camss cav release 1.0.0' style='width:180px;height:100px;border-radius:15px'/>\n",
    "        </a>\n",
    "        <a href=\"https://joinup.ec.europa.eu/collection/common-assessment-method-standards-and-specifications-camss/solution/core-assessment-vocabulary-cav/release/v100-beta\">\n",
    "            <img src='../img/camss_cav/camss_cav_100b.jpg' alt='camss cav release 1.0.0 beta' style='width:180px;height:100px;border-radius:15px'/>\n",
    "        </a>\n",
    "    </div>     \n",
    "</center>"
   ]
  },
  {
   "cell_type": "markdown",
   "metadata": {},
   "source": [
    "<p style='text-align: justify'> \n",
    "You can also to interact with the Specifications through this jupiter notebook, to do that it is important that you identify your role in the <a href=\"view_journeys.ipynb\">user journeys</a> section and we will guide you to obtain the information that best suits you from the <a href='http://publications.europa.eu/webapi/rdf/sparql'>CELLAR's Virtuoso endpoint</a> launching the queries and retrieving the data.\n",
    "</p>"
   ]
  },
  {
   "cell_type": "code",
   "execution_count": null,
   "metadata": {},
   "outputs": [],
   "source": []
  }
 ],
 "metadata": {
  "kernelspec": {
   "display_name": "Python 3",
   "language": "python",
   "name": "python3"
  },
  "language_info": {
   "codemirror_mode": {
    "name": "ipython",
    "version": 3
   },
   "file_extension": ".py",
   "mimetype": "text/x-python",
   "name": "python",
   "nbconvert_exporter": "python",
   "pygments_lexer": "ipython3",
   "version": "3.8.5"
  }
 },
 "nbformat": 4,
 "nbformat_minor": 5
}
