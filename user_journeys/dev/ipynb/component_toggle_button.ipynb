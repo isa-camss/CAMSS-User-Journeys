{
 "cells": [
  {
   "cell_type": "code",
   "execution_count": 2,
   "metadata": {},
   "outputs": [],
   "source": [
    "import sys\n",
    "sys.path.append('../')\n",
    "import requests\n",
    "import ipywidgets as widgets\n",
    "import pandas as pd\n",
    "import json\n",
    "from ipywidgets import Layout, AppLayout, Button, ToggleButtons\n",
    "from pprint import pprint\n",
    "import cfg.sparql as sparql"
   ]
  },
  {
   "cell_type": "code",
   "execution_count": 10,
   "metadata": {},
   "outputs": [
    {
     "data": {
      "application/vnd.jupyter.widget-view+json": {
       "model_id": "7820e4fd79904795852ae038e6ae7e86",
       "version_major": 2,
       "version_minor": 0
      },
      "text/plain": [
       "Tab(children=(Output(), Output(), Output()), _titles={'0': 'Tab 0', '1': 'Tab 1', '2': 'Tab 2'})"
      ]
     },
     "metadata": {},
     "output_type": "display_data"
    }
   ],
   "source": [
    "from IPython.display import clear_output, display\n",
    "import time\n",
    "import ipywidgets as widgets\n",
    "from functools import lru_cache\n",
    "\n",
    "# set up a dictionary of Output widgets\n",
    "outputs = {i: widgets.Output() for i in range(0,3)}\n",
    "\n",
    "# add the Output widgets as tab childen\n",
    "tab = widgets.Tab()\n",
    "tab.children = list(outputs.values())\n",
    "for i, title in outputs.items():\n",
    "    tab.set_title(i, 'Tab '+str(i))\n",
    "\n",
    "def print_on_select(widget):\n",
    "# get the correct Output widget based on the index of the chosen tab\n",
    "    tab_idx = widget['new']\n",
    "    output_widget = outputs[tab_idx]\n",
    "    with output_widget:\n",
    "        clear_output()\n",
    "        print('running long function')\n",
    "        value = long_running_function(tab_idx)\n",
    "        clear_output()\n",
    "        print(value)\n",
    "\n",
    "@lru_cache(32)\n",
    "def long_running_function(tab_idx):\n",
    "        time.sleep(2)\n",
    "        return 'this is tab number ' + str(tab_idx)\n",
    "\n",
    "tab.observe(print_on_select, names='selected_index')\n",
    "\n",
    "display(tab)"
   ]
  },
  {
   "cell_type": "code",
   "execution_count": null,
   "metadata": {},
   "outputs": [],
   "source": []
  },
  {
   "cell_type": "code",
   "execution_count": 6,
   "metadata": {},
   "outputs": [
    {
     "name": "stdout",
     "output_type": "stream",
     "text": [
      "\n",
      "        PREFIX camssa: <http://data.europa.eu/2sa/assessments/>\n",
      "        PREFIX cssvrsc: <http://data.europa.eu/2sa/cssv/rsc/>\n",
      "        PREFIX sc: <http://data.europa.eu/2sa/scenarios#>\n",
      "        PREFIX rdf: <http://www.w3.org/1999/02/22-rdf-syntax-ns#>\n",
      "        PREFIX cav: <http://data.europa.eu/2sa/cav#>\n",
      "        PREFIX camss: <http://data.europa.eu/2sa#>\n",
      "        PREFIX cssv: <http://data.europa.eu/2sa/cssv#>\n",
      "        PREFIX dct: <http://purl.org/dc/terms/>\n",
      "        \n",
      "        select distinct ?Assessment ?Scenario\n",
      "        where {\n",
      "            ?assObj rdf:type cav:Assessment ;\n",
      "                cav:contextualisedBy ?scObj ;\n",
      "                dct:title ?Assessment .\n",
      "            ?scObj rdf:type cav:Scenario ;\n",
      "                dct:title ?Scenario.\n",
      "        }\n",
      "    \n"
     ]
    }
   ],
   "source": [
    "query = sparql.QUERY_ASSESSMENTS\n",
    "\n",
    "print(query)"
   ]
  },
  {
   "cell_type": "code",
   "execution_count": 5,
   "metadata": {},
   "outputs": [
    {
     "data": {
      "application/vnd.jupyter.widget-view+json": {
       "model_id": "f50989ef238d4b0394d0aae8abdbffb3",
       "version_major": 2,
       "version_minor": 0
      },
      "text/plain": [
       "ToggleButtons(options=('Query A', 'Query B', 'Query C', 'Query D'), value='Query A')"
      ]
     },
     "metadata": {},
     "output_type": "display_data"
    },
    {
     "data": {
      "application/vnd.jupyter.widget-view+json": {
       "model_id": "73cea17a5ae446e490277ba111bb8a9d",
       "version_major": 2,
       "version_minor": 0
      },
      "text/plain": [
       "Textarea(value='', layout=Layout(height='300px', width='100%'), placeholder='Type a query')"
      ]
     },
     "metadata": {},
     "output_type": "display_data"
    },
    {
     "data": {
      "application/vnd.jupyter.widget-view+json": {
       "model_id": "4cc5d9318f454ed5a34e5effb673238d",
       "version_major": 2,
       "version_minor": 0
      },
      "text/plain": [
       "Button(description='Run', style=ButtonStyle())"
      ]
     },
     "metadata": {},
     "output_type": "display_data"
    },
    {
     "data": {
      "application/vnd.jupyter.widget-view+json": {
       "model_id": "c07fb8d23495494facd5d98e77ffebdd",
       "version_major": 2,
       "version_minor": 0
      },
      "text/plain": [
       "Output()"
      ]
     },
     "metadata": {},
     "output_type": "display_data"
    }
   ],
   "source": [
    "# GLOBAL VARIABLES\n",
    "\n",
    "URL_MICROSERVICE= 'http://localhost:5100/assessments/get_assessments'\n",
    "\n",
    "# UI COMPONENTS\n",
    "\n",
    "# Toggle buttons for default queries selection\n",
    "button_option= ToggleButtons(options=['Query A', 'Query B', 'Query C', 'Query D'])\n",
    "display(button_option)\n",
    "\n",
    "def changed(change):\n",
    "    button_value = button_option.value\n",
    "    query_1 = 'Query a'\n",
    "    query_2 = 'Query b'\n",
    "    query_3 = 'Query c'\n",
    "    query_4 = 'Query d'\n",
    "    \n",
    "    if button_value == 'Query A':\n",
    "        TEXT_AREA.value = query_1\n",
    "        print(query_1)\n",
    "    elif button_value == 'Query B':\n",
    "        TEXT_AREA.value = query_2\n",
    "        print(query_2)\n",
    "    elif button_value == 'Query C':\n",
    "        TEXT_AREA.value = query_3\n",
    "        print(query_3)\n",
    "    elif button_value == 'Query D':\n",
    "        TEXT_AREA.value = query_4\n",
    "        print(query_4)\n",
    "        \n",
    "button_option.observe(changed, 'value')\n",
    "\n",
    "# Text area to hold query value\n",
    "TEXT_AREA = widgets.Textarea(value='', placeholder='Type a query', layout=Layout(width='100%',height='300px'))\n",
    "display(TEXT_AREA)\n",
    "\n",
    "# Button to send query\n",
    "\n",
    "button= widgets.Button(description='Run')\n",
    "output= widgets.Output()\n",
    "display(button, output)\n",
    "\n",
    "# QUERY FUNCTIONS\n",
    "\n",
    "# Method to execute query\n",
    "@output.capture()\n",
    "def send_query(q):\n",
    "    query= TEXT_AREA.value\n",
    "    params= {'sparql_query': query}\n",
    "    msg= requests.post(url= URL_MICROSERVICE, params= params)\n",
    "    response_json = msg.json()\n",
    "    df_assessments = pd.DataFrame(response_json, columns=['Assessments', 'Scenario'])\n",
    "    pprint(df_assessments)\n",
    "    \n",
    "    \n",
    "button.on_click(send_query)"
   ]
  }
 ],
 "metadata": {
  "kernelspec": {
   "display_name": "Python 3",
   "language": "python",
   "name": "python3"
  },
  "language_info": {
   "codemirror_mode": {
    "name": "ipython",
    "version": 3
   },
   "file_extension": ".py",
   "mimetype": "text/x-python",
   "name": "python",
   "nbconvert_exporter": "python",
   "pygments_lexer": "ipython3",
   "version": "3.8.5"
  }
 },
 "nbformat": 4,
 "nbformat_minor": 5
}
