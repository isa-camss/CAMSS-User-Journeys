{
 "cells": [
  {
   "cell_type": "markdown",
   "metadata": {},
   "source": [
    "<nav>\n",
    "  <a href=\"../view_assessments_software.ipynb\">Back</a> &nbsp;&nbsp;&nbsp;\n",
    "</nav>"
   ]
  },
  {
   "cell_type": "markdown",
   "metadata": {},
   "source": [
    "<strong> <h1 style='text-align: center;'> SOFTWARE ENGINEER'S UI CODE <br>FOR QUERYING CELLAR TRIPLESTORE ASSESSMENTS </h1> <strong/>"
   ]
  },
  {
   "cell_type": "markdown",
   "metadata": {},
   "source": [
    "<strong> <h2>1. Import resources </h2> <strong/>\n",
    "    \n",
    "<p>The following block is importing:</p>\n",
    "     <ul>\n",
    "      <li>The module with the global variables to allow you connect to the API that performs the Cellar Triplestore query and also have a query collection.</li>\n",
    "      <li>The libraries needed to create the UI components and format results.</li>\n",
    "    </ul>"
   ]
  },
  {
   "cell_type": "code",
   "execution_count": 1,
   "metadata": {},
   "outputs": [],
   "source": [
    "import sys\n",
    "sys.path.append('../../')\n",
    "import requests\n",
    "import ipywidgets as widgets\n",
    "from ipywidgets import Layout, AppLayout\n",
    "import pandas as pd\n",
    "import json\n",
    "from pprint import pprint\n",
    "import cfg.ctt as ctt"
   ]
  },
  {
   "cell_type": "markdown",
   "metadata": {},
   "source": [
    "<strong> <h2>2. Variables </h2> <strong/>\n",
    "    \n",
    "<p>The following block is defining the global variables necessary to this UI module</p>"
   ]
  },
  {
   "cell_type": "code",
   "execution_count": 2,
   "metadata": {},
   "outputs": [],
   "source": [
    "TAB_IDX = 0"
   ]
  },
  {
   "cell_type": "markdown",
   "metadata": {},
   "source": [
    "<strong> <h2>3. UI component </h2> <strong/>\n",
    "    \n",
    "<p>The following block makes use of <a href='https://ipywidgets.readthedocs.io/en/latest/index.html'>Ipywidgets Library</a> for the creation of the ui component used by the user to interact with SPARQL queries. The widgets used are:</p>\n",
    "    <ul>\n",
    "      <li>1. <u>Tab</u> it is used as container to hold other widgets called children. Allows to distribute the content by tabs\n",
    "          depending on what to show the user for each tab.</li>\n",
    "      <li>2. <u>VBox</u> it is used as Layout of conatiner widtget to organise the children widgets vertically</li>\n",
    "      <li>2. <u>HTML</u> is used to display a string value. Allows format it with css styles. </li>\n",
    "      <li>3. <u>Textarea</u> is a widget that accept the user's input. </li>\n",
    "      <li>4. <u>Button</u> is used to trigger an event</li>\n",
    "      <li>4. <u>Output</u> is the event that captures the return of the function that sends the query to the API to make SPARQL queries \n",
    "          to the CELLAR Triplestore Endpoint.</li>\n",
    "    </ul>"
   ]
  },
  {
   "cell_type": "code",
   "execution_count": 3,
   "metadata": {},
   "outputs": [
    {
     "data": {
      "text/plain": [
       "[None, None, None, None]"
      ]
     },
     "execution_count": 3,
     "metadata": {},
     "output_type": "execute_result"
    }
   ],
   "source": [
    "list_title_tab = [widgets.HTML(value = dict_value['title'], layout=Layout(width='10%x')) \n",
    "                        for dict_value in ctt.SOFTWARE_USE_CASES]\n",
    "\n",
    "list_description_tab = [widgets.HTML(value = dict_value['description'], layout=Layout(width='10%x')) \n",
    "                        for dict_value in ctt.SOFTWARE_USE_CASES]\n",
    "\n",
    "list_text_area = [widgets.Textarea(value = dict_value['query_value'], placeholder='Type a query', layout=Layout(width='95%',height='200px'))\n",
    "           for dict_value in ctt.SOFTWARE_USE_CASES]\n",
    "\n",
    "button = widgets.Button(description=\"Run\")\n",
    "\n",
    "tab_content = [widgets.VBox([list_title_tab[i], list_description_tab[i], list_text_area[i], button]) \n",
    "               for i, tab_widget in enumerate(list_text_area)]\n",
    "\n",
    "tab= widgets.Tab()\n",
    "tab.children = tab_content\n",
    "[tab.set_title(i, dict_value['name']) for i, dict_value in enumerate(ctt.SOFTWARE_USE_CASES)]"
   ]
  },
  {
   "cell_type": "markdown",
   "metadata": {},
   "source": [
    "<strong> <h2>4. Functions </h2> <strong/>\n",
    "    \n",
    "<p>The following code blocks define the functions needed to assign the values to the tab widget and communicate with the Assessments API Microservice developed by CAMSS Team:</p>"
   ]
  },
  {
   "cell_type": "markdown",
   "metadata": {},
   "source": [
    "<strong> <h4> a. get_tab_index function:</h4> <strong/>\n",
    "<p> Method to get the correct Output widget based on the index of the chosen tab. </p"
   ]
  },
  {
   "cell_type": "code",
   "execution_count": null,
   "metadata": {},
   "outputs": [],
   "source": [
    "def get_tab_index(widget):\n",
    "    global TAB_IDX\n",
    "    TAB_IDX = widget['new']\n",
    "    pprint(TAB_IDX)"
   ]
  },
  {
   "cell_type": "markdown",
   "metadata": {},
   "source": [
    "<strong> <h4> b. send_query function:</h4> <strong/>\n",
    "<p> Method to run the Assessments API Microservice that sends SPARQL queries to the <a href='https://op.europa.eu/en/publication-detail/-/publication/50ecce27-857e-11e8-ac6a-01aa75ed71a1/language-en![image.png](attachment:5b22dba6-96ba-4400-b673-bbe75d4ffc94.png)![image.png](attachment:e7844137-cf8f-4f96-8352-da68895f17b9.png)![image.png](attachment:8b52e53f-2939-4729-b535-98b4f70f2874.png)'>CELLAR's Virtuoso endpoint.</a></p"
   ]
  },
  {
   "cell_type": "code",
   "execution_count": 5,
   "metadata": {},
   "outputs": [],
   "source": [
    "output= widgets.Output()\n",
    "\n",
    "@output.capture()\n",
    "def send_query(q):\n",
    "    global TAB_IDX\n",
    "    query= list_text_area[TAB_IDX].value\n",
    "    params= {'sparql_query': query}\n",
    "    msg = requests.post(url= ctt.URL_MICROSERVICE, params= params)\n",
    "    if msg.status_code < 200 and msg.status_code > 299:\n",
    "    # response_json = msg.json()\n",
    "        #df_assessments = pd.DataFrame(msg)\n",
    "        pprint(msg)\n",
    "    else:\n",
    "        pprint(msg.content)"
   ]
  },
  {
   "cell_type": "markdown",
   "metadata": {},
   "source": [
    "<strong> <h4> c. format_results_query function:</h4> <strong/>\n",
    "<p> Method to format query results into interactive tables to allow the user to interact with their content</p"
   ]
  },
  {
   "cell_type": "code",
   "execution_count": null,
   "metadata": {},
   "outputs": [],
   "source": []
  },
  {
   "cell_type": "markdown",
   "metadata": {},
   "source": [
    "<strong> <h2>5. Display UI </h2> <strong/>"
   ]
  },
  {
   "cell_type": "code",
   "execution_count": 6,
   "metadata": {},
   "outputs": [
    {
     "data": {
      "application/vnd.jupyter.widget-view+json": {
       "model_id": "a9acd294efe74292bbf9eec537b86590",
       "version_major": 2,
       "version_minor": 0
      },
      "text/plain": [
       "Tab(children=(VBox(children=(HTML(value='SPECIFICATIONS ASSOCIATED TO EIRA ABBs', layout=Layout(width='10%x'))…"
      ]
     },
     "metadata": {},
     "output_type": "display_data"
    },
    {
     "data": {
      "application/vnd.jupyter.widget-view+json": {
       "model_id": "f0d4632dff4f49c69c25dea70b763c5a",
       "version_major": 2,
       "version_minor": 0
      },
      "text/plain": [
       "Output()"
      ]
     },
     "metadata": {},
     "output_type": "display_data"
    }
   ],
   "source": [
    "display(tab, output)\n",
    "\n",
    "tab.observe(get_tab_index, names='selected_index')\n",
    "button.on_click(send_query)\n"
   ]
  },
  {
   "cell_type": "code",
   "execution_count": null,
   "metadata": {},
   "outputs": [],
   "source": []
  },
  {
   "cell_type": "code",
   "execution_count": null,
   "metadata": {},
   "outputs": [],
   "source": []
  }
 ],
 "metadata": {
  "kernelspec": {
   "display_name": "Python 3",
   "language": "python",
   "name": "python3"
  },
  "language_info": {
   "codemirror_mode": {
    "name": "ipython",
    "version": 3
   },
   "file_extension": ".py",
   "mimetype": "text/x-python",
   "name": "python",
   "nbconvert_exporter": "python",
   "pygments_lexer": "ipython3",
   "version": "3.8.5"
  }
 },
 "nbformat": 4,
 "nbformat_minor": 4
}
