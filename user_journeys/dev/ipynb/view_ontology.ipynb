{
 "cells": [
  {
   "cell_type": "markdown",
   "metadata": {},
   "source": [
    "<nav>\n",
    "  <a href=\"view_home.ipynb\">Home</a> &nbsp;&nbsp;&nbsp;\n",
    "  <a href=\"view_journeys.ipynb\">User Journeys</a> &nbsp;&nbsp;&nbsp;\n",
    "  <a href=\"view_ecosystem.ipynb\">CAMSS Ecosystem</a> &nbsp;&nbsp;&nbsp;\n",
    "  <a href=\"view_glossary.ipynb\">Glossary</a> &nbsp;&nbsp;&nbsp;\n",
    "</nav>"
   ]
  },
  {
   "cell_type": "markdown",
   "metadata": {},
   "source": [
    "<center>\n",
    "    <table>\n",
    "        <tr>\n",
    "            <td> <img src='../img/camss_ontology.jpg' alt='ontology logo' width=110px height=100px margin-right=10px/>\n",
    "            </td>\n",
    "            <td> <img src='../img/european-union-logo.png' alt='EU logo' width=160px height=100px/> \n",
    "            </td>\n",
    "        </tr>\n",
    "    </table>\n",
    "</center>"
   ]
  },
  {
   "cell_type": "markdown",
   "metadata": {},
   "source": [
    "<center>\n",
    "    <h1 style='text-align: center;font-weight: bold;'> \n",
    "        CAMSS ONTOLOGY\n",
    "    </h1>\n",
    "</center>"
   ]
  },
  {
   "cell_type": "markdown",
   "metadata": {
    "tags": []
   },
   "source": [
    "<p style='text-align: justify'>\n",
    "    The CAMSS Ontology is a formal description of knowledge as a set of concepts within the CAMSS domain and the axioms connecting its concepts and allowing for logic inferences. You can read more on the \n",
    "    <a href='https://joinup.ec.europa.eu/collection/common-assessment-method-standards-and-specifications-camss/solution/camss-ontology/about'>Joinup website</a>.  \n",
    "</p>"
   ]
  },
  {
   "cell_type": "markdown",
   "metadata": {},
   "source": [
    "<h2 style='font-weight: bold;'> \n",
    "    Ontology Conceptual Overview\n",
    "</h2>\n",
    "<p style='text-align: justify'> \n",
    "The figure below shows the classes and properties used or defined in the \n",
    "CAMSS Ontology. This ontology, which has its own namespace, reuses two classes and one \n",
    "property from two different vocabularies (CAV and CSSV). What is specific to the CAMSS \n",
    "Ontology is the fact that its domain is “the assessment of specifications”.</p>"
   ]
  },
  {
   "cell_type": "markdown",
   "metadata": {},
   "source": [
    "<center>\n",
    "    <img src='../img/camss_ontology/ontology_conceptual_model.jpg' alt='Ontology conceptual overview' style='width:100%;height:100%;border-radius:3px;align:\"center\"'/>\n",
    "</center>"
   ]
  },
  {
   "cell_type": "markdown",
   "metadata": {},
   "source": [
    "<p style='text-align: justify'> \n",
    "Hence, the implementation of the CAMSS Ontology as a Knowledge Base (KB) would amount to stating these facts:\n",
    "</p>\n",
    "    <ul style='text-align: justify'>\n",
    "      <li>The terminology (or T-Box) is defined by the CAV and the CSSV vocabularies;</li>\n",
    "      <li>The assertions (in the A-Box) would encompass all the opinions and facts expressed in each existing CAMSS Assessments, once transposed into triples and stores in the KB;</li>\n",
    "      <li>The fact that CAMSS assess only specifications (and all its descendants) is the specific constraint that makes the CAMSS Ontology a domain of its own, with a unique namespace. For this release of the CAMSS Ontology, SHACL shapes have been created to represent the CAMSS Ontology constraints;</li>\n",
    "    </ul>"
   ]
  },
  {
   "cell_type": "markdown",
   "metadata": {},
   "source": [
    "<h2 style='font-weight: bold;'> \n",
    "    CAMSS Ontology Releases\n",
    "</h2>\n",
    "<p>CAMSS Ontology has 2 releases, you can enter each version by clicking on the releases below.</p>"
   ]
  },
  {
   "cell_type": "markdown",
   "metadata": {},
   "source": [
    "<center>\n",
    "    <table>\n",
    "        <tr>\n",
    "            <td><a href=\"https://joinup.ec.europa.eu/collection/common-assessment-method-standards-and-specifications-camss/solution/camss-ontology/release/v100\">\n",
    "                <img src='../img/camss_ontology/camss_ontology_100.jpg' alt='camss ontology release 1.0.0' width=180px height=100px border-radius=15px/></a>\n",
    "            </td>\n",
    "            <td><a href=\"https://joinup.ec.europa.eu/collection/common-assessment-method-standards-and-specifications-camss/solution/camss-ontology/release/v110-beta\">\n",
    "                <img src='../img/camss_ontology/camss_ontology_110b.jpg' alt='camss ontology release 1.1.0 Beta' width=180px height=100px border-radius=15px/></a>\n",
    "            </td>\n",
    "        </tr>\n",
    "    </table>\n",
    "</center>"
   ]
  },
  {
   "cell_type": "markdown",
   "metadata": {},
   "source": [
    "<p style='text-align: justify'> \n",
    "You can also to interact with the Ontology through this jupiter notebook, to do that it is important that you identify your role in the <a href=\"view_journeys.ipynb\">user journeys</a> section and we will guide you to obtain the information that best suits you from the <a href='http://publications.europa.eu/webapi/rdf/sparql'>CELLAR's Virtuoso endpoint</a> launching the queries and retrieving the data.\n",
    "</p>"
   ]
  },
  {
   "cell_type": "code",
   "execution_count": null,
   "metadata": {},
   "outputs": [],
   "source": []
  }
 ],
 "metadata": {
  "kernelspec": {
   "display_name": "camss journeys env",
   "language": "python",
   "name": ".env"
  },
  "language_info": {
   "codemirror_mode": {
    "name": "ipython",
    "version": 3
   },
   "file_extension": ".py",
   "mimetype": "text/x-python",
   "name": "python",
   "nbconvert_exporter": "python",
   "pygments_lexer": "ipython3",
   "version": "3.8.5"
  }
 },
 "nbformat": 4,
 "nbformat_minor": 5
}
