{
 "cells": [
  {
   "cell_type": "markdown",
   "metadata": {},
   "source": [
    "<ul style='list-style:none;display:flex;flex-direction:row'>\n",
    "  <li><a href=\"view_home.ipynb\">Home</a></li> &nbsp;&nbsp;&nbsp;&nbsp;\n",
    "  <li><a href=\"view_tools.ipynb\">Tools</a></li> &nbsp;&nbsp;&nbsp;&nbsp;\n",
    "  <li><a href=\"view_assessments.ipynb\">Assessments</a></li> &nbsp;&nbsp;&nbsp;&nbsp;\n",
    "  <li><a href=\"view_elis.ipynb\">ELIS</a></li> &nbsp;&nbsp;&nbsp;&nbsp;\n",
    "  <li><a href=\"view_cssv.ipynb\">CSSV</a></li> &nbsp;&nbsp;&nbsp;&nbsp;\n",
    "  <li><a href=\"view_cav.ipynb\">CAV</a></li> &nbsp;&nbsp;&nbsp;&nbsp;\n",
    "  <li><a href=\"view_ontology.ipynb\">Ontology</a></li> &nbsp;&nbsp;&nbsp;&nbsp;\n",
    "  <li><a href=\"view_glossary.ipynb\">Glossary</a></li>\n",
    "</ul>"
   ]
  },
  {
   "cell_type": "markdown",
   "metadata": {},
   "source": [
    "<strong> <h1 style='text-align: center;'> CAMSS GLOSSARY </h1> <strong/>"
   ]
  },
  {
   "cell_type": "markdown",
   "metadata": {},
   "source": [
    "<strong> <h3> Cellar triplestore </h3> <strong/>\n",
    "<p> Cellar triplestore is the open source platform that runs virtuoso within which triplets and graphs can be found</p>"
   ]
  }
 ],
 "metadata": {
  "kernelspec": {
   "display_name": "Python 3",
   "language": "python",
   "name": "python3"
  },
  "language_info": {
   "codemirror_mode": {
    "name": "ipython",
    "version": 3
   },
   "file_extension": ".py",
   "mimetype": "text/x-python",
   "name": "python",
   "nbconvert_exporter": "python",
   "pygments_lexer": "ipython3",
   "version": "3.8.5"
  }
 },
 "nbformat": 4,
 "nbformat_minor": 4
}
