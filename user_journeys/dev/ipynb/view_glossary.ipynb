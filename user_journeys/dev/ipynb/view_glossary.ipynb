{
 "cells": [
  {
   "cell_type": "markdown",
   "metadata": {},
   "source": [
    "<nav>\n",
    "  <a href=\"view_home.ipynb\">Home</a> &nbsp;&nbsp;&nbsp;\n",
    "  <a href=\"view_journeys.ipynb\">User Journeys</a> &nbsp;&nbsp;&nbsp;\n",
    "  <a href=\"view_ecosystem.ipynb\">CAMSS Ecosystem</a> &nbsp;&nbsp;&nbsp;\n",
    "  <a href=\"view_glossary.ipynb\">Glossary</a> &nbsp;&nbsp;&nbsp;\n",
    "</nav>"
   ]
  },
  {
   "cell_type": "markdown",
   "metadata": {},
   "source": [
    "<center>\n",
    "    <h1 style='text-align: center;font-weight: bold;'> \n",
    "        CAMSS GLOSSARY\n",
    "    </h1>\n",
    "</center>"
   ]
  },
  {
   "cell_type": "markdown",
   "metadata": {},
   "source": [
    "<h3 style='font-weight: bold;'> \n",
    "    Assessment\n",
    "</h3>\n",
    "<p> The intellectual work to evaluate an asset against the criteria of a given scenario.</p>"
   ]
  },
  {
   "cell_type": "markdown",
   "metadata": {},
   "source": [
    "<h3 style='font-weight: bold;'> \n",
    "    Assessments Library\n",
    "</h3>\n",
    "<p> The CAMSS <a href='https://joinup.ec.europa.eu/collection/common-assessment-method-standards-and-specifications-camss/camss-assessments-library'>Assessment Library</a> is a catalogue of the assessments produced through the use of the CAMSS Tools. Each assessment constitutes a CAMSS solution and is fully reusable.</p>"
   ]
  },
  {
   "cell_type": "markdown",
   "metadata": {},
   "source": [
    "<h3 style='font-weight: bold;'> \n",
    "    CAMSS\n",
    "</h3>\n",
    "<p> CAMSS provides a comprehensive method to assist the assessment of ICT standards and specifications. CAMSS provides a method, it does not itself select standards. The CAMSS method aims to achieve interoperability and avoiding vendor lock-ins. CAMSS criteria evaluate (among other things) the openness of standards and specifications.</p><br> Source: <a>https://joinup.ec.europa.eu/collection/common-assessment-method-standards-and-specifications-camss/glossary/term/camss</a>"
   ]
  },
  {
   "cell_type": "markdown",
   "metadata": {},
   "source": [
    "<h3 style='font-weight: bold;'> \n",
    "    Cellar Triplestore\n",
    "</h3>\n",
    "<p> The CELLAR is the central content and metadata repository of the Publications Office of the European Union.\n",
    "The CELLAR makes available at a single place all the metadata and digital content managed by the Publications Office in a harmonized and standardized way.</p><br> Source: <a>https://joinup.ec.europa.eu/collection/content-and-knowledge-management/solution/cellar/about</a>"
   ]
  },
  {
   "cell_type": "markdown",
   "metadata": {},
   "source": [
    "<h3 style='font-weight: bold;'> \n",
    "    EIF Scenario\n",
    "</h3>\n",
    "\n",
    "<p> The new European Interoperability Framework (EIF) is part of the Communication (COM(2017)134) from the European Commission adopted on 23 March 2017. The framework gives specific guidance on how to set up interoperable digital public services. It offers public administrations 47 concrete recommendations on how to improve the governance of their interoperability activities, establish cross-organisational relationships, streamline processes supporting end-to-end digital services, and ensure that both existing and new legislation do not compromise interoperability efforts.</p><br> Source:<a>https://joinup.ec.europa.eu/collection/common-assessment-method-standards-and-specifications-camss/glossary/term/eif</a> "
   ]
  },
  {
   "cell_type": "markdown",
   "metadata": {},
   "source": [
    "<h3 style='font-weight: bold;'> \n",
    "    Interoperability\n",
    "</h3>\n",
    "<p> Interoperability is a key factor in making a digital transformation possible. It allows administrative entities to electronically exchange meaningful information in ways that are understood by all parties. It addresses all layers that impact the delivery of digital public services in the EU, including: legal, organisational, semantic and technical aspects.</p><br> Source: <a>https://joinup.ec.europa.eu/collection/common-assessment-method-standards-and-specifications-camss/glossary/term/interoperability</a>"
   ]
  },
  {
   "cell_type": "markdown",
   "metadata": {},
   "source": [
    "<h3 style='font-weight: bold;'> \n",
    "   Scenario\n",
    "</h3>\n",
    "<p> The context of the assessment establishing its purpose, the organisation of criteria being evaluated, and its reference Framework(s).</p>"
   ]
  },
  {
   "cell_type": "markdown",
   "metadata": {},
   "source": [
    "<h3 style='font-weight: bold;'> \n",
    "   Specification\n",
    "</h3>\n",
    "<p> Set of agreed, descriptive, and normative statements about how a specification should be designed or made.</p>"
   ]
  },
  {
   "cell_type": "markdown",
   "metadata": {},
   "source": [
    "<h3 style='font-weight: bold;'> \n",
    "    Standard\n",
    "</h3>\n",
    "<p> Specification that is largely adopted and possibly endorsed.</p>"
   ]
  },
  {
   "cell_type": "markdown",
   "metadata": {},
   "source": [
    "<h3 style='font-weight: bold;'> \n",
    "    Statement\n",
    "</h3>\n",
    "<p> A value judgement, resulting from the assessment, pertinent to its entirety or to one or more of its specific parts.</p>"
   ]
  },
  {
   "cell_type": "markdown",
   "metadata": {},
   "source": [
    "<h3 style='font-weight: bold;'> \n",
    "    System\n",
    "</h3>\n",
    "<p> One or more processes driven by persons, principles and rules which, given specific inputs and technical solutions, produce expected results.</p>"
   ]
  },
  {
   "cell_type": "markdown",
   "metadata": {},
   "source": [
    "<h3 style='font-weight: bold;'> \n",
    "    TS Scenario\n",
    "</h3>\n",
    "\n",
    "<p> The TS Scenario assesses specifications with technical requirements. </p><br> Source:<a>https://joinup.ec.europa.eu/collection/common-assessment-method-standards-and-specifications-camss/solution/camss-tools/camss-tools-quick-user-guide</a> "
   ]
  },
  {
   "cell_type": "code",
   "execution_count": null,
   "metadata": {
    "collapsed": true
   },
   "outputs": [],
   "source": []
  },
  {
   "cell_type": "code",
   "execution_count": null,
   "metadata": {
    "collapsed": true
   },
   "outputs": [],
   "source": []
  }
 ],
 "metadata": {
  "kernelspec": {
   "display_name": "camss journeys env",
   "language": "python",
   "name": ".env"
  },
  "language_info": {
   "codemirror_mode": {
    "name": "ipython",
    "version": 3
   },
   "file_extension": ".py",
   "mimetype": "text/x-python",
   "name": "python",
   "nbconvert_exporter": "python",
   "pygments_lexer": "ipython3",
   "version": "3.8.5"
  }
 },
 "nbformat": 4,
 "nbformat_minor": 4
}
