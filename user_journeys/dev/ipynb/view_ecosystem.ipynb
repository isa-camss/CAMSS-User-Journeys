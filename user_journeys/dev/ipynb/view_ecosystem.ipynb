{
 "cells": [
  {
   "cell_type": "markdown",
   "metadata": {},
   "source": [
    "<nav>\n",
    "  <a href=\"view_home.ipynb\">Home</a> &nbsp;&nbsp;&nbsp;\n",
    "  <a href=\"view_journeys.ipynb\">User Journeys</a> &nbsp;&nbsp;&nbsp;\n",
    "  <a href=\"view_ecosystem.ipynb\">CAMSS Ecosystem</a> &nbsp;&nbsp;&nbsp;\n",
    "  <a href=\"view_glossary.ipynb\">Glossary</a> &nbsp;&nbsp;&nbsp;\n",
    "</nav>"
   ]
  },
  {
   "cell_type": "markdown",
   "metadata": {
    "tags": []
   },
   "source": [
    "<h1 style='text-align: center;font-weight: bold;'> \n",
    "    WELCOME TO<br>CAMSS ECOSYSTEM\n",
    "</h1>"
   ]
  },
  {
   "cell_type": "markdown",
   "metadata": {},
   "source": [
    "<p style='text-align: justify'>The camss ecosystem arises from the action and interaction of the actors of the camss method with the solutions developed to guide the evaluation and selection of standards and specifications of an eGovernment project.</p>"
   ]
  },
  {
   "cell_type": "markdown",
   "metadata": {},
   "source": [
    "<p>The CAMSS solutions and their release components are depicted below:</p>"
   ]
  },
  {
   "cell_type": "markdown",
   "metadata": {},
   "source": [
    "<center>\n",
    "     <a href=\"view_tools.ipynb\">\n",
    "         <img src='../img/camss_tools.jpg' alt='tools logo' style='width:110px;height:100px;border-radius:3px;margin-right:10px'/>\n",
    "     </a>\n",
    "    <a href=\"view_assessments.ipynb\">\n",
    "         <img src='../img/camss_assessment.png' alt='assessment logo' style='width:110px;height:100px;border-radius:3px;margin-right:10px'/>\n",
    "    </a>\n",
    "    <a href=\"view_elis.ipynb\">\n",
    "         <img src='../img/camss_ELIS.jpg' alt='ELIS logo' style='width:110px;height:100px;border-radius:3px;margin-right:10px'/>\n",
    "    </a>\n",
    "    <a href=\"view_cssv.ipynb\">\n",
    "         <img src='../img/camss_cssv.jpg' alt='cssv logo' style='width:110px;height:100px;border-radius:3px;margin-right:10px'/>\n",
    "    </a>\n",
    "</center>\n",
    "<center style='margin-top:10px'>\n",
    "    <a href=\"view_cav.ipynb\">\n",
    "         <img src='../img/camss_cav.jpg' alt='cav logo' style='width:110px;height:100px;border-radius:3px;margin-right:10px'/>\n",
    "    </a>\n",
    "    <a href=\"view_ontology.ipynb\">\n",
    "         <img src='../img/camss_ontology.jpg' alt='ontology logo' style='width:110px;height:100px;border-radius:3px;margin-right:10px'/>\n",
    "    </a>\n",
    "    <a href=\"view_elap.ipynb\">\n",
    "         <img src='../img/camss_elap.jpg' alt='ontology logo' style='width:110px;height:100px;border-radius:3px'/>\n",
    "    </a>\n",
    "</center>"
   ]
  },
  {
   "cell_type": "markdown",
   "metadata": {},
   "source": [
    "<p> All solutions of CAMSS are designed to connect different aspects of different business domains to standards and specifications: support to software architectural development, support to ICT procurement.</p>"
   ]
  },
  {
   "cell_type": "markdown",
   "metadata": {},
   "source": [
    "<center>\n",
    "    <img src='../img/camss_tools_interaction.png' alt='assessment logo' style='width:50%;height:90%;border-radius:3px;align:\"center\"'/>\n",
    "</center>"
   ]
  },
  {
   "cell_type": "code",
   "execution_count": null,
   "metadata": {},
   "outputs": [],
   "source": []
  }
 ],
 "metadata": {
  "kernelspec": {
   "display_name": "CAMSS",
   "language": "python",
   "name": ".venv"
  },
  "language_info": {
   "codemirror_mode": {
    "name": "ipython",
    "version": 3
   },
   "file_extension": ".py",
   "mimetype": "text/x-python",
   "name": "python",
   "nbconvert_exporter": "python",
   "pygments_lexer": "ipython3",
   "version": "3.8.5"
  }
 },
 "nbformat": 4,
 "nbformat_minor": 5
}
