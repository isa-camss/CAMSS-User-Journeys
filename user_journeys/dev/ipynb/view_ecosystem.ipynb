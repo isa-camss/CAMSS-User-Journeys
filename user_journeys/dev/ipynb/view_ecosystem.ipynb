{
 "cells": [
  {
   "cell_type": "markdown",
   "metadata": {},
   "source": [
    "<nav>\n",
    "  <a href=\"view_home.ipynb\">Home</a> &nbsp;&nbsp;&nbsp;\n",
    "  <a href=\"view_journeys.ipynb\">User Journeys</a> &nbsp;&nbsp;&nbsp;\n",
    "  <a href=\"view_cav.ipynb\">CAMSS Ecosystem</a> &nbsp;&nbsp;&nbsp;\n",
    "  <a href=\"view_glossary.ipynb\">Glossary</a> &nbsp;&nbsp;&nbsp;\n",
    "  <a href=\"view_cav.ipynb\">About us</a> &nbsp;&nbsp;&nbsp;\n",
    "</nav>"
   ]
  },
  {
   "cell_type": "markdown",
   "metadata": {
    "tags": []
   },
   "source": [
    "<strong> <h1 style='text-align: center;'> WELCOME TO <br> CAMSS ECOSYSTEM </h1> <strong/>"
   ]
  },
  {
   "cell_type": "markdown",
   "metadata": {},
   "source": [
    "<p>TODO: CAMSS Ecosystem definition</p>"
   ]
  },
  {
   "cell_type": "markdown",
   "metadata": {},
   "source": [
    "<p>The CAMSS toolkit consists of a documented reference assessment process, a set of quality requirements (criteria), and assessment tools.</p>"
   ]
  },
  {
   "cell_type": "markdown",
   "metadata": {
    "tags": []
   },
   "source": [
    "<table>\n",
    "    <tr>\n",
    "        <td>\n",
    "            <a href=\"view_tools.ipynb\">\n",
    "                <img src='../img/camss_tools.jpg' alt='tools logo' style='width:110px;height:100px;border-radius:3px'/>\n",
    "            </a>\n",
    "        </td>\n",
    "        <td>\n",
    "            <a href=\"view_assessments.ipynb\">\n",
    "                <img src='../img/camss_assessment.png' alt='assessment logo' style='width:110px;height:100px;border-radius:3px'/>\n",
    "            </a>\n",
    "        </td>\n",
    "        <td>\n",
    "            <a href=\"view_elis.ipynb\">\n",
    "                <img src='../img/camss_ELIS.jpg' alt='ELIS logo' style='width:110px;height:100px;border-radius:3px'/>\n",
    "            </a>\n",
    "        </td>\n",
    "        <td>\n",
    "            <a href=\"view_cssv.ipynb\">\n",
    "                <img src='../img/camss_cssv.jpg' alt='cssv logo' style='width:110px;height:100px;border-radius:3px'/>\n",
    "            </a>\n",
    "        </td>\n",
    "         <td>\n",
    "            <a href=\"view_cav.ipynb\">\n",
    "                <img src='../img/camss_cav.jpg' alt='cav logo' style='width:110px;height:100px;border-radius:3px'/>\n",
    "            </a>\n",
    "        </td>\n",
    "         <td>\n",
    "            <a href=\"view_ontology.ipynb\">\n",
    "                <img src='../img/camss_ontology.jpg' alt='ontology logo' style='width:110px;height:100px;border-radius:3px'/>\n",
    "            </a>\n",
    "        </td>\n",
    "         <td>\n",
    "            <a href=\"view_elap.ipynb\">\n",
    "                <img src='../img/camss_elap.jpg' alt='ontology logo' style='width:110px;height:100px;border-radius:3px'/>\n",
    "            </a>\n",
    "        </td>\n",
    "</table>"
   ]
  },
  {
   "cell_type": "markdown",
   "metadata": {},
   "source": [
    "<p> All solutions of CAMSS are designed to connect different aspects of different business domains to standards and specifications: support to software architectural development, support to ICT procurement.</p>"
   ]
  },
  {
   "cell_type": "markdown",
   "metadata": {},
   "source": [
    "<img src='../img/camss_tools_interaction.jpg' alt='assessment logo' style='width:100%;height:90%;border-radius:3px'/>"
   ]
  }
 ],
 "metadata": {
  "kernelspec": {
   "display_name": "Python 3",
   "language": "python",
   "name": "python3"
  },
  "language_info": {
   "codemirror_mode": {
    "name": "ipython",
    "version": 3
   },
   "file_extension": ".py",
   "mimetype": "text/x-python",
   "name": "python",
   "nbconvert_exporter": "python",
   "pygments_lexer": "ipython3",
   "version": "3.8.5"
  }
 },
 "nbformat": 4,
 "nbformat_minor": 5
}
