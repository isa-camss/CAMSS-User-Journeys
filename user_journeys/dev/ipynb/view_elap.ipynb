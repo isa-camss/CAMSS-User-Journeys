{
 "cells": [
  {
   "cell_type": "markdown",
   "metadata": {},
   "source": [
    "<nav>\n",
    "  <a href=\"view_home.ipynb\">Home</a> &nbsp;&nbsp;&nbsp;\n",
    "  <a href=\"view_journeys.ipynb\">User Journeys</a> &nbsp;&nbsp;&nbsp;\n",
    "  <a href=\"view_ecosystem.ipynb\">CAMSS Ecosystem</a> &nbsp;&nbsp;&nbsp;\n",
    "  <a href=\"view_glossary.ipynb\">Glossary</a> &nbsp;&nbsp;&nbsp;\n",
    "</nav>"
   ]
  },
  {
   "cell_type": "markdown",
   "metadata": {},
   "source": [
    "<center>\n",
    "    <img src='../img/camss_elap.jpg' alt='elap logo' style='width:110px;height:100px;border-radius:3px;margin-right:10px'/>\n",
    "    <img src='../img/european-union-logo.png' alt='EU logo' style='width:150px;height:100px;border-radius:3px'/>\n",
    "</center>"
   ]
  },
  {
   "cell_type": "markdown",
   "metadata": {},
   "source": [
    "<h1 style='text-align: center;font-weight: bold;'> \n",
    "    CAMSS ELAP\n",
    "</h1>"
   ]
  },
  {
   "cell_type": "markdown",
   "metadata": {},
   "source": [
    "<p style='text-align: justify'>\n",
    "    The EIRA library of architecture principles (ELAP) is intended to direct government organizations in initiating changes and implementing IT projects. Particularly when designing new or modified services, it is necessary to make visible how the principles are implemented and which considerations are made in this regard. The apply-or-explain principle applies here, whereby deviations are permitted provided that they are substantiated and recorded with good arguments so that they can be revisited at a later stage. This prevents important matters from being overlooked.\n",
    "    <a href='https://joinup.ec.europa.eu/collection/common-assessment-method-standards-and-specifications-camss/solution/elap/about'>Read more</a>.  \n",
    "</p>"
   ]
  },
  {
   "cell_type": "markdown",
   "metadata": {},
   "source": [
    "<h2 style='font-weight: bold;'> \n",
    "    CAMSS ELAP Releases\n",
    "</h2>\n",
    "<p>CAMSS ELAP has 1 release, you can enter each version by clicking on the releases below.</p>"
   ]
  },
  {
   "cell_type": "markdown",
   "metadata": {},
   "source": [
    "<center>\n",
    "    <div>\n",
    "        <a href=\"https://joinup.ec.europa.eu/collection/common-assessment-method-standards-and-specifications-camss/solution/elap/release/v100\">\n",
    "            <img src='../img/camss_elap/camss_elap_100.jpg' alt='camss elap release 1.0.0' style='width:180px;height:100px;border-radius:15px'/>\n",
    "        </a>\n",
    "    </div>     \n",
    "</center>"
   ]
  },
  {
   "cell_type": "markdown",
   "metadata": {},
   "source": [
    "<p style='text-align: justify'> \n",
    "You can also to interact with the Specifications through this jupiter notebook, to do that it is important that you identify your role in the <a href=\"view_journeys.ipynb\">user journeys</a> section and we will guide you to obtain the information that best suits you from the <a href='http://publications.europa.eu/webapi/rdf/sparql'>CELLAR's Virtuoso endpoint</a> launching the queries and retrieving the data.\n",
    "</p>"
   ]
  },
  {
   "cell_type": "code",
   "execution_count": null,
   "metadata": {},
   "outputs": [],
   "source": []
  }
 ],
 "metadata": {
  "kernelspec": {
   "display_name": "CAMSS",
   "language": "python",
   "name": ".venv"
  },
  "language_info": {
   "codemirror_mode": {
    "name": "ipython",
    "version": 3
   },
   "file_extension": ".py",
   "mimetype": "text/x-python",
   "name": "python",
   "nbconvert_exporter": "python",
   "pygments_lexer": "ipython3",
   "version": "3.8.5"
  }
 },
 "nbformat": 4,
 "nbformat_minor": 5
}
