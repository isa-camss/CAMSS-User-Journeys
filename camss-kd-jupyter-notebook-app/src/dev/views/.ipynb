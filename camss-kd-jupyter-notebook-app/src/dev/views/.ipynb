{
 "cells": [
  {
   "cell_type": "code",
   "execution_count": 1,
   "metadata": {},
   "outputs": [],
   "source": [
    "from IPython.display import clear_output, display\n",
    "import time\n",
    "from functools import lru_cache\n",
    "import sys\n",
    "sys.path.append('../')\n",
    "import requests\n",
    "import ipywidgets as widgets\n",
    "from ipywidgets import Layout, AppLayout\n",
    "import pandas as pd\n",
    "import json\n",
    "from pprint import pprint\n",
    "import cfg.sparql as sparql"
   ]
  },
  {
   "cell_type": "code",
   "execution_count": 2,
   "metadata": {},
   "outputs": [],
   "source": [
    "# variables\n",
    "URL_MICROSERVICE= 'http://localhost:5100/assessments/get_assessments'\n",
    "\n",
    "query_assessments = sparql.QUERY_ASSESSMENTS\n",
    "query_2 = 'This is another query'"
   ]
  },
  {
   "cell_type": "code",
   "execution_count": 3,
   "metadata": {},
   "outputs": [],
   "source": [
    "# Method to execute Microservice query (API assessments)\n",
    "\n",
    "output= widgets.Output()\n",
    "\n",
    "@output.capture()\n",
    "def send_query(q):\n",
    "    query= text_area.value\n",
    "    params= {'sparql_query': query}\n",
    "    msg= requests.post(url= URL_MICROSERVICE, params= params)\n",
    "    response_json = msg.json()\n",
    "    df_assessments = pd.DataFrame(response_json, columns=['Assessments', 'Scenario'])\n",
    "    pprint(df_assessments)"
   ]
  },
  {
   "cell_type": "code",
   "execution_count": 4,
   "metadata": {},
   "outputs": [
    {
     "data": {
      "application/vnd.jupyter.widget-view+json": {
       "model_id": "c8b0c109fcde46baa6e9de63e6ee51bc",
       "version_major": 2,
       "version_minor": 0
      },
      "text/plain": [
       "Tab(children=(VBox(children=(Label(value='This query return the assessments of...'), Textarea(value='\\n       …"
      ]
     },
     "metadata": {},
     "output_type": "display_data"
    },
    {
     "data": {
      "application/vnd.jupyter.widget-view+json": {
       "model_id": "164372e78de642cd9727fb41fb2b97d3",
       "version_major": 2,
       "version_minor": 0
      },
      "text/plain": [
       "Output()"
      ]
     },
     "metadata": {},
     "output_type": "display_data"
    }
   ],
   "source": [
    "# This works with label and button in order to flexbox\n",
    "\n",
    "tab_names = ['Own queries', 'query 1', 'query 2']\n",
    "queries = ['', query_assessments, '']\n",
    "labels = ['label 1', 'label 2', 'label 3']\n",
    "\n",
    "label = widgets.Label(value = 'This query return the assessments of...')\n",
    "text_area= widgets.Textarea(value=query_assessments, placeholder='Type a query', layout=Layout(width='90%',height='200px'))\n",
    "\n",
    "button = widgets.Button(description=\"Run\")\n",
    "button.on_click(send_query)\n",
    "\n",
    "box = widgets.VBox([label, text_area, button])\n",
    "box2= widgets.VBox([label, text_area, button])\n",
    "box3= widgets.VBox([label, text_area, button])\n",
    "\n",
    "tab=widgets.Tab((box, box2, box3))\n",
    "\n",
    "children = tab.children\n",
    "\n",
    "for i in range(len(children)):\n",
    "    tab.set_title(i, tab_names[i])\n",
    "    \n",
    "display(tab, output)"
   ]
  },
  {
   "cell_type": "code",
   "execution_count": 5,
   "metadata": {},
   "outputs": [
    {
     "data": {
      "application/vnd.jupyter.widget-view+json": {
       "model_id": "633a0c99ed3140be94fd09fd2d7f261e",
       "version_major": 2,
       "version_minor": 0
      },
      "text/plain": [
       "Tab(children=(Textarea(value='', layout=Layout(height='200px', width='100%'), placeholder='Type a query'), Tex…"
      ]
     },
     "metadata": {},
     "output_type": "display_data"
    },
    {
     "data": {
      "application/vnd.jupyter.widget-view+json": {
       "model_id": "164372e78de642cd9727fb41fb2b97d3",
       "version_major": 2,
       "version_minor": 0
      },
      "text/plain": [
       "Output()"
      ]
     },
     "metadata": {},
     "output_type": "display_data"
    }
   ],
   "source": [
    "tab_names = ['Own queries', 'query 1', 'query 2']\n",
    "text_area_content = ['', query_assessments, 'P2']\n",
    "\n",
    "button= widgets.Button(description=\"Run\")\n",
    "button.on_click(send_query)\n",
    "\n",
    "children = [widgets.Textarea(value=value, placeholder='Type a query', layout=Layout(width='100%',height='200px')) \n",
    "            for value in text_area_content]\n",
    "tab = widgets.Tab()\n",
    "tab.children = children\n",
    "for i in range(len(children)):\n",
    "    tab.set_title(i, tab_names[i])\n",
    "display(tab, output)"
   ]
  },
  {
   "cell_type": "code",
   "execution_count": 6,
   "metadata": {},
   "outputs": [
    {
     "ename": "TraitError",
     "evalue": "Invalid selection: index out of bounds",
     "output_type": "error",
     "traceback": [
      "\u001b[1;31m---------------------------------------------------------------------------\u001b[0m",
      "\u001b[1;31mTraitError\u001b[0m                                Traceback (most recent call last)",
      "\u001b[1;32m<ipython-input-6-69c9b2d94ece>\u001b[0m in \u001b[0;36m<module>\u001b[1;34m\u001b[0m\n\u001b[1;32m----> 1\u001b[1;33m \u001b[0mtab\u001b[0m\u001b[1;33m.\u001b[0m\u001b[0mselected_index\u001b[0m \u001b[1;33m=\u001b[0m \u001b[1;36m3\u001b[0m\u001b[1;33m\u001b[0m\u001b[1;33m\u001b[0m\u001b[0m\n\u001b[0m",
      "\u001b[1;32mc:\\users\\mgrajale\\appdata\\local\\programs\\python\\python38\\lib\\site-packages\\traitlets\\traitlets.py\u001b[0m in \u001b[0;36m__set__\u001b[1;34m(self, obj, value)\u001b[0m\n\u001b[0;32m    602\u001b[0m             \u001b[1;32mraise\u001b[0m \u001b[0mTraitError\u001b[0m\u001b[1;33m(\u001b[0m\u001b[1;34m'The \"%s\" trait is read-only.'\u001b[0m \u001b[1;33m%\u001b[0m \u001b[0mself\u001b[0m\u001b[1;33m.\u001b[0m\u001b[0mname\u001b[0m\u001b[1;33m)\u001b[0m\u001b[1;33m\u001b[0m\u001b[1;33m\u001b[0m\u001b[0m\n\u001b[0;32m    603\u001b[0m         \u001b[1;32melse\u001b[0m\u001b[1;33m:\u001b[0m\u001b[1;33m\u001b[0m\u001b[1;33m\u001b[0m\u001b[0m\n\u001b[1;32m--> 604\u001b[1;33m             \u001b[0mself\u001b[0m\u001b[1;33m.\u001b[0m\u001b[0mset\u001b[0m\u001b[1;33m(\u001b[0m\u001b[0mobj\u001b[0m\u001b[1;33m,\u001b[0m \u001b[0mvalue\u001b[0m\u001b[1;33m)\u001b[0m\u001b[1;33m\u001b[0m\u001b[1;33m\u001b[0m\u001b[0m\n\u001b[0m\u001b[0;32m    605\u001b[0m \u001b[1;33m\u001b[0m\u001b[0m\n\u001b[0;32m    606\u001b[0m     \u001b[1;32mdef\u001b[0m \u001b[0m_validate\u001b[0m\u001b[1;33m(\u001b[0m\u001b[0mself\u001b[0m\u001b[1;33m,\u001b[0m \u001b[0mobj\u001b[0m\u001b[1;33m,\u001b[0m \u001b[0mvalue\u001b[0m\u001b[1;33m)\u001b[0m\u001b[1;33m:\u001b[0m\u001b[1;33m\u001b[0m\u001b[1;33m\u001b[0m\u001b[0m\n",
      "\u001b[1;32mc:\\users\\mgrajale\\appdata\\local\\programs\\python\\python38\\lib\\site-packages\\traitlets\\traitlets.py\u001b[0m in \u001b[0;36mset\u001b[1;34m(self, obj, value)\u001b[0m\n\u001b[0;32m    576\u001b[0m \u001b[1;33m\u001b[0m\u001b[0m\n\u001b[0;32m    577\u001b[0m     \u001b[1;32mdef\u001b[0m \u001b[0mset\u001b[0m\u001b[1;33m(\u001b[0m\u001b[0mself\u001b[0m\u001b[1;33m,\u001b[0m \u001b[0mobj\u001b[0m\u001b[1;33m,\u001b[0m \u001b[0mvalue\u001b[0m\u001b[1;33m)\u001b[0m\u001b[1;33m:\u001b[0m\u001b[1;33m\u001b[0m\u001b[1;33m\u001b[0m\u001b[0m\n\u001b[1;32m--> 578\u001b[1;33m         \u001b[0mnew_value\u001b[0m \u001b[1;33m=\u001b[0m \u001b[0mself\u001b[0m\u001b[1;33m.\u001b[0m\u001b[0m_validate\u001b[0m\u001b[1;33m(\u001b[0m\u001b[0mobj\u001b[0m\u001b[1;33m,\u001b[0m \u001b[0mvalue\u001b[0m\u001b[1;33m)\u001b[0m\u001b[1;33m\u001b[0m\u001b[1;33m\u001b[0m\u001b[0m\n\u001b[0m\u001b[0;32m    579\u001b[0m         \u001b[1;32mtry\u001b[0m\u001b[1;33m:\u001b[0m\u001b[1;33m\u001b[0m\u001b[1;33m\u001b[0m\u001b[0m\n\u001b[0;32m    580\u001b[0m             \u001b[0mold_value\u001b[0m \u001b[1;33m=\u001b[0m \u001b[0mobj\u001b[0m\u001b[1;33m.\u001b[0m\u001b[0m_trait_values\u001b[0m\u001b[1;33m[\u001b[0m\u001b[0mself\u001b[0m\u001b[1;33m.\u001b[0m\u001b[0mname\u001b[0m\u001b[1;33m]\u001b[0m\u001b[1;33m\u001b[0m\u001b[1;33m\u001b[0m\u001b[0m\n",
      "\u001b[1;32mc:\\users\\mgrajale\\appdata\\local\\programs\\python\\python38\\lib\\site-packages\\traitlets\\traitlets.py\u001b[0m in \u001b[0;36m_validate\u001b[1;34m(self, obj, value)\u001b[0m\n\u001b[0;32m    610\u001b[0m             \u001b[0mvalue\u001b[0m \u001b[1;33m=\u001b[0m \u001b[0mself\u001b[0m\u001b[1;33m.\u001b[0m\u001b[0mvalidate\u001b[0m\u001b[1;33m(\u001b[0m\u001b[0mobj\u001b[0m\u001b[1;33m,\u001b[0m \u001b[0mvalue\u001b[0m\u001b[1;33m)\u001b[0m\u001b[1;33m\u001b[0m\u001b[1;33m\u001b[0m\u001b[0m\n\u001b[0;32m    611\u001b[0m         \u001b[1;32mif\u001b[0m \u001b[0mobj\u001b[0m\u001b[1;33m.\u001b[0m\u001b[0m_cross_validation_lock\u001b[0m \u001b[1;32mis\u001b[0m \u001b[1;32mFalse\u001b[0m\u001b[1;33m:\u001b[0m\u001b[1;33m\u001b[0m\u001b[1;33m\u001b[0m\u001b[0m\n\u001b[1;32m--> 612\u001b[1;33m             \u001b[0mvalue\u001b[0m \u001b[1;33m=\u001b[0m \u001b[0mself\u001b[0m\u001b[1;33m.\u001b[0m\u001b[0m_cross_validate\u001b[0m\u001b[1;33m(\u001b[0m\u001b[0mobj\u001b[0m\u001b[1;33m,\u001b[0m \u001b[0mvalue\u001b[0m\u001b[1;33m)\u001b[0m\u001b[1;33m\u001b[0m\u001b[1;33m\u001b[0m\u001b[0m\n\u001b[0m\u001b[0;32m    613\u001b[0m         \u001b[1;32mreturn\u001b[0m \u001b[0mvalue\u001b[0m\u001b[1;33m\u001b[0m\u001b[1;33m\u001b[0m\u001b[0m\n\u001b[0;32m    614\u001b[0m \u001b[1;33m\u001b[0m\u001b[0m\n",
      "\u001b[1;32mc:\\users\\mgrajale\\appdata\\local\\programs\\python\\python38\\lib\\site-packages\\traitlets\\traitlets.py\u001b[0m in \u001b[0;36m_cross_validate\u001b[1;34m(self, obj, value)\u001b[0m\n\u001b[0;32m    616\u001b[0m         \u001b[1;32mif\u001b[0m \u001b[0mself\u001b[0m\u001b[1;33m.\u001b[0m\u001b[0mname\u001b[0m \u001b[1;32min\u001b[0m \u001b[0mobj\u001b[0m\u001b[1;33m.\u001b[0m\u001b[0m_trait_validators\u001b[0m\u001b[1;33m:\u001b[0m\u001b[1;33m\u001b[0m\u001b[1;33m\u001b[0m\u001b[0m\n\u001b[0;32m    617\u001b[0m             \u001b[0mproposal\u001b[0m \u001b[1;33m=\u001b[0m \u001b[0mBunch\u001b[0m\u001b[1;33m(\u001b[0m\u001b[1;33m{\u001b[0m\u001b[1;34m'trait'\u001b[0m\u001b[1;33m:\u001b[0m \u001b[0mself\u001b[0m\u001b[1;33m,\u001b[0m \u001b[1;34m'value'\u001b[0m\u001b[1;33m:\u001b[0m \u001b[0mvalue\u001b[0m\u001b[1;33m,\u001b[0m \u001b[1;34m'owner'\u001b[0m\u001b[1;33m:\u001b[0m \u001b[0mobj\u001b[0m\u001b[1;33m}\u001b[0m\u001b[1;33m)\u001b[0m\u001b[1;33m\u001b[0m\u001b[1;33m\u001b[0m\u001b[0m\n\u001b[1;32m--> 618\u001b[1;33m             \u001b[0mvalue\u001b[0m \u001b[1;33m=\u001b[0m \u001b[0mobj\u001b[0m\u001b[1;33m.\u001b[0m\u001b[0m_trait_validators\u001b[0m\u001b[1;33m[\u001b[0m\u001b[0mself\u001b[0m\u001b[1;33m.\u001b[0m\u001b[0mname\u001b[0m\u001b[1;33m]\u001b[0m\u001b[1;33m(\u001b[0m\u001b[0mobj\u001b[0m\u001b[1;33m,\u001b[0m \u001b[0mproposal\u001b[0m\u001b[1;33m)\u001b[0m\u001b[1;33m\u001b[0m\u001b[1;33m\u001b[0m\u001b[0m\n\u001b[0m\u001b[0;32m    619\u001b[0m         \u001b[1;32melif\u001b[0m \u001b[0mhasattr\u001b[0m\u001b[1;33m(\u001b[0m\u001b[0mobj\u001b[0m\u001b[1;33m,\u001b[0m \u001b[1;34m'_%s_validate'\u001b[0m \u001b[1;33m%\u001b[0m \u001b[0mself\u001b[0m\u001b[1;33m.\u001b[0m\u001b[0mname\u001b[0m\u001b[1;33m)\u001b[0m\u001b[1;33m:\u001b[0m\u001b[1;33m\u001b[0m\u001b[1;33m\u001b[0m\u001b[0m\n\u001b[0;32m    620\u001b[0m             \u001b[0mmeth_name\u001b[0m \u001b[1;33m=\u001b[0m \u001b[1;34m'_%s_validate'\u001b[0m \u001b[1;33m%\u001b[0m \u001b[0mself\u001b[0m\u001b[1;33m.\u001b[0m\u001b[0mname\u001b[0m\u001b[1;33m\u001b[0m\u001b[1;33m\u001b[0m\u001b[0m\n",
      "\u001b[1;32mc:\\users\\mgrajale\\appdata\\local\\programs\\python\\python38\\lib\\site-packages\\traitlets\\traitlets.py\u001b[0m in \u001b[0;36m__call__\u001b[1;34m(self, *args, **kwargs)\u001b[0m\n\u001b[0;32m    973\u001b[0m         \u001b[1;34m\"\"\"Pass `*args` and `**kwargs` to the handler's function if it exists.\"\"\"\u001b[0m\u001b[1;33m\u001b[0m\u001b[1;33m\u001b[0m\u001b[0m\n\u001b[0;32m    974\u001b[0m         \u001b[1;32mif\u001b[0m \u001b[0mhasattr\u001b[0m\u001b[1;33m(\u001b[0m\u001b[0mself\u001b[0m\u001b[1;33m,\u001b[0m \u001b[1;34m'func'\u001b[0m\u001b[1;33m)\u001b[0m\u001b[1;33m:\u001b[0m\u001b[1;33m\u001b[0m\u001b[1;33m\u001b[0m\u001b[0m\n\u001b[1;32m--> 975\u001b[1;33m             \u001b[1;32mreturn\u001b[0m \u001b[0mself\u001b[0m\u001b[1;33m.\u001b[0m\u001b[0mfunc\u001b[0m\u001b[1;33m(\u001b[0m\u001b[1;33m*\u001b[0m\u001b[0margs\u001b[0m\u001b[1;33m,\u001b[0m \u001b[1;33m**\u001b[0m\u001b[0mkwargs\u001b[0m\u001b[1;33m)\u001b[0m\u001b[1;33m\u001b[0m\u001b[1;33m\u001b[0m\u001b[0m\n\u001b[0m\u001b[0;32m    976\u001b[0m         \u001b[1;32melse\u001b[0m\u001b[1;33m:\u001b[0m\u001b[1;33m\u001b[0m\u001b[1;33m\u001b[0m\u001b[0m\n\u001b[0;32m    977\u001b[0m             \u001b[1;32mreturn\u001b[0m \u001b[0mself\u001b[0m\u001b[1;33m.\u001b[0m\u001b[0m_init_call\u001b[0m\u001b[1;33m(\u001b[0m\u001b[1;33m*\u001b[0m\u001b[0margs\u001b[0m\u001b[1;33m,\u001b[0m \u001b[1;33m**\u001b[0m\u001b[0mkwargs\u001b[0m\u001b[1;33m)\u001b[0m\u001b[1;33m\u001b[0m\u001b[1;33m\u001b[0m\u001b[0m\n",
      "\u001b[1;32mc:\\users\\mgrajale\\appdata\\local\\programs\\python\\python38\\lib\\site-packages\\ipywidgets\\widgets\\widget_selectioncontainer.py\u001b[0m in \u001b[0;36m_validated_index\u001b[1;34m(self, proposal)\u001b[0m\n\u001b[0;32m     28\u001b[0m             \u001b[1;32mreturn\u001b[0m \u001b[0mproposal\u001b[0m\u001b[1;33m.\u001b[0m\u001b[0mvalue\u001b[0m\u001b[1;33m\u001b[0m\u001b[1;33m\u001b[0m\u001b[0m\n\u001b[0;32m     29\u001b[0m         \u001b[1;32melse\u001b[0m\u001b[1;33m:\u001b[0m\u001b[1;33m\u001b[0m\u001b[1;33m\u001b[0m\u001b[0m\n\u001b[1;32m---> 30\u001b[1;33m             \u001b[1;32mraise\u001b[0m \u001b[0mTraitError\u001b[0m\u001b[1;33m(\u001b[0m\u001b[1;34m'Invalid selection: index out of bounds'\u001b[0m\u001b[1;33m)\u001b[0m\u001b[1;33m\u001b[0m\u001b[1;33m\u001b[0m\u001b[0m\n\u001b[0m\u001b[0;32m     31\u001b[0m \u001b[1;33m\u001b[0m\u001b[0m\n\u001b[0;32m     32\u001b[0m     \u001b[1;31m# Public methods\u001b[0m\u001b[1;33m\u001b[0m\u001b[1;33m\u001b[0m\u001b[1;33m\u001b[0m\u001b[0m\n",
      "\u001b[1;31mTraitError\u001b[0m: Invalid selection: index out of bounds"
     ]
    }
   ],
   "source": [
    "tab.selected_index = 3"
   ]
  },
  {
   "cell_type": "code",
   "execution_count": null,
   "metadata": {},
   "outputs": [],
   "source": [
    "output= widgets.Output()\n",
    "\n",
    "@output.capture()\n",
    "def send_query_test(q):\n",
    "    query1= text_area_1.value\n",
    "    query2= text_area_2.value\n",
    "    query3= text_area_3.value\n",
    "    \n",
    "    if query1 == text_area_1.value:\n",
    "        params= {'sparql_query': query1}\n",
    "    elif query2 == text_area_2.value:\n",
    "        params= {'sparql_query': query2}\n",
    "    elif query3 == text_area_1.value:\n",
    "        params= {'sparql_query': query3}\n",
    "    \n",
    "    msg= requests.post(url= URL_MICROSERVICE, params= params)\n",
    "    response_json = msg.json()\n",
    "    df_assessments = pd.DataFrame(response_json, columns=['Assessments', 'Scenario'])\n",
    "    pprint(df_assessments)"
   ]
  },
  {
   "cell_type": "code",
   "execution_count": null,
   "metadata": {},
   "outputs": [],
   "source": [
    "\n",
    "label_1 = widgets.Label(value = 'The')\n",
    "text_area_1= widgets.Textarea(value=' ', placeholder='Type a query', layout=Layout(width='90%',height='200px'))\n",
    "\n",
    "label_2 = widgets.Label(value = 'The')\n",
    "text_area_2= widgets.Textarea(value= query_assessments , placeholder='Type a query', layout=Layout(width='90%',height='200px'))\n",
    "\n",
    "label_3 = widgets.Label(value = 'The')\n",
    "text_area_3= widgets.Textarea(value= query_cualquiera, placeholder='Type a query', layout=Layout(width='90%',height='200px'))\n",
    "\n",
    "button = widgets.Button(description=\"Run\")\n",
    "button.on_click(send_query_test)\n",
    "\n",
    "box = widgets.VBox([label_1, text_area_1, button])\n",
    "box2= widgets.VBox([label_2, text_area_2, button])\n",
    "box3= widgets.VBox([label_3, text_area_3, button])\n",
    "\n",
    "tab=widgets.Tab((box, box2, box3))\n",
    "children = tab.children\n",
    "\n",
    "for i in range(len(children)):\n",
    "\n",
    "    tab.set_title(i, tab_names[i])\n",
    "display(tab, output)"
   ]
  },
  {
   "cell_type": "code",
   "execution_count": null,
   "metadata": {},
   "outputs": [],
   "source": [
    "tab_names = ['Own queries', 'query 1', 'query 2']\n",
    "text_area_content = ['', query_assessments, 'P2']\n",
    "\n",
    "label_1 = widgets.Label(value = 'The')\n",
    "text_area_1= widgets.Textarea(value=' ', placeholder='Type a query', layout=Layout(width='90%',height='200px'))\n",
    "\n",
    "label_2 = widgets.Label(value = 'The')\n",
    "text_area_2= widgets.Textarea(value= query_assessments , placeholder='Type a query', layout=Layout(width='90%',height='200px'))\n",
    "\n",
    "label_3 = widgets.Label(value = 'The')\n",
    "text_area_3= widgets.Textarea(value= query_cualquiera, placeholder='Type a query', layout=Layout(width='90%',height='200px'))\n",
    "\n",
    "button = widgets.Button(description=\"Run\")\n",
    "button.on_click(send_query_test)\n",
    "\n",
    "box = widgets.VBox([label_1, text_area_1, button])\n",
    "box2= widgets.VBox([label_2, text_area_2, button])\n",
    "box3= widgets.VBox([label_3, text_area_3, button])\n",
    "\n",
    "tab=widgets.Tab((box, box2, box3))\n",
    "children = tab.children\n",
    "\n",
    "for i in range(len(children)):\n",
    "    tab.set_title(i, tab_names[i])\n",
    "display(tab, output)"
   ]
  },
  {
   "cell_type": "code",
   "execution_count": null,
   "metadata": {},
   "outputs": [],
   "source": [
    "\n",
    "tab_names = ['Own queries', 'query 1', 'query 2']\n",
    "text_area_content = ['', query_assessments, '']\n",
    "\n",
    "label = widgets.Label(value = '')\n",
    "children = [widgets.Textarea(value=value, placeholder='Type a query', layout=Layout(width='100%',height='200px')) \n",
    "            for value in text_area_content]\n",
    "button= widgets.Button(description=\"Run\")\n",
    "button.on_click(send_query)\n",
    "\n",
    "box = widgets.VBox([label, children, button])\n",
    "\n",
    "tab= widgets.Tab((box,))\n",
    "\n",
    "tab.children = children\n",
    "for i in range(len(children)):\n",
    "    tab.set_title(i, tab_names[i])\n",
    "\n",
    "display(tab, button, output)"
   ]
  },
  {
   "cell_type": "code",
   "execution_count": 7,
   "metadata": {},
   "outputs": [
    {
     "data": {
      "application/vnd.jupyter.widget-view+json": {
       "model_id": "9f23a3abccd8470aaeb48b07b2a9ad1a",
       "version_major": 2,
       "version_minor": 0
      },
      "text/plain": [
       "Tab(children=(VBox(children=(Textarea(value='\\n        PREFIX camssa: <http://data.europa.eu/2sa/assessments/>…"
      ]
     },
     "metadata": {},
     "output_type": "display_data"
    },
    {
     "data": {
      "application/vnd.jupyter.widget-view+json": {
       "model_id": "8494d711d8cc4f598135284eb728f3ec",
       "version_major": 2,
       "version_minor": 0
      },
      "text/plain": [
       "Output()"
      ]
     },
     "metadata": {},
     "output_type": "display_data"
    }
   ],
   "source": [
    "# THIS IS THE MOST STABLE VERSION DON'T CLEAN UP\n",
    "\n",
    "# variables\n",
    "\n",
    "URL_MICROSERVICE= 'http://localhost:5100/assessments/get_assessments'\n",
    "\n",
    "query_assessments = sparql.QUERY_ASSESSMENTS\n",
    "\n",
    "# Method to execute Microservice query (API assessments)\n",
    "\n",
    "output= widgets.Output()\n",
    "\n",
    "@output.capture()\n",
    "def send_query(q):\n",
    "    query= text_area.value\n",
    "    params= {'sparql_query': query}\n",
    "    msg= requests.post(url= URL_MICROSERVICE, params= params)\n",
    "    response_json = msg.json()\n",
    "    df_assessments = pd.DataFrame(response_json, columns=['Assessments', 'Scenario'])\n",
    "    pprint(df_assessments)\n",
    "\n",
    "# UI\n",
    "\n",
    "tab_names = ['Own queries', 'query 1', 'query 2']\n",
    "\n",
    "button= widgets.Button(description=\"Run\")\n",
    "button.on_click(send_query)\n",
    "\n",
    "text_area= widgets.Textarea(value=query_assessments, placeholder='Type a query', layout=Layout(width='100%',height='300px'))\n",
    "\n",
    "tab_content = [widgets.VBox([text_area, button]) for _ in tab_names]\n",
    "tab= widgets.Tab(tab_content)\n",
    "[tab.set_title(i, title) for i, title in enumerate(tab_names)]\n",
    "\n",
    "display(tab, output)"
   ]
  },
  {
   "cell_type": "code",
   "execution_count": null,
   "metadata": {},
   "outputs": [],
   "source": []
  },
  {
   "cell_type": "code",
   "execution_count": null,
   "metadata": {},
   "outputs": [],
   "source": []
  }
 ],
 "metadata": {
  "kernelspec": {
   "display_name": "Python 3",
   "language": "python",
   "name": "python3"
  },
  "language_info": {
   "codemirror_mode": {
    "name": "ipython",
    "version": 3
   },
   "file_extension": ".py",
   "mimetype": "text/x-python",
   "name": "python",
   "nbconvert_exporter": "python",
   "pygments_lexer": "ipython3",
   "version": "3.8.5"
  }
 },
 "nbformat": 4,
 "nbformat_minor": 4
}
