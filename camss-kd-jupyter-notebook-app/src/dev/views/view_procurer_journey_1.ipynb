{
 "cells": [
  {
   "cell_type": "markdown",
   "id": "fbb44703-1840-4fa0-b579-942cb59887ad",
   "metadata": {},
   "source": [
    "<nav>\n",
    "  <a href=\"../index.ipynb\">Home</a> &nbsp;&nbsp;&nbsp;\n",
    "  <a href=\"view_general_journeys.ipynb\">User Journeys</a> &nbsp;&nbsp;&nbsp;\n",
    "</nav>"
   ]
  },
  {
   "cell_type": "markdown",
   "id": "87cc6cea-c1cc-4b6e-a19c-824ca26bbf0e",
   "metadata": {},
   "source": [
    "<table>\n",
    "    <tr>\n",
    "        <td> <img src='../img/logo1.jpg' alt='assessment logo' width=110px height=100px margin-right=10px/>\n",
    "        </td>\n",
    "        <td> <img src='../img/european-union-logo.png' alt='EU logo' width=160px height=100px/></td>\n",
    "        <td> <img src='../img/POEU_logo.png' alt='OP logo' width=300px height=150px/> \n",
    "        </td>\n",
    "    </tr>\n",
    "</table>"
   ]
  },
  {
   "cell_type": "markdown",
   "id": "a83b3163-5ff8-462f-bd51-823392e947a4",
   "metadata": {},
   "source": [
    "<center>\n",
    "    <h1 style='text-align: center;font-weight: bold;'>\n",
    "        PROCURER'S JOURNEY #1\n",
    "    </h1> \n",
    "</center>\n"
   ]
  },
  {
   "cell_type": "markdown",
   "id": "ae298617",
   "metadata": {},
   "source": [
    "<p style='text-align: justify'> \n",
    "Welcome to this user journey, you are here because you want to obtain the interoperability specifications listed by CAMSS and their assessments, in order to be able to mention in your procurement procedure those specifications you are interested in. We invite you to follow each of the steps below.</p>\n",
    "<h3>Let's start!</h3>\n",
    "<p style='text-align: justify'> \n",
    "Click on the \"Kernel\" menu and choose the option \"Restart & Run All\". Once you have started the application you can press the button \"Show code\" if you want to see some pieces of code that launch UI components.</p>"
   ]
  },
  {
   "cell_type": "code",
   "execution_count": 3,
   "id": "b96f0ac6",
   "metadata": {},
   "outputs": [
    {
     "data": {
      "text/html": [
       "<script>$(\"div.input\").hide()</script>"
      ],
      "text/plain": [
       "<IPython.core.display.HTML object>"
      ]
     },
     "metadata": {},
     "output_type": "display_data"
    },
    {
     "data": {
      "application/vnd.jupyter.widget-view+json": {
       "model_id": "935669064401490581e383b54c755854",
       "version_major": 2,
       "version_minor": 0
      },
      "text/plain": [
       "ToggleButton(value=False, description='Show code')"
      ]
     },
     "metadata": {},
     "output_type": "display_data"
    },
    {
     "data": {
      "text/html": [
       "<script>$(\"div.input\").show()</script>"
      ],
      "text/plain": [
       "<IPython.core.display.HTML object>"
      ]
     },
     "metadata": {},
     "output_type": "display_data"
    },
    {
     "data": {
      "text/html": [
       "<script>$(\"div.input\").hide()</script>"
      ],
      "text/plain": [
       "<IPython.core.display.HTML object>"
      ]
     },
     "metadata": {},
     "output_type": "display_data"
    },
    {
     "data": {
      "text/html": [
       "<script>$(\"div.input\").show()</script>"
      ],
      "text/plain": [
       "<IPython.core.display.HTML object>"
      ]
     },
     "metadata": {},
     "output_type": "display_data"
    }
   ],
   "source": [
    "from UI_components.hidecode import display_hidebuttom\n",
    "display_hidebuttom()"
   ]
  },
  {
   "cell_type": "markdown",
   "id": "c1d78b96",
   "metadata": {},
   "source": [
    "<img src='../img/user_journeys/user_journey_procurer.jpg' alt='Procurer Journey Map' width=80% height=80%/>"
   ]
  },
  {
   "cell_type": "markdown",
   "id": "717af007",
   "metadata": {},
   "source": [
    "<img src='../img/user_journeys/p_j1_estep (1).jpg' alt='procurer step 1' width=20% height=20% align='left'/>"
   ]
  },
  {
   "cell_type": "markdown",
   "id": "609a6ce9",
   "metadata": {},
   "source": [
    "<p style='text-align: justify'>\n",
    "For this step the CAMSS team has developed a component that allows you to access what you need through SPARQL queries in an easy and swift way. Since all CAMSS datasets are obtained from <a href='https://op.europa.eu/en/web/eu-vocabularies/news/-/blogs/new-brochure-about-cellar'>CELLAR</a>, the component provides you <u>prepared queries</u> which help you obtain usefull information.<br>    \n",
    "Additionally, it allows you to draft your own custom queries. Feel free to use this notebook to experiment with the CAMSS datasets in CELLAR. Alternatively, you could use the <a href='http://publications.europa.eu/webapi/rdf/sparql'>CELLAR's Virtuoso endpoint</a>. \n",
    "<br><br>\n",
    "With this in mind, let's try out!\n",
    "</p>"
   ]
  },
  {
   "cell_type": "code",
   "execution_count": 1,
   "id": "814fba31-b72a-4cf0-a036-5a8e438362f2",
   "metadata": {},
   "outputs": [
    {
     "data": {
      "application/javascript": [
       "require.config({\n",
       "    paths: {\n",
       "        jquery: 'https://code.jquery.com/jquery-3.5.1.min',\n",
       "        datatables: 'https://cdn.datatables.net/1.11.3/js/jquery.dataTables.min',\n",
       "    }\n",
       "});\n",
       "\n",
       "require(['jquery'], function($) {\n",
       "    $('head').append('<link rel=\"stylesheet\" type=\"text/css\" \\\n",
       "                href = \"https://cdn.datatables.net/1.10.19/css/jquery.dataTables.min.css\" > ');\n",
       "    $('head').append('<style> table td { text-overflow: ellipsis; overflow: hidden; } </style>');\n",
       "});\n",
       "require(['jquery'], function($) {\n",
       "$('head').append(`<script>\n",
       "function eval_functions(map_or_text) {\n",
       "    if (typeof map_or_text === \"string\") {\n",
       "        if (map_or_text.startsWith(\"function\")) {\n",
       "            try {\n",
       "                // Note: parenthesis are required around the whole expression for eval to return a value!\n",
       "                // See https://stackoverflow.com/a/7399078/911298.\n",
       "                //\n",
       "                // eval(\"local_fun = \" + map_or_text) would fail because local_fun is not declared\n",
       "                // (using var, let or const would work, but it would only be declared in the local scope\n",
       "                // and therefore the value could not be retrieved).\n",
       "                const func = eval(\"(\" + map_or_text + \")\");\n",
       "                if (typeof func !== \"function\") {\n",
       "                    // Note: backquotes are super convenient!\n",
       "                    // https://developer.mozilla.org/en-US/docs/Web/JavaScript/Reference/Template_literals\n",
       "                    console.error(\"Evaluated expression \" + map_or_text + \" is not a function (type is \" + typeof func + \")\");\n",
       "                    return map_or_text;\n",
       "                }\n",
       "                // Return the function\n",
       "                return func;\n",
       "            } catch (e) {\n",
       "                // Make sure to print the error with a second argument to console.error().\n",
       "                console.error(\"itables was not able to parse \" + map_or_text, e);\n",
       "            }\n",
       "        }\n",
       "    } else if (typeof map_or_text === \"object\") {\n",
       "        if (map_or_text instanceof Array) {\n",
       "            // Note: \"var\" is now superseded by \"let\" and \"const\".\n",
       "            // https://medium.com/javascript-scene/javascript-es6-var-let-or-const-ba58b8dcde75\n",
       "            const result = [];\n",
       "            // Note: \"for of\" is the best way to iterate through an iterable.\n",
       "            // https://developer.mozilla.org/en-US/docs/Web/JavaScript/Reference/Statements/for...of\n",
       "            for (const item of map_or_text) {\n",
       "                result.push(eval_functions(item));\n",
       "            }\n",
       "            return result;\n",
       "\n",
       "            // Alternatively, more functional approach in one line:\n",
       "            // return map_or_text.map(eval_functions);\n",
       "        } else {\n",
       "            const result = {};\n",
       "            // Object.keys() is safer than \"for in\" because otherwise you might have keys\n",
       "            // that aren't defined in the object itself.\n",
       "            //\n",
       "            // See https://stackoverflow.com/a/684692/911298.\n",
       "            for (const item of Object.keys(map_or_text)) {\n",
       "                result[item] = eval_functions(map_or_text[item]);\n",
       "            }\n",
       "            return result;\n",
       "        }\n",
       "    }\n",
       "\n",
       "    return map_or_text;\n",
       "}\n",
       "\n",
       "</` + 'script>');});"
      ],
      "text/plain": [
       "<IPython.core.display.Javascript object>"
      ]
     },
     "metadata": {},
     "output_type": "display_data"
    },
    {
     "data": {
      "application/vnd.jupyter.widget-view+json": {
       "model_id": "f4ebbdece60f4bbeabf071929ec4ac41",
       "version_major": 2,
       "version_minor": 0
      },
      "text/plain": [
       "Tab(children=(VBox(children=(HTML(value='<strong>SPECIFICATIONS CATALOG</strong>', layout=Layout(width='10%x')…"
      ]
     },
     "metadata": {},
     "output_type": "display_data"
    },
    {
     "data": {
      "application/vnd.jupyter.widget-view+json": {
       "model_id": "70f50acdc9cd447ca72e7b9032c1da9a",
       "version_major": 2,
       "version_minor": 0
      },
      "text/plain": [
       "Output()"
      ]
     },
     "metadata": {},
     "output_type": "display_data"
    }
   ],
   "source": [
    "import sys\n",
    "sys.path.append('../')\n",
    "import margo_loader\n",
    "import UI_components.component_tab_procurer as tab\n"
   ]
  },
  {
   "cell_type": "markdown",
   "id": "de5f3e56-067f-4c70-b728-03606a349f2c",
   "metadata": {},
   "source": [
    "<img src=\"../img/POEU_logo.png\" width=160px height=100></img>\n",
    "<h3 style='font-weight: bold;'> \n",
    "    What is going on?\n",
    "</h3>\n",
    "<p style='text-align: justify'>\n",
    "The query is sent to <a href='http://publications.europa.eu/webapi/rdf/sparql'>CELLAR's Virtuoso endpoint</a> through a microservice developed by the team, then it returns the results, which are formatted inside the jupyter notebook module using the Pandas library.\n",
    "</p>\n",
    "\n",
    "<strong>Note:</strong> If you want to know more about what is running this module, you can consult the <a href='UI_components/component_tab_procurer.ipynb'>component code</a>.   \n",
    "</p>"
   ]
  },
  {
   "cell_type": "markdown",
   "id": "f5c6139a",
   "metadata": {},
   "source": [
    "<img src='../img/user_journeys/p_j1_estep (2).jpg' alt='procurer step 2' width=20% height=20% align='left'/>"
   ]
  },
  {
   "cell_type": "markdown",
   "id": "790da112",
   "metadata": {},
   "source": [
    "<p style='text-align: justify'>\n",
    "    The Procurer assesses the specifications based on EIF scenario and or the MSP scenarios. For this use the <a href='https://ec.europa.eu/eusurvey/runner/EIFScenario_v500'>EU Survey</a> tool and with the results of the specifications draft the bases to motivate why these specifications can be mentioned as reference/examples specifications in the procurement document.\n",
    "    <br><br>\n",
    "    Please note that this step is supported by the CAMSS team: If the user does not feel confident, the CAMSS Team can perform this assessment upon request or provide support during the performance.\n",
    "</p>"
   ]
  },
  {
   "cell_type": "markdown",
   "id": "14f08f88",
   "metadata": {},
   "source": [
    "<img src='../img/user_journeys/p_j1_estep (3).jpg' alt='procurer step 3' width=20% height=20% align='left'/>"
   ]
  },
  {
   "cell_type": "markdown",
   "id": "5ef85f0c",
   "metadata": {
    "scrolled": true
   },
   "source": [
    "<p style='text-align: justify'>\n",
    "    The Procurer has now a measure of the strength of the specification, which can be used to motivate the mention of this specification in the procurement documents, as well as when and how it could be used.\n",
    "</p>"
   ]
  },
  {
   "cell_type": "code",
   "execution_count": null,
   "id": "7d07070c",
   "metadata": {},
   "outputs": [],
   "source": []
  }
 ],
 "metadata": {
  "kernelspec": {
   "display_name": "camss_kd_jupyter",
   "language": "python",
   "name": "camss_kd_jupyter"
  },
  "language_info": {
   "codemirror_mode": {
    "name": "ipython",
    "version": 3
   },
   "file_extension": ".py",
   "mimetype": "text/x-python",
   "name": "python",
   "nbconvert_exporter": "python",
   "pygments_lexer": "ipython3",
   "version": "3.8.5"
  },
  "toc-autonumbering": false,
  "toc-showcode": true,
  "toc-showmarkdowntxt": false,
  "toc-showtags": false
 },
 "nbformat": 4,
 "nbformat_minor": 5
}
