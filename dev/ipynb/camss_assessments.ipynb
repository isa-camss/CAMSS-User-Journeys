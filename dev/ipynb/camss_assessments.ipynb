{
 "cells": [
  {
   "cell_type": "markdown",
   "id": "atomic-angola",
   "metadata": {},
   "source": [
    "<ul style='list-style:none;display:flex;flex-direction:row'>\n",
    "  <li><a href=\"main.ipynb\">Home</a></li> &nbsp;&nbsp;&nbsp;&nbsp;\n",
    "  <li><a href=\"camss_tools.ipynb\">Tools</a></li> &nbsp;&nbsp;&nbsp;&nbsp;\n",
    "  <li><a href=\"camss_assessments.ipynb\">Assessments</a></li> &nbsp;&nbsp;&nbsp;&nbsp;\n",
    "  <li><a href=\"camss_elis.ipynb\">ELIS</a></li> &nbsp;&nbsp;&nbsp;&nbsp;\n",
    "  <li><a href=\"camss_cssv.ipynb\">CSSV</a></li> &nbsp;&nbsp;&nbsp;&nbsp;\n",
    "  <li><a href=\"camss_cav.ipynb\">CAV</a></li> &nbsp;&nbsp;&nbsp;&nbsp;\n",
    "  <li><a href=\"camss_ontology.ipynb\">Ontology</a></li>\n",
    "</ul>"
   ]
  },
  {
   "cell_type": "markdown",
   "id": "gorgeous-boundary",
   "metadata": {},
   "source": [
    "<table>\n",
    "    <tr>\n",
    "        <td> <img src='src/img/camss_assessment.jpg' alt='assessment logo' style='width:110px;height:100px;border-radius:3px'/>\n",
    "        </td>\n",
    "        <td> <img src='src/img/european-union-logo.png' alt='EU logo' style='width:150px;height:100px;border-radius:3px'/> \n",
    "        </td>\n",
    "    </tr>\n",
    "</table>"
   ]
  },
  {
   "cell_type": "markdown",
   "id": "black-pressure",
   "metadata": {},
   "source": [
    "<strong> <h1 style='text-align: center;'> CAMSS ASSESSMENTS LIBRARY </h1> <strong/>"
   ]
  },
  {
   "cell_type": "markdown",
   "id": "experienced-attention",
   "metadata": {},
   "source": [
    "<p> \n",
    "CAMSS Assessment is a solution which corresponds to the output of an assessment of a standard or technical specification using the CAMSS Tools. Each assessment produced is considered a CAMSS Assessment once it is approved by the CAMSS Team. Any approved assessment is published by the CAMSS Team and publicly available within the Assessment Library.\n",
    "Each assessment constitutes a CAMSS solution and is fully reusable. \n",
    "\n",
    "This section of the jupiter notebook is designed to allow you to run SPARQL queries and extract the information you want about the assessments by interacting with the code that implements it.\n",
    "    \n",
    "Each step you must follow to run the code is separated by blocks, each block describing the function being executed.\n",
    "Let try it out!\n",
    "</p>"
   ]
  },
  {
   "cell_type": "markdown",
   "id": "sudden-archive",
   "metadata": {},
   "source": [
    "<strong> <h2> Import libraries </h2> <strong/>\n",
    "<p> To run whole code you need to prepare the development environment calling some pakages from python libreries. In this case It is calling ipywidgets to use UI components, pandas for analize and manipulate data, SPARQLWrapper to set and format sparql queries and finally pprint to see the results </p>"
   ]
  },
  {
   "cell_type": "code",
   "execution_count": 21,
   "id": "inclusive-mystery",
   "metadata": {},
   "outputs": [],
   "source": [
    "import ipywidgets as widgets\n",
    "import pandas as pd\n",
    "from ipywidgets import Layout\n",
    "from SPARQLWrapper import SPARQLWrapper, JSON, CSV\n",
    "from pprint import pprint"
   ]
  },
  {
   "cell_type": "markdown",
   "id": "backed-arctic",
   "metadata": {},
   "source": [
    "<strong> <h2> Establish connection to CELLAR Triplestore </h2> <strong/>\n",
    "<p> Cellar is the open source platform that runs virtuoso within which triplets and graphs can be found. </p>"
   ]
  },
  {
   "cell_type": "code",
   "execution_count": 22,
   "id": "upset-analyst",
   "metadata": {},
   "outputs": [],
   "source": [
    "cellar_connection = SPARQLWrapper('http://publications.europa.eu/webapi/rdf/sparql')"
   ]
  },
  {
   "cell_type": "markdown",
   "id": "understood-sydney",
   "metadata": {},
   "source": [
    "<strong> <h2> Send query and obtain results </h2> <strong/>"
   ]
  },
  {
   "cell_type": "code",
   "execution_count": 23,
   "id": "bound-olive",
   "metadata": {},
   "outputs": [
    {
     "data": {
      "application/vnd.jupyter.widget-view+json": {
       "model_id": "ac7fa2a87b5f42dabf17b27002652b32",
       "version_major": 2,
       "version_minor": 0
      },
      "text/plain": [
       "Textarea(value='', layout=Layout(height='250px', width='100%'), placeholder='Type a query')"
      ]
     },
     "metadata": {},
     "output_type": "display_data"
    },
    {
     "data": {
      "application/vnd.jupyter.widget-view+json": {
       "model_id": "adabc632dec64b8caa98fceac45be07e",
       "version_major": 2,
       "version_minor": 0
      },
      "text/plain": [
       "Button(description='Run', style=ButtonStyle())"
      ]
     },
     "metadata": {},
     "output_type": "display_data"
    },
    {
     "data": {
      "application/vnd.jupyter.widget-view+json": {
       "model_id": "4bb4650796a84806afed776322fcc837",
       "version_major": 2,
       "version_minor": 0
      },
      "text/plain": [
       "Output()"
      ]
     },
     "metadata": {},
     "output_type": "display_data"
    }
   ],
   "source": [
    "# Create a text area to hold query value\n",
    "text_box= widgets.Textarea(\n",
    "    value='',\n",
    "    placeholder='Type a query',\n",
    "    #description='String:',\n",
    "    disabled=False,\n",
    "    layout=Layout(width='100%', height='250px')\n",
    ")\n",
    "display(text_box)\n",
    "\n",
    "# Create a button to send the query\n",
    "button= widgets.Button(description='Run')\n",
    "output= widgets.Output()\n",
    "\n",
    "display(button, output)\n",
    "\n",
    "# Method to send query\n",
    "def send_query(q):\n",
    "    query=text_box.value\n",
    "    pprint(query)\n",
    "    cellar_connection.setQuery(query)\n",
    "    \n",
    "button.on_click(send_query)\n",
    "\n",
    "# Method to obtain results\n",
    "@output.capture()\n",
    "def obtain_results(send_query):\n",
    "    cellar_connection.setReturnFormat(CSV)\n",
    "    qres = cellar_connection.query().convert()\n",
    "    pprint(qres)\n",
    "    \n",
    "button.on_click(obtain_results)"
   ]
  },
  {
   "cell_type": "code",
   "execution_count": 24,
   "id": "international-floating",
   "metadata": {},
   "outputs": [
    {
     "data": {
      "application/vnd.jupyter.widget-view+json": {
       "model_id": "bc2a21c2449645e89e5cfe3cf7b05c7c",
       "version_major": 2,
       "version_minor": 0
      },
      "text/plain": [
       "Button(description='Run', style=ButtonStyle())"
      ]
     },
     "metadata": {},
     "output_type": "display_data"
    },
    {
     "data": {
      "application/vnd.jupyter.widget-view+json": {
       "model_id": "31ba38be874c4498b3e072be498ab635",
       "version_major": 2,
       "version_minor": 0
      },
      "text/plain": [
       "Output()"
      ]
     },
     "metadata": {},
     "output_type": "display_data"
    }
   ],
   "source": [
    "button= widgets.Button(description='Run')\n",
    "output= widgets.Output()\n",
    "\n",
    "display(button, output)\n",
    "\n",
    "@output.capture()\n",
    "def on_button_clicked(b):\n",
    "    print(\"hi\")\n",
    "    \n",
    "button.on_click(on_button_clicked)"
   ]
  },
  {
   "cell_type": "code",
   "execution_count": null,
   "id": "prepared-inside",
   "metadata": {},
   "outputs": [],
   "source": []
  }
 ],
 "metadata": {
  "kernelspec": {
   "display_name": "Python 3",
   "language": "python",
   "name": "python3"
  },
  "language_info": {
   "codemirror_mode": {
    "name": "ipython",
    "version": 3
   },
   "file_extension": ".py",
   "mimetype": "text/x-python",
   "name": "python",
   "nbconvert_exporter": "python",
   "pygments_lexer": "ipython3",
   "version": "3.8.5"
  },
  "toc-autonumbering": false,
  "toc-showmarkdowntxt": true
 },
 "nbformat": 4,
 "nbformat_minor": 5
}
