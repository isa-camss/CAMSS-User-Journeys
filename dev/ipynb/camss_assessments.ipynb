{
 "cells": [
  {
   "cell_type": "markdown",
   "id": "spatial-revision",
   "metadata": {},
   "source": [
    "<ul style='list-style:none;display:flex;flex-direction:row'>\n",
    "  <li><a href=\"main.ipynb\">Home</a></li> &nbsp;&nbsp;&nbsp;&nbsp;\n",
    "  <li><a href=\"camss_tools.ipynb\">Tools</a></li> &nbsp;&nbsp;&nbsp;&nbsp;\n",
    "  <li><a href=\"camss_assessments.ipynb\">Assessments</a></li> &nbsp;&nbsp;&nbsp;&nbsp;\n",
    "  <li><a href=\"camss_elis.ipynb\">ELIS</a></li> &nbsp;&nbsp;&nbsp;&nbsp;\n",
    "  <li><a href=\"camss_cssv.ipynb\">CSSV</a></li> &nbsp;&nbsp;&nbsp;&nbsp;\n",
    "  <li><a href=\"camss_cav.ipynb\">CAV</a></li> &nbsp;&nbsp;&nbsp;&nbsp;\n",
    "  <li><a href=\"camss_ontology.ipynb\">Ontology</a></li>\n",
    "</ul>"
   ]
  },
  {
   "cell_type": "markdown",
   "id": "skilled-travel",
   "metadata": {},
   "source": [
    "<table>\n",
    "    <tr>\n",
    "        <td> <img src='src/assets/img/camss_assessment.jpg' alt='assessment logo' style='width:110px;height:100px;border-radius:3px'/>\n",
    "        </td>\n",
    "        <td> <img src='src/assets/img/european-union-logo.png' alt='EU logo' style='width:150px;height:100px;border-radius:3px'/> \n",
    "        </td>\n",
    "    </tr>\n",
    "</table>"
   ]
  },
  {
   "cell_type": "markdown",
   "id": "adopted-inquiry",
   "metadata": {},
   "source": [
    "<strong> <h1 style='text-align: center;'> CAMSS ASSESSMENTS LIBRARY </h1> <strong/>"
   ]
  },
  {
   "cell_type": "markdown",
   "id": "square-resolution",
   "metadata": {},
   "source": [
    "<p> \n",
    "The CAMSS Assessment is a solution which corresponds to the output of an assessment of a standard or technical specification using the CAMSS Tools. Each assessment produced is considered a CAMSS Assessment once it is approved by the CAMSS team. Any approved assessment is published by the CAMSS Team and publicly available within the Assessment Library. Each assessment constitutes a CAMSS solition and is fully reusable\n",
    "\n",
    "\n",
    "This section of the jupiter notebook is designed to allow you to run SPARQL queries and extract the information you want about the assessmens by interacting with the code that implements it.\n",
    "    \n",
    "Each step you mus follow to run the code is separated by blocks, each block describing the function being executed. Let try it out!  \n",
    "</p>"
   ]
  },
  {
   "cell_type": "markdown",
   "id": "english-addiction",
   "metadata": {
    "tags": []
   },
   "source": [
    "<strong> <h2> Import libraries </h2> <strong/>\n",
    "<p> To run whole code you need to preparate the development environment calling some pakages from python libraries. In this case it is calling ipywidgets to use UI components, pandas for analize and manipulate data and finally pprint to see the results</p>"
   ]
  },
  {
   "cell_type": "code",
   "execution_count": 1,
   "id": "cardiovascular-portfolio",
   "metadata": {},
   "outputs": [],
   "source": [
    "import requests\n",
    "import ipywidgets as widgets\n",
    "import pandas as pd\n",
    "import json\n",
    "from ipywidgets import Layout, AppLayout, Button, ToggleButtons\n",
    "from pprint import pprint\n",
    "import margo_loader\n"
   ]
  },
  {
   "cell_type": "markdown",
   "id": "coordinated-computer",
   "metadata": {},
   "source": [
    "<strong> <h2> Quering assessments </h2> <strong/>\n",
    "<p>Once you have prepared the environment with the libraries, everything is ready to run the code. As you can see the code is separated into three sections: </p>\n",
    "    <ul>\n",
    "      <li>Goblal variables</li>\n",
    "      <li>UI components: developed with the ipywidgets library</li>\n",
    "      <li>Query functions: run the microservice created to make SPARQL queries to Cellar triplestore</li>\n",
    "    </ul>\n",
    "    \n",
    "<p> Cellar triplestore is the open source platform that runs virtuoso within which triplets and graphs can be found</p>"
   ]
  },
  {
   "cell_type": "code",
   "execution_count": 3,
   "id": "agreed-overhead",
   "metadata": {
    "tags": []
   },
   "outputs": [
    {
     "data": {
      "application/vnd.jupyter.widget-view+json": {
       "model_id": "b02112fedbc74da191e77878dd249698",
       "version_major": 2,
       "version_minor": 0
      },
      "text/plain": [
       "ToggleButtons(options=('Query A', 'Query B', 'Query C', 'Query D'), value='Query A')"
      ]
     },
     "metadata": {},
     "output_type": "display_data"
    },
    {
     "data": {
      "application/vnd.jupyter.widget-view+json": {
       "model_id": "5c38681b58b3483e99155bd95c0f63c0",
       "version_major": 2,
       "version_minor": 0
      },
      "text/plain": [
       "Textarea(value='', layout=Layout(height='300px', width='100%'), placeholder='Type a query')"
      ]
     },
     "metadata": {},
     "output_type": "display_data"
    },
    {
     "data": {
      "application/vnd.jupyter.widget-view+json": {
       "model_id": "cf91ef782e414a2f82c707ea16349d76",
       "version_major": 2,
       "version_minor": 0
      },
      "text/plain": [
       "Button(description='Run', style=ButtonStyle())"
      ]
     },
     "metadata": {},
     "output_type": "display_data"
    },
    {
     "data": {
      "application/vnd.jupyter.widget-view+json": {
       "model_id": "0f3fd23983ec40a8a9fc2f0ef71b4d5e",
       "version_major": 2,
       "version_minor": 0
      },
      "text/plain": [
       "Output()"
      ]
     },
     "metadata": {},
     "output_type": "display_data"
    }
   ],
   "source": [
    "# GLOBAL VARIABLES\n",
    "\n",
    "URL_MICROSERVICE= 'http://localhost:5100/assessments/get_assessments'\n",
    "\n",
    "# UI COMPONENTS\n",
    "\n",
    "# Toggle buttons for default queries selection\n",
    "button_option= ToggleButtons(options=['Query A', 'Query B', 'Query C', 'Query D'])\n",
    "display(button_option)\n",
    "\n",
    "def changed(change):\n",
    "    button_value = button_option.value\n",
    "    query_1 = open('src/query_assessment_by_scenario.txt')\n",
    "    query_2 = 'Hola, soy query b'\n",
    "    query_3 = 'Hola, soy query c'\n",
    "    query_4 = 'Hola, soy query d'\n",
    "    \n",
    "    if button_value == 'Query A':\n",
    "        TEXT_AREA.value = query_1.read()\n",
    "        print(query_1)\n",
    "    elif button_value == 'Query B':\n",
    "        TEXT_AREA.value = query_2\n",
    "        print(query_2)\n",
    "    elif button_value == 'Query C':\n",
    "        TEXT_AREA.value = query_3\n",
    "        print(query_3)\n",
    "    elif button_value == 'Query D':\n",
    "        TEXT_AREA.value = query_4\n",
    "        print(query_4)\n",
    "        \n",
    "button_option.observe(changed, 'value')\n",
    "\n",
    "# Text area to hold query value\n",
    "TEXT_AREA = widgets.Textarea(value='', placeholder='Type a query', layout=Layout(width='100%',height='300px'))\n",
    "display(TEXT_AREA)\n",
    "\n",
    "# Button to send query\n",
    "\n",
    "button= widgets.Button(description='Run')\n",
    "output= widgets.Output()\n",
    "display(button, output)\n",
    "\n",
    "# QUERY FUNCTIONS\n",
    "\n",
    "# Method to execute query\n",
    "@output.capture()\n",
    "def send_query(q):\n",
    "    query= TEXT_AREA.value\n",
    "    params= {'sparql_query': query}\n",
    "    msg= requests.post(url= URL_MICROSERVICE, params= params)\n",
    "    response_json = msg.json()\n",
    "    df_assessments = pd.DataFrame(response_json, columns=['Assessments', 'Scenario'])\n",
    "    pprint(df_assessments)\n",
    "    \n",
    "    \n",
    "button.on_click(send_query)"
   ]
  },
  {
   "cell_type": "code",
   "execution_count": null,
   "id": "golden-chassis",
   "metadata": {},
   "outputs": [],
   "source": []
  }
 ],
 "metadata": {
  "kernelspec": {
   "display_name": "Python 3",
   "language": "python",
   "name": "python3"
  },
  "language_info": {
   "codemirror_mode": {
    "name": "ipython",
    "version": 3
   },
   "file_extension": ".py",
   "mimetype": "text/x-python",
   "name": "python",
   "nbconvert_exporter": "python",
   "pygments_lexer": "ipython3",
   "version": "3.8.5"
  },
  "toc-autonumbering": false,
  "toc-showcode": true,
  "toc-showmarkdowntxt": false,
  "toc-showtags": false
 },
 "nbformat": 4,
 "nbformat_minor": 5
}
