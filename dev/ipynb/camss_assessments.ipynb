{
 "cells": [
  {
   "cell_type": "markdown",
   "id": "lesser-defense",
   "metadata": {},
   "source": [
    "<ul style='list-style:none;display:flex;flex-direction:row'>\n",
    "  <li><a href=\"main.ipynb\">Home</a></li> &nbsp;&nbsp;&nbsp;&nbsp;\n",
    "  <li><a href=\"camss_tools.ipynb\">Tools</a></li> &nbsp;&nbsp;&nbsp;&nbsp;\n",
    "  <li><a href=\"camss_assessments.ipynb\">Assessments</a></li> &nbsp;&nbsp;&nbsp;&nbsp;\n",
    "  <li><a href=\"camss_elis.ipynb\">ELIS</a></li> &nbsp;&nbsp;&nbsp;&nbsp;\n",
    "  <li><a href=\"camss_cssv.ipynb\">CSSV</a></li> &nbsp;&nbsp;&nbsp;&nbsp;\n",
    "  <li><a href=\"camss_cav.ipynb\">CAV</a></li> &nbsp;&nbsp;&nbsp;&nbsp;\n",
    "  <li><a href=\"camss_ontology.ipynb\">Ontology</a></li>\n",
    "</ul>"
   ]
  },
  {
   "cell_type": "markdown",
   "id": "integrated-today",
   "metadata": {},
   "source": [
    "<table>\n",
    "    <tr>\n",
    "        <td> <img src='src/img/camss_assessment.jpg' alt='assessment logo' style='width:110px;height:100px;border-radius:3px'/>\n",
    "        </td>\n",
    "        <td> <img src='src/img/european-union-logo.png' alt='EU logo' style='width:150px;height:100px;border-radius:3px'/> \n",
    "        </td>\n",
    "    </tr>\n",
    "</table>"
   ]
  },
  {
   "cell_type": "markdown",
   "id": "incomplete-report",
   "metadata": {},
   "source": [
    "<strong> <h1 style='text-align: center;'> CAMSS ASSESSMENTS LIBRARY </h1> <strong/>"
   ]
  },
  {
   "cell_type": "markdown",
   "id": "mysterious-spelling",
   "metadata": {},
   "source": [
    "<p> \n",
    "The CAMSS Assessment is a solution which corresponds to the output of an assessment of a standard or technical specification using the CAMSS Tools. Each assessment produced is considered a CAMSS Assessment once it is approved by the CAMSS team. Any approved assessment is published by the CAMSS Team and publicly available within the Assessment Library. Each assessment constitutes a CAMSS solition and is fully reusable\n",
    "\n",
    "\n",
    "This section of the jupiter notebook is designed to allow you to run SPARQL queries and extract the information you want about the assessmens by interacting with the code that implements it.\n",
    "    \n",
    "Each step you mus follow to run the code is separated by blocks, each block describing the function being executed. Let try it out!\n",
    "\n",
    "This section of the jupyter notebook is prepared to...  \n",
    "</p>"
   ]
  },
  {
   "cell_type": "markdown",
   "id": "virgin-management",
   "metadata": {},
   "source": [
    "<strong> <h2> Import libraries </h2> <strong/>\n",
    "<p> To run whole code you need to preparate the development environment calling some pakages from python libraries. In this case it is calling ipywidgets to use UI components, pandas for analize and manipulate data and finally pprint to see the results</p>"
   ]
  },
  {
   "cell_type": "code",
   "execution_count": null,
   "id": "incorporated-release",
   "metadata": {},
   "outputs": [],
   "source": [
    "import requests\n",
    "import ipywidgets as widgets\n",
    "import pandas as pd\n",
    "from ipywidgets import Layout\n",
    "from pprint import pprint"
   ]
  },
  {
   "cell_type": "markdown",
   "id": "amateur-appraisal",
   "metadata": {},
   "source": [
    "<strong> <h2> Code </h2> <strong/>\n",
    "<p> Cellar triplestore is the open source platform that runs virtuoso within which triplets and graphs can be found</p>"
   ]
  },
  {
   "cell_type": "code",
   "execution_count": null,
   "id": "opening-harvest",
   "metadata": {},
   "outputs": [],
   "source": [
    "# GLOBAL VARIABLES\n",
    "\n",
    "URL_MICROSERVICE= 'http://localhost:5100/assessments/get_assessments'\n",
    "\n",
    "# UI COMPONENTS\n",
    "\n",
    "# Text area to hold query value\n",
    "text_area= widgets.Textarea(value='', placeholder='Type a query',disable=False, layout=Layout(width='100%', heigh='250px'))\n",
    "diplay(text_area)\n",
    "\n",
    "# Button to send query\n",
    "button= widgets.Button(description='Run')\n",
    "output= widgets.Output()\n",
    "display(button, output)\n",
    "\n",
    "# QUERY FUNCTIONS\n",
    "\n",
    "# Method to execute query\n",
    "@output.capture()\n",
    "def send_query(q):\n",
    "    query= text_area.value\n",
    "    params= {'sparql_query': query}\n",
    "    msg= requests.post(url= URL_MICROSERVICE, params= params)\n",
    "    response_json=msg.json()\n",
    "    results_format= response_json['results']['bindings']\n",
    "    # TODO: format list json response\n",
    "    df_assessments= pd.DataFrame(results_format, columns=['Assessment','Scenario'])\n",
    "    pprint(df_assessments)\n",
    "\n",
    "button.on_click(send_query)"
   ]
  }
 ],
 "metadata": {
  "kernelspec": {
   "display_name": "Python 3",
   "language": "python",
   "name": "python3"
  },
  "language_info": {
   "codemirror_mode": {
    "name": "ipython",
    "version": 3
   },
   "file_extension": ".py",
   "mimetype": "text/x-python",
   "name": "python",
   "nbconvert_exporter": "python",
   "pygments_lexer": "ipython3",
   "version": "3.8.5"
  }
 },
 "nbformat": 4,
 "nbformat_minor": 5
}
