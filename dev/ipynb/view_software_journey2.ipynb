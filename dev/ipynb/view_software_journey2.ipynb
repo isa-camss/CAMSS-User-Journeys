{
 "cells": [
  {
   "cell_type": "markdown",
   "id": "f7c8859c",
   "metadata": {},
   "source": [
    "<nav>\n",
    "  <a href=\"index.ipynb\">Home</a> &nbsp;&nbsp;&nbsp;\n",
    "  <a href=\"view_journeys.ipynb\">User Journeys</a> &nbsp;&nbsp;&nbsp;\n",
    "</nav>"
   ]
  },
  {
   "cell_type": "markdown",
   "id": "7718de4c",
   "metadata": {},
   "source": [
    "<table>\n",
    "    <tr>\n",
    "        <td> <img src='../img/logo1.jpg' alt='assessment logo' width=110px height=100px margin-right=10px/>\n",
    "        </td>\n",
    "        <td> <img src='../img/european-union-logo.png' alt='EU logo' width=160px height=100px/></td>\n",
    "        <td> <img src='../img/POEU_logo.png' alt='OP logo' width=300px height=150px/> \n",
    "        </td>\n",
    "    </tr>\n",
    "</table>"
   ]
  },
  {
   "cell_type": "markdown",
   "id": "ffed581c",
   "metadata": {},
   "source": [
    "<center>\n",
    "    <strong>\n",
    "        <h1>SOFTWARE ARCHITECT'S<br>JOURNEY #2</h1>\n",
    "    </strong>\n",
    "</center>"
   ]
  },
  {
   "cell_type": "markdown",
   "id": "8d367a61",
   "metadata": {},
   "source": [
    "<p style='text-align: justify'> \n",
    "Welcome to this user journey, you are here because you want to consult all the assessments of all the interoperability specifications linked to one or more EIRA ABBs, in order to be able to recommend to the procurer how to approach the LOST interoperability solutions required for a specific contract. We invite you to follow each of the steps below.</p>\n",
    "<h3>Let's start!</h3>"
   ]
  },
  {
   "cell_type": "markdown",
   "id": "a026862c",
   "metadata": {},
   "source": [
    "<img src='../img/user_journeys/user_journey_architect2.jpg' alt='Software Architect Journey Map' width=100% height=100%/>"
   ]
  },
  {
   "cell_type": "markdown",
   "id": "cf74f6c8",
   "metadata": {},
   "source": [
    "<img src='../img/user_journeys/sa_j2_step (1).jpg' alt='Software Architect Journey Map' width=20% height=20% align='left'/>"
   ]
  },
  {
   "cell_type": "markdown",
   "id": "0effeea1",
   "metadata": {},
   "source": [
    "<p style='text-align: justify'>\n",
    "    This PoC puts forward EIRA as the default Reference Framework since EIRA was designed having Public Administrations in mind, the scope of EIRA covers most interoperability enablers, and abundant descriptions, examples, and specifications are provided for each ABB.\n",
    "</p>"
   ]
  },
  {
   "cell_type": "markdown",
   "id": "231bf486",
   "metadata": {},
   "source": [
    "<img src='../img/user_journeys/sa_j2_step (2).jpg' alt='Software Architect Journey Map' width=20% height=20% align='left'/>"
   ]
  },
  {
   "cell_type": "markdown",
   "id": "f6bfe013",
   "metadata": {},
   "source": [
    "<p style='text-align: justify'>\n",
    "     e.g. one or more ABBs from the semantic layer\n",
    "</p>"
   ]
  },
  {
   "cell_type": "markdown",
   "id": "48660f82",
   "metadata": {},
   "source": [
    "<img src='../img/user_journeys/sa_j2_step (3).jpg' alt='Software Architect Journey Map' width=20% height=20% align='left'/>"
   ]
  },
  {
   "cell_type": "markdown",
   "id": "583ca7a9",
   "metadata": {},
   "source": [
    "<p style='text-align: justify'>\n",
    "    <ol>\n",
    "        <li>The ABBs and the particular SBBs of the “as-is” RIE, and</li>\n",
    "        <li>Per each ABB, each specification is implemented in the corresponding SBB.</li>\n",
    "    </ol>\n",
    "    An SBB is a “realisation” (an implementation) of one ABB of the Reference Framework (in our case EIRA). Each EIRA ABB can be linked to one or more standards and specifications (and as a matter of fact, this linking is supported in CAMSS via the EIRA Library of Interoperability Specifications, ELIS). The task, in this step, is for the user to depict the set of ABBs currently integrated into the source RIE and, for each ABB, attach to it the particular SBBs and the specifications these implement. The goal of this task is to facilitate the identification of the specification, the understanding of its functionality, and the discovery of possible assessments performed on the specifications already integrated into the source RIE. One recommendation is to use the tool Archi and the EIRA Cartool for this type of representation. Additionally, the EIRA Cartool provides an up-to-date list of specifications per ABB.\n",
    "</p>"
   ]
  },
  {
   "cell_type": "markdown",
   "id": "c3ee4d02",
   "metadata": {},
   "source": [
    "<img src='../img/user_journeys/sa_j2_step (4).jpg' alt='Software Architect Journey Map' width=20% height=20% align='left'/>"
   ]
  },
  {
   "cell_type": "markdown",
   "id": "42959a15",
   "metadata": {},
   "source": [
    "<p style='text-align: justify'>\n",
    "     Each SBB has its own specifications, therefore the identification and representation of the specification versions have to be done ABB per ABB. If the user has not identified specifications for a particular ABB, \te.g. through an ad hoc desk research or upon recommendation, he/she can use Archi and the EIRA \tCartool to both peruse the list of specifications and versions linked to the particular ABB as well as to draft the target RIE representation.  \n",
    "</p>\n"
   ]
  },
  {
   "cell_type": "markdown",
   "id": "06b8fab4",
   "metadata": {},
   "source": [
    "<img src='../img/user_journeys/sa_j2_step (5).jpg' alt='Software Architect Journey Map' width=20% height=20% align='left'/>"
   ]
  },
  {
   "cell_type": "markdown",
   "id": "1d766265",
   "metadata": {},
   "source": [
    "<p style='text-align: justify'>\n",
    "     Per each ABB, use the <a href='https://ec.europa.eu/eusurvey/runner/EIFScenario_v500'>EU Survey</a> tool to perform the assessment of each specification of the ABB. <br><br> \n",
    "    Please note that this step is supported by the CAMSS team: If the user does not feel confident, the CAMSS Team can perform this assessment upon request or provide support during the performance.\n",
    "</p>"
   ]
  },
  {
   "cell_type": "markdown",
   "id": "5adcc27c",
   "metadata": {},
   "source": [
    "<img src='../img/user_journeys/sa_j2_step (6).jpg' alt='Software Architect Journey Map' width=20% height=20% align='left'/>"
   ]
  },
  {
   "cell_type": "markdown",
   "id": "f15383ab",
   "metadata": {},
   "source": [
    "<p style='text-align: justify'>\n",
    "     In the representation of the target RIE, mark the specification implementation linked to the ABB as “compatible” or “incompatible”. Motivate the incompatibility, e.g. by providing a reference to the concrete criteria and responses that support the decision of the assessor.  \n",
    "</p>"
   ]
  },
  {
   "cell_type": "markdown",
   "id": "3b5f7d4e",
   "metadata": {},
   "source": [
    "<img src='../img/user_journeys/sa_j2_step (7).jpg' alt='Software Architect Journey Map' width=20% height=20% align='left'/>"
   ]
  },
  {
   "cell_type": "markdown",
   "id": "f2132c6f",
   "metadata": {},
   "source": [
    "<p style='text-align: justify'>\n",
    "    <ol>\n",
    "        <li>Use the results of the assessment, along with the representations of the source and target RIE to document and motivate the implementation (or not) of the specification per ABB,</li>\n",
    "        <li>Include a chapter with the general conclusions of the journey. One conclusion may be that the specification is not only incompatible with the target RIE, but also in general with the ABB from the Reference Framework. If that is the case, communicate this conclusion to the authority maintaining the Reference Framework (e.g., EIRA, in the case of this pilot), and attach the compatibility assessment report.</li>\n",
    "    </ol>\n",
    "</p>"
   ]
  },
  {
   "cell_type": "code",
   "execution_count": null,
   "id": "1951ac60",
   "metadata": {},
   "outputs": [],
   "source": []
  }
 ],
 "metadata": {
  "kernelspec": {
   "display_name": "Python 3",
   "language": "python",
   "name": "python3"
  },
  "language_info": {
   "codemirror_mode": {
    "name": "ipython",
    "version": 3
   },
   "file_extension": ".py",
   "mimetype": "text/x-python",
   "name": "python",
   "nbconvert_exporter": "python",
   "pygments_lexer": "ipython3",
   "version": "3.8.5"
  },
  "toc-autonumbering": false,
  "toc-showcode": true,
  "toc-showmarkdowntxt": false,
  "toc-showtags": false
 },
 "nbformat": 4,
 "nbformat_minor": 5
}
