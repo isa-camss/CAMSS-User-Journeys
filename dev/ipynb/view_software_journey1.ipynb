{
 "cells": [
  {
   "cell_type": "markdown",
   "id": "f7c8859c",
   "metadata": {},
   "source": [
    "<nav>\n",
    "  <a href=\"index.ipynb\">Home</a> &nbsp;&nbsp;&nbsp;\n",
    "  <a href=\"view_journeys.ipynb\">User Journeys</a> &nbsp;&nbsp;&nbsp;\n",
    "</nav>"
   ]
  },
  {
   "cell_type": "markdown",
   "id": "7718de4c",
   "metadata": {},
   "source": [
    "<table>\n",
    "    <tr>\n",
    "        <td> <img src='../img/logo1.jpg' alt='assessment logo' width=110px height=100px margin-right=10px/>\n",
    "        </td>\n",
    "        <td> <img src='../img/european-union-logo.png' alt='EU logo' width=160px height=100px/></td>\n",
    "        <td> <img src='../img/POEU_logo.png' alt='OP logo' width=300px height=150px/> \n",
    "        </td>\n",
    "    </tr>\n",
    "</table>"
   ]
  },
  {
   "cell_type": "markdown",
   "id": "ffed581c",
   "metadata": {},
   "source": [
    "<center>\n",
    "    <strong>\n",
    "        <h1>SOFTWARE ARCHITECT'S<br>JOURNEY #1</h1>\n",
    "    </strong>\n",
    "</center>"
   ]
  },
  {
   "cell_type": "markdown",
   "id": "9eae8140",
   "metadata": {},
   "source": [
    "<p style='text-align: justify'> \n",
    "Hello and welcome to this journey, it has been designed so that you can interact with some of the CAMSS tools in an easy and interactive way, ensuring that you always get the information that best suits your needs. We invite you to follow each of the steps below.</p>\n",
    "<h3>Let's start!</h3>\n",
    "<p style='text-align: justify'> \n",
    "Click on the \"Kernel\" menu and choose the option \"Restart & Run All\". Once you have started the application you can press the button \"Show code\" if you want to see some pieces of code that launch UI components.</p>"
   ]
  },
  {
   "cell_type": "code",
   "execution_count": 1,
   "id": "e1be147e",
   "metadata": {},
   "outputs": [
    {
     "data": {
      "text/html": [
       "<script>$(\"div.input\").hide()</script>"
      ],
      "text/plain": [
       "<IPython.core.display.HTML object>"
      ]
     },
     "metadata": {},
     "output_type": "display_data"
    },
    {
     "data": {
      "application/vnd.jupyter.widget-view+json": {
       "model_id": "4a0305c1d17f46679bf3d9941eafc16a",
       "version_major": 2,
       "version_minor": 0
      },
      "text/plain": [
       "ToggleButton(value=False, description='Show code')"
      ]
     },
     "metadata": {},
     "output_type": "display_data"
    }
   ],
   "source": [
    "from hidecode import display_hidebuttom\n",
    "display_hidebuttom()"
   ]
  },
  {
   "cell_type": "markdown",
   "id": "743c848d",
   "metadata": {},
   "source": [
    "<img src='../img/user_journeys/user_journey_architect1.jpg' alt='Software Architect Journey Map 1' width=90% height=90%/>"
   ]
  },
  {
   "cell_type": "markdown",
   "id": "c9d8eefb",
   "metadata": {},
   "source": [
    "<img src='../img/user_journeys/sa-_j1_step (1).jpg' alt='Software Architect Journey Map' width=20% height=20% align='left'/>"
   ]
  },
  {
   "cell_type": "markdown",
   "id": "3de36418",
   "metadata": {},
   "source": [
    "<p style='text-align: justify'>\n",
    "For this step the CAMSS team has developed a component that allows you to access what you need through SPARQL queries in an easy and fast way. Since all CAMSS datasets are obtained from <a href='https://op.europa.eu/en/web/eu-vocabularies/news/-/blogs/new-brochure-about-cellar'>CELLAR</a>, the component provides you <u>prepared queries</u> which help you obtain usefull information.<br>    \n",
    "Additionally, it allows you to draft your own custom queries. So feel free to use this notebook to experiment with the CAMSS datasets in CELLAR. Alternatively, you could use the <a href='http://publications.europa.eu/webapi/rdf/sparql'>CELLAR's Virtuoso endpoint</a>. \n",
    "<br><br>\n",
    "With this in mind, let's try out! (Remember: click on Kernel & Run All to start)\n",
    "</p>"
   ]
  },
  {
   "cell_type": "code",
   "execution_count": 2,
   "id": "888caa5c",
   "metadata": {
    "scrolled": false
   },
   "outputs": [
    {
     "data": {
      "application/javascript": [
       "require.config({\n",
       "    paths: {\n",
       "        datatables: 'https://cdn.datatables.net/1.10.19/js/jquery.dataTables.min',\n",
       "    }\n",
       "});\n",
       "\n",
       "$('head').append('<link rel=\"stylesheet\" type=\"text/css\" \\\n",
       "                href = \"https://cdn.datatables.net/1.10.19/css/jquery.dataTables.min.css\" > ');\n",
       "\n",
       "$('head').append('<style> table td { text-overflow: ellipsis; overflow: hidden; } </style>');\n",
       "\n",
       "$('head').append(`<script>\n",
       "function eval_functions(map_or_text) {\n",
       "    if (typeof map_or_text === \"string\") {\n",
       "        if (map_or_text.startsWith(\"function\")) {\n",
       "            try {\n",
       "                // Note: parenthesis are required around the whole expression for eval to return a value!\n",
       "                // See https://stackoverflow.com/a/7399078/911298.\n",
       "                //\n",
       "                // eval(\"local_fun = \" + map_or_text) would fail because local_fun is not declared\n",
       "                // (using var, let or const would work, but it would only be declared in the local scope\n",
       "                // and therefore the value could not be retrieved).\n",
       "                const func = eval(\"(\" + map_or_text + \")\");\n",
       "                if (typeof func !== \"function\") {\n",
       "                    // Note: backquotes are super convenient!\n",
       "                    // https://developer.mozilla.org/en-US/docs/Web/JavaScript/Reference/Template_literals\n",
       "                    console.error(\"Evaluated expression \" + map_or_text + \" is not a function (type is \" + typeof func + \")\");\n",
       "                    return map_or_text;\n",
       "                }\n",
       "                // Return the function\n",
       "                return func;\n",
       "            } catch (e) {\n",
       "                // Make sure to print the error with a second argument to console.error().\n",
       "                console.error(\"itables was not able to parse \" + map_or_text, e);\n",
       "            }\n",
       "        }\n",
       "    } else if (typeof map_or_text === \"object\") {\n",
       "        if (map_or_text instanceof Array) {\n",
       "            // Note: \"var\" is now superseded by \"let\" and \"const\".\n",
       "            // https://medium.com/javascript-scene/javascript-es6-var-let-or-const-ba58b8dcde75\n",
       "            const result = [];\n",
       "            // Note: \"for of\" is the best way to iterate through an iterable.\n",
       "            // https://developer.mozilla.org/en-US/docs/Web/JavaScript/Reference/Statements/for...of\n",
       "            for (const item of map_or_text) {\n",
       "                result.push(eval_functions(item));\n",
       "            }\n",
       "            return result;\n",
       "\n",
       "            // Alternatively, more functional approach in one line:\n",
       "            // return map_or_text.map(eval_functions);\n",
       "        } else {\n",
       "            const result = {};\n",
       "            // Object.keys() is safer than \"for in\" because otherwise you might have keys\n",
       "            // that aren't defined in the object itself.\n",
       "            //\n",
       "            // See https://stackoverflow.com/a/684692/911298.\n",
       "            for (const item of Object.keys(map_or_text)) {\n",
       "                result[item] = eval_functions(map_or_text[item]);\n",
       "            }\n",
       "            return result;\n",
       "        }\n",
       "    }\n",
       "\n",
       "    return map_or_text;\n",
       "}\n",
       "\n",
       "</` + 'script>');"
      ],
      "text/plain": [
       "<IPython.core.display.Javascript object>"
      ]
     },
     "metadata": {},
     "output_type": "display_data"
    },
    {
     "data": {
      "application/vnd.jupyter.widget-view+json": {
       "model_id": "56e13baaa825467b85f2aebd45c9c752",
       "version_major": 2,
       "version_minor": 0
      },
      "text/plain": [
       "Tab(children=(VBox(children=(HTML(value='<strong>SPECIFICATIONS ASSOCIATED TO EIRA ABBs</strong>', layout=Layo…"
      ]
     },
     "metadata": {},
     "output_type": "display_data"
    },
    {
     "data": {
      "application/vnd.jupyter.widget-view+json": {
       "model_id": "b582d8bbd4de42a2ad212c60f1c777f1",
       "version_major": 2,
       "version_minor": 0
      },
      "text/plain": [
       "Output()"
      ]
     },
     "metadata": {},
     "output_type": "display_data"
    }
   ],
   "source": [
    "import sys\n",
    "sys.path.append('../')\n",
    "import margo_loader\n",
    "import UI_components.component_tab_software as tab"
   ]
  },
  {
   "cell_type": "markdown",
   "id": "b97ff5aa",
   "metadata": {},
   "source": [
    "<img src=\"../img/POEU_logo.png\" width=160px height=100></img>\n",
    "<p style='text-align: justify'>\n",
    "The results of the query can be used to cross-check the specifications found in CELLAR with the specifications linked to the EIRA ABBs via ELIS:<br>\n",
    "</p>\n",
    "<img src=\"../img/user_journeys/iden_spec.png\" width=50% height=50%></img>\n",
    "<p style='text-align: center'>\n",
    "Identification of existing specifications in Archi.<br>\n",
    "</p>\n",
    "\n",
    "<h3 style='font-weight: bold;'> \n",
    "    What is going on?\n",
    "</h3>\n",
    "<p style='text-align: justify'>\n",
    "The query is sent to <a href=\"view_glossary.ipynb\">Cellar triplestore</a> through a microservice developed by the team, then it returns the results, which are formatted inside the jupyter notebook module using the Pandas library.\n",
    "</p>\n",
    "\n",
    "<strong>Note:</strong> If you want to know more about what is running this module, you can consult the <a href='UI_components/component_tab_software.ipynb'>component code</a>.   \n",
    "</p>"
   ]
  },
  {
   "cell_type": "markdown",
   "id": "84d79f95",
   "metadata": {},
   "source": [
    "<img src='../img/user_journeys/sa-_j1_step (2).jpg' alt='Software Architect Journey Map' width=20% height=20% align='left'/>"
   ]
  },
  {
   "cell_type": "markdown",
   "id": "a3ea9378",
   "metadata": {},
   "source": [
    "<p style='text-align: justify'>\n",
    "    The Software Architect assesses the specifications based on EIF scenario, the MSP scenario or TS scenario. For this use the <a href='https://ec.europa.eu/eusurvey/runner/EIFScenario_v500'>EU Survey</a> tool and with the results of the specifications draft the architecture proposal.\n",
    "</p>"
   ]
  },
  {
   "cell_type": "markdown",
   "id": "fc474d61",
   "metadata": {},
   "source": [
    "<img src='../img/user_journeys/sa-_j1_step (3).jpg' alt='Software Architect Journey Map' width=20% height=20% align='left'/>"
   ]
  },
  {
   "cell_type": "markdown",
   "id": "6cee9027",
   "metadata": {},
   "source": [
    "<p style='text-align: justify'>\n",
    "    The software architect takes those specifications which assessments cast the greatest strengths as candidates to be integrated in the architecture proposal. This proposal is the one that the Software Architect will suggest to the Procurer that will be included as part of the procurement documents.<br>\n",
    "    The task for the Software Architect consist in studying wheter the specifications should be implemented or not in the desired target architecture and how.The options are:\n",
    "    <ol>\n",
    "        <li>The software architect builds the proposal based on a deep knowledge on both the specifications and of an objective target architecture,</li>\n",
    "        <li>The software architect builds the proposal based on a compatibility assessment and a target Reference Integrated Environment (RIE); in which case one or more compatibility assessment are initiated.</li>\n",
    "    </ol>\n",
    "</p>"
   ]
  },
  {
   "cell_type": "markdown",
   "id": "2a4e6335",
   "metadata": {},
   "source": [
    "<img src='../img/user_journeys/sa-_j1_step (4).jpg' alt='Software Architect Journey Map' width=20% height=20% align='left'/>"
   ]
  },
  {
   "cell_type": "markdown",
   "id": "6ca316fc",
   "metadata": {},
   "source": [
    "<p style='text-align: justify'>\n",
    "    The software architect presents the architecture proposal to the Procure. The objectives of this presentation are:\n",
    "    <ol>\n",
    "        <li>Explain to the procurer the proposal. The explanation shows the global view of the architecture and each component of the architecture, as well as the reference to the EIRA ABB and additional information,</li>\n",
    "        <li>Show each specifications linked to each architecture component. Each specifications is accompanied whith its name, version, author/authority, and CAMSS Assessment(s),</li>\n",
    "        <li>Motivate why this specification can be mentioned in the procurement documents. The motivation should use the reports containing the results of the CAMSS Assessments (i.e., EIF scenario, compatibility scenario, MSP scenario), since these scenarios are aligned whith the European Law, ELAP, EIRA, and Member States interests.</li>\n",
    "    </ol>\n",
    "    The image below shows the estructure of target RIE:\n",
    "</p>\n",
    "\n",
    "<img src=\"../img/user_journeys/rie.png\" width=50% height=50%></img>\n",
    "<p style='text-align: center'>\n",
    "Target RIE<br>\n",
    "</p>\n",
    "\n",
    "<p>\n",
    "The software architect can improve his proposal by studying which specifications to integrate into his IT environment, he could go through User <a href='view_software_journey2.ipynb'>Journey #2</a> of this User Story.\n",
    "</p>"
   ]
  },
  {
   "cell_type": "code",
   "execution_count": null,
   "id": "a14272ce",
   "metadata": {},
   "outputs": [],
   "source": []
  }
 ],
 "metadata": {
  "kernelspec": {
   "display_name": "Python 3",
   "language": "python",
   "name": "python3"
  },
  "language_info": {
   "codemirror_mode": {
    "name": "ipython",
    "version": 3
   },
   "file_extension": ".py",
   "mimetype": "text/x-python",
   "name": "python",
   "nbconvert_exporter": "python",
   "pygments_lexer": "ipython3",
   "version": "3.8.8"
  },
  "toc-autonumbering": false,
  "toc-showcode": true,
  "toc-showmarkdowntxt": false,
  "toc-showtags": false
 },
 "nbformat": 4,
 "nbformat_minor": 5
}
