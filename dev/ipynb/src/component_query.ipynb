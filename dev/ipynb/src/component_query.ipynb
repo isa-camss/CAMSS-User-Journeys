{
 "cells": [
  {
   "cell_type": "code",
   "execution_count": 1,
   "metadata": {},
   "outputs": [],
   "source": [
    "import requests\n",
    "import ipywidgets as widgets\n",
    "import pandas as pd\n",
    "import json\n",
    "from ipywidgets import Layout, AppLayout, Button, ToggleButtons\n",
    "from pprint import pprint"
   ]
  },
  {
   "cell_type": "code",
   "execution_count": 2,
   "metadata": {},
   "outputs": [
    {
     "data": {
      "application/vnd.jupyter.widget-view+json": {
       "model_id": "3896fa544ed943fa994534170c4c79c0",
       "version_major": 2,
       "version_minor": 0
      },
      "text/plain": [
       "ToggleButtons(options=('Query A', 'Query B', 'Query C', 'Query D'), value='Query A')"
      ]
     },
     "metadata": {},
     "output_type": "display_data"
    },
    {
     "data": {
      "application/vnd.jupyter.widget-view+json": {
       "model_id": "af2ad82675024b70b107335de9f17b93",
       "version_major": 2,
       "version_minor": 0
      },
      "text/plain": [
       "Textarea(value='', layout=Layout(height='300px', width='100%'), placeholder='Type a query')"
      ]
     },
     "metadata": {},
     "output_type": "display_data"
    },
    {
     "data": {
      "application/vnd.jupyter.widget-view+json": {
       "model_id": "0738fbc2cf154c6eb9ca676634056b1f",
       "version_major": 2,
       "version_minor": 0
      },
      "text/plain": [
       "Button(description='Run', style=ButtonStyle())"
      ]
     },
     "metadata": {},
     "output_type": "display_data"
    },
    {
     "data": {
      "application/vnd.jupyter.widget-view+json": {
       "model_id": "49268a47299c48ca809a67094383c784",
       "version_major": 2,
       "version_minor": 0
      },
      "text/plain": [
       "Output()"
      ]
     },
     "metadata": {},
     "output_type": "display_data"
    }
   ],
   "source": [
    "# GLOBAL VARIABLES\n",
    "\n",
    "URL_MICROSERVICE= 'http://localhost:5100/assessments/get_assessments'\n",
    "\n",
    "# UI COMPONENTS\n",
    "\n",
    "# Toggle buttons for default queries selection\n",
    "button_option= ToggleButtons(options=['Query A', 'Query B', 'Query C', 'Query D'])\n",
    "display(button_option)\n",
    "\n",
    "def changed(change):\n",
    "    button_value = button_option.value\n",
    "    query_1 = open('query_assessment_by_scenario.txt')\n",
    "    query_2 = 'Im query b'\n",
    "    query_3 = 'Hola, soy query c'\n",
    "    query_4 = 'Hola, soy query d'\n",
    "    \n",
    "    if button_value == 'Query A':\n",
    "        TEXT_AREA.value = query_1.read()\n",
    "        print(query_1)\n",
    "    elif button_value == 'Query B':\n",
    "        TEXT_AREA.value = query_2\n",
    "        print(query_2)\n",
    "    elif button_value == 'Query C':\n",
    "        TEXT_AREA.value = query_3\n",
    "        print(query_3)\n",
    "    elif button_value == 'Query D':\n",
    "        TEXT_AREA.value = query_4\n",
    "        print(query_4)\n",
    "        \n",
    "button_option.observe(changed, 'value')\n",
    "\n",
    "# Text area to hold query value\n",
    "TEXT_AREA = widgets.Textarea(value='', placeholder='Type a query', layout=Layout(width='100%',height='300px'))\n",
    "display(TEXT_AREA)\n",
    "\n",
    "# Button to send query\n",
    "\n",
    "button= widgets.Button(description='Run')\n",
    "output= widgets.Output()\n",
    "display(button, output)\n",
    "\n",
    "# QUERY FUNCTIONS\n",
    "\n",
    "# Method to execute query\n",
    "@output.capture()\n",
    "def send_query(q):\n",
    "    query= TEXT_AREA.value\n",
    "    params= {'sparql_query': query}\n",
    "    msg= requests.post(url= URL_MICROSERVICE, params= params)\n",
    "    response_json = msg.json()\n",
    "    df_assessments = pd.DataFrame(response_json, columns=['Assessments', 'Scenario'])\n",
    "    pprint(df_assessments)\n",
    "    \n",
    "    \n",
    "button.on_click(send_query)"
   ]
  },
  {
   "cell_type": "code",
   "execution_count": null,
   "metadata": {},
   "outputs": [],
   "source": []
  }
 ],
 "metadata": {
  "kernelspec": {
   "display_name": "Python 3",
   "language": "python",
   "name": "python3"
  },
  "language_info": {
   "codemirror_mode": {
    "name": "ipython",
    "version": 3
   },
   "file_extension": ".py",
   "mimetype": "text/x-python",
   "name": "python",
   "nbconvert_exporter": "python",
   "pygments_lexer": "ipython3",
   "version": "3.8.5"
  }
 },
 "nbformat": 4,
 "nbformat_minor": 5
}
