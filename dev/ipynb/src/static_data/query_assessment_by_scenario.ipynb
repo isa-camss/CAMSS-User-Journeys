{
 "cells": [
  {
   "cell_type": "code",
   "execution_count": null,
   "id": "agricultural-guarantee",
   "metadata": {},
   "outputs": [],
   "source": [
    "QUERY_A = '''PREFIX camssa: <http://data.europa.eu/2sa/assessments/> \n",
    "PREFIX cssvrsc: <http://data.europa.eu/2sa/cssv/rsc/>\n",
    "PREFIX sc: <http://data.europa.eu/2sa/scenarios#>\n",
    "PREFIX rdf: <http://www.w3.org/1999/02/22-rdf-syntax-ns#>\n",
    "PREFIX cav: <http://data.europa.eu/2sa/cav#>\n",
    "PREFIX camss: <http://data.europa.eu/2sa#>\n",
    "PREFIX cssv: <http://data.europa.eu/2sa/cssv#>\n",
    "PREFIX dct: <http://purl.org/dc/terms/>\n",
    "select distinct ?Assessment ?Scenario\n",
    "where {\n",
    "    ?assObj rdf:type cav:Assessment ;\n",
    "    cav:contextualisedBy ?scObj ;\n",
    "    dct:title ?Assessment .\n",
    "    ?scObj rdf:type cav:Scenario ; \n",
    "    dct:title ?Scenario.\n",
    "}'''"
   ]
  }
 ],
 "metadata": {
  "kernelspec": {
   "display_name": "Python 3",
   "language": "python",
   "name": "python3"
  },
  "language_info": {
   "codemirror_mode": {
    "name": "ipython",
    "version": 3
   },
   "file_extension": ".py",
   "mimetype": "text/x-python",
   "name": "python",
   "nbconvert_exporter": "python",
   "pygments_lexer": "ipython3",
   "version": "3.8.5"
  }
 },
 "nbformat": 4,
 "nbformat_minor": 5
}
