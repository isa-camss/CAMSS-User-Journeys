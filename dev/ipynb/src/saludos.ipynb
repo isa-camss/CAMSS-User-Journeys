{
 "cells": [
  {
   "cell_type": "code",
   "execution_count": 1,
   "id": "changed-triple",
   "metadata": {},
   "outputs": [],
   "source": [
    "import ipywidgets as widgets\n",
    "from ipywidgets import Layout, AppLayout, Button, ToggleButtons\n",
    "from pprint import pprint"
   ]
  },
  {
   "cell_type": "code",
   "execution_count": 2,
   "id": "gothic-prayer",
   "metadata": {},
   "outputs": [],
   "source": [
    "def say_hello(to=\"mundiño\"):\n",
    "    return f\"hello,{to}!\""
   ]
  },
  {
   "cell_type": "markdown",
   "id": "early-tattoo",
   "metadata": {},
   "source": [
    "esto es texto"
   ]
  },
  {
   "cell_type": "code",
   "execution_count": 3,
   "id": "martial-toddler",
   "metadata": {
    "tags": []
   },
   "outputs": [
    {
     "data": {
      "application/vnd.jupyter.widget-view+json": {
       "model_id": "cab2a52f6b53447683bb9dcbdfca67b8",
       "version_major": 2,
       "version_minor": 0
      },
      "text/plain": [
       "ToggleButtons(options=('Query A', 'Query B', 'Query C', 'Query D'), value='Query A')"
      ]
     },
     "metadata": {},
     "output_type": "display_data"
    }
   ],
   "source": [
    "# :: ignore-cell ::\n",
    "button_option= widgets.ToggleButtons(options=['Query A', 'Query B', 'Query C', 'Query D'])\n",
    "display(button_option)"
   ]
  },
  {
   "cell_type": "code",
   "execution_count": 4,
   "id": "professional-prevention",
   "metadata": {},
   "outputs": [
    {
     "name": "stdout",
     "output_type": "stream",
     "text": [
      "hello,mundiño!\n"
     ]
    }
   ],
   "source": [
    "print(say_hello())"
   ]
  },
  {
   "cell_type": "code",
   "execution_count": 5,
   "id": "academic-fountain",
   "metadata": {},
   "outputs": [
    {
     "name": "stdout",
     "output_type": "stream",
     "text": [
      "hello,andres!\n"
     ]
    }
   ],
   "source": [
    "# :: stop-module ::\n",
    "print(say_hello(to=\"andres\"))"
   ]
  },
  {
   "cell_type": "code",
   "execution_count": 6,
   "id": "juvenile-integrity",
   "metadata": {},
   "outputs": [
    {
     "name": "stdout",
     "output_type": "stream",
     "text": [
      "hello,manuela!\n"
     ]
    }
   ],
   "source": [
    "print(say_hello(to=\"manuela\"))"
   ]
  },
  {
   "cell_type": "code",
   "execution_count": 7,
   "id": "controlled-picking",
   "metadata": {},
   "outputs": [
    {
     "name": "stdout",
     "output_type": "stream",
     "text": [
      "hello,luisa!\n"
     ]
    }
   ],
   "source": [
    "# :: start-module ::\n",
    "print(say_hello(to=\"luisa\"))"
   ]
  }
 ],
 "metadata": {
  "kernelspec": {
   "display_name": "Python 3",
   "language": "python",
   "name": "python3"
  },
  "language_info": {
   "codemirror_mode": {
    "name": "ipython",
    "version": 3
   },
   "file_extension": ".py",
   "mimetype": "text/x-python",
   "name": "python",
   "nbconvert_exporter": "python",
   "pygments_lexer": "ipython3",
   "version": "3.8.5"
  }
 },
 "nbformat": 4,
 "nbformat_minor": 5
}
