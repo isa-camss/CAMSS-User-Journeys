{
 "cells": [
  {
   "cell_type": "markdown",
   "metadata": {},
   "source": [
    "<strong> <h1 style='text-align: center;'> UI CODE FOR QUERYING CELLAR TRIPLESTORE ASSESSMENTS </h1> <strong/>"
   ]
  },
  {
   "cell_type": "markdown",
   "metadata": {},
   "source": [
    "<strong> <h2> Import resources </h2> <strong/>\n",
    "    \n",
    "<p>The following block is importing:</p>\n",
    "     <ul>\n",
    "      <li>The module with the global variables to allow you connect to the API that performs the Cellar Triplestore query and also have a query collection.</li>\n",
    "      <li>The libraries needed to create the UI components and format results.</li>\n",
    "    </ul>"
   ]
  },
  {
   "cell_type": "code",
   "execution_count": 1,
   "metadata": {},
   "outputs": [],
   "source": [
    "import sys\n",
    "sys.path.append('../')\n",
    "import requests\n",
    "import ipywidgets as widgets\n",
    "from ipywidgets import Layout, AppLayout\n",
    "import pandas as pd\n",
    "import json\n",
    "from pprint import pprint\n",
    "import cfg.ctt as ctt"
   ]
  },
  {
   "cell_type": "markdown",
   "metadata": {},
   "source": [
    "<strong> <h2> Create variables </h2> <strong/>\n",
    "    \n",
    "<p>The following block is defining the global variables to this UI module</p>"
   ]
  },
  {
   "cell_type": "code",
   "execution_count": 2,
   "metadata": {},
   "outputs": [],
   "source": [
    "# variables\n",
    "\n",
    "TAB_IDX = 0\n"
   ]
  },
  {
   "cell_type": "markdown",
   "metadata": {},
   "source": [
    "<strong> <h2> Create UI components </h2> <strong/>\n",
    "    \n",
    "<p>The following block is</p>"
   ]
  },
  {
   "cell_type": "code",
   "execution_count": 3,
   "metadata": {},
   "outputs": [
    {
     "data": {
      "text/plain": [
       "[None, None, None, None]"
      ]
     },
     "execution_count": 3,
     "metadata": {},
     "output_type": "execute_result"
    }
   ],
   "source": [
    "# UI \n",
    "\n",
    "list_title_tab = [widgets.HTML(value = dict_value['title'], layout=Layout(width='10%x')) \n",
    "                        for dict_value in ctt.PROCURER_USE_CASES]\n",
    "\n",
    "list_description_tab = [widgets.HTML(value = dict_value['description'], layout=Layout(width='10%x')) \n",
    "                        for dict_value in ctt.PROCURER_USE_CASES]\n",
    "\n",
    "list_text_area = [widgets.Textarea(value = dict_value['query_value'], placeholder='Type a query', layout=Layout(width='95%',height='200px'))\n",
    "           for dict_value in ctt.PROCURER_USE_CASES]\n",
    "\n",
    "button = widgets.Button(description=\"Run\")\n",
    "\n",
    "tab_content = [widgets.VBox([list_title_tab[i], list_description_tab[i], list_text_area[i], button]) \n",
    "               for i, tab_widget in enumerate(list_text_area)]\n",
    "\n",
    "tab= widgets.Tab()\n",
    "tab.children = tab_content\n",
    "[tab.set_title(i, dict_value['name']) for i, dict_value in enumerate(ctt.PROCURER_USE_CASES)]"
   ]
  },
  {
   "cell_type": "code",
   "execution_count": 4,
   "metadata": {},
   "outputs": [],
   "source": [
    "# Method to get the correct Output widget based on the index of the chosen tab\n",
    "\n",
    "def get_tab_index(widget):\n",
    "    global TAB_IDX\n",
    "    TAB_IDX = widget['new']\n",
    "    pprint(TAB_IDX)\n"
   ]
  },
  {
   "cell_type": "code",
   "execution_count": 5,
   "metadata": {},
   "outputs": [],
   "source": [
    "# Method to execute Microservice query (API assessments)\n",
    "\n",
    "output= widgets.Output()\n",
    "\n",
    "@output.capture()\n",
    "def send_query(q):\n",
    "    global TAB_IDX\n",
    "    query= list_text_area[TAB_IDX].value\n",
    "    params= {'sparql_query': query}\n",
    "    msg = requests.post(url= ctt.URL_MICROSERVICE, params= params)\n",
    "    if msg.status_code < 200 and msg.status_code > 299:\n",
    "    # response_json = msg.json()\n",
    "        df_assessments = pd.DataFrame(msg)\n",
    "        pprint(df_assessments)\n",
    "    else:\n",
    "        pprint(msg.content)\n",
    "    "
   ]
  },
  {
   "cell_type": "code",
   "execution_count": 6,
   "metadata": {},
   "outputs": [
    {
     "data": {
      "application/vnd.jupyter.widget-view+json": {
       "model_id": "9d6f62e3948740579e372eaa7472fca1",
       "version_major": 2,
       "version_minor": 0
      },
      "text/plain": [
       "Tab(children=(VBox(children=(HTML(value='SPECIFICATIONS CATALOG', layout=Layout(width='10%x')), HTML(value='Th…"
      ]
     },
     "metadata": {},
     "output_type": "display_data"
    },
    {
     "data": {
      "application/vnd.jupyter.widget-view+json": {
       "model_id": "319cbe01568944f580a20303ebbe1e07",
       "version_major": 2,
       "version_minor": 0
      },
      "text/plain": [
       "Output()"
      ]
     },
     "metadata": {},
     "output_type": "display_data"
    }
   ],
   "source": [
    "display(tab, output)\n",
    "\n",
    "tab.observe(get_tab_index, names='selected_index')\n",
    "button.on_click(send_query)\n"
   ]
  },
  {
   "cell_type": "code",
   "execution_count": null,
   "metadata": {},
   "outputs": [],
   "source": []
  },
  {
   "cell_type": "code",
   "execution_count": null,
   "metadata": {},
   "outputs": [],
   "source": []
  }
 ],
 "metadata": {
  "kernelspec": {
   "display_name": "Python 3",
   "language": "python",
   "name": "python3"
  },
  "language_info": {
   "codemirror_mode": {
    "name": "ipython",
    "version": 3
   },
   "file_extension": ".py",
   "mimetype": "text/x-python",
   "name": "python",
   "nbconvert_exporter": "python",
   "pygments_lexer": "ipython3",
   "version": "3.8.5"
  }
 },
 "nbformat": 4,
 "nbformat_minor": 4
}
