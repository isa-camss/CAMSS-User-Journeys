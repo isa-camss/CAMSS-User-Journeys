{
 "cells": [
  {
   "cell_type": "code",
   "execution_count": 4,
   "metadata": {},
   "outputs": [],
   "source": [
    "import requests\n",
    "import ipywidgets as widgets\n",
    "import pandas as pd\n",
    "import json\n",
    "from ipywidgets import Layout, AppLayout, Button, ToggleButtons\n",
    "from pprint import pprint"
   ]
  },
  {
   "cell_type": "code",
   "execution_count": 5,
   "metadata": {},
   "outputs": [
    {
     "data": {
      "application/vnd.jupyter.widget-view+json": {
       "model_id": "cf8c7a90f71f4b6f9d6749877dbc8b50",
       "version_major": 2,
       "version_minor": 0
      },
      "text/plain": [
       "Tab(children=(Textarea(value='', layout=Layout(height='250px', width='100%'), placeholder='Type a query'), Tex…"
      ]
     },
     "metadata": {},
     "output_type": "display_data"
    }
   ],
   "source": [
    "tab_contents = ['P0', 'P1', 'P2', 'P3', 'P4']\n",
    "children = [widgets.Textarea(value='', placeholder='Type a query', layout=Layout(width='100%',height='250px')) for name in tab_contents]\n",
    "tab = widgets.Tab()\n",
    "tab.children = children\n",
    "tab.titles = [str(i) for i in range(len(children))]\n",
    "tab"
   ]
  },
  {
   "cell_type": "code",
   "execution_count": 2,
   "metadata": {},
   "outputs": [
    {
     "data": {
      "application/vnd.jupyter.widget-view+json": {
       "model_id": "5b5835482f594e558c38e31d68ca1825",
       "version_major": 2,
       "version_minor": 0
      },
      "text/plain": [
       "ToggleButtons(options=('Query A', 'Query B', 'Query C', 'Query D'), value='Query A')"
      ]
     },
     "metadata": {},
     "output_type": "display_data"
    },
    {
     "data": {
      "application/vnd.jupyter.widget-view+json": {
       "model_id": "b07ca0685f19428a87e19c0e9f6a7e58",
       "version_major": 2,
       "version_minor": 0
      },
      "text/plain": [
       "Textarea(value='', layout=Layout(height='300px', width='100%'), placeholder='Type a query')"
      ]
     },
     "metadata": {},
     "output_type": "display_data"
    },
    {
     "data": {
      "application/vnd.jupyter.widget-view+json": {
       "model_id": "276bd378c6614d34866d7ba5c6223a1b",
       "version_major": 2,
       "version_minor": 0
      },
      "text/plain": [
       "Button(description='Run', style=ButtonStyle())"
      ]
     },
     "metadata": {},
     "output_type": "display_data"
    },
    {
     "data": {
      "application/vnd.jupyter.widget-view+json": {
       "model_id": "0a050d2162154baebddce8de120f4ea7",
       "version_major": 2,
       "version_minor": 0
      },
      "text/plain": [
       "Output()"
      ]
     },
     "metadata": {},
     "output_type": "display_data"
    }
   ],
   "source": [
    "# GLOBAL VARIABLES\n",
    "\n",
    "URL_MICROSERVICE= 'http://localhost:5100/assessments/get_assessments'\n",
    "\n",
    "# UI COMPONENTS\n",
    "\n",
    "# Toggle buttons for default queries selection\n",
    "button_option= ToggleButtons(options=['Query A', 'Query B', 'Query C', 'Query D'])\n",
    "display(button_option)\n",
    "\n",
    "def changed(change):\n",
    "    button_value = button_option.value\n",
    "    query_1 = open('query_assessment_by_scenario.txt')\n",
    "    query_2 = 'Im query b'\n",
    "    query_3 = 'Hola, soy query c'\n",
    "    query_4 = 'Hola, soy query d'\n",
    "    \n",
    "    if button_value == 'Query A':\n",
    "        TEXT_AREA.value = query_1.read()\n",
    "        print(query_1)\n",
    "    elif button_value == 'Query B':\n",
    "        TEXT_AREA.value = query_2\n",
    "        print(query_2)\n",
    "    elif button_value == 'Query C':\n",
    "        TEXT_AREA.value = query_3\n",
    "        print(query_3)\n",
    "    elif button_value == 'Query D':\n",
    "        TEXT_AREA.value = query_4\n",
    "        print(query_4)\n",
    "        \n",
    "button_option.observe(changed, 'value')\n",
    "\n",
    "# Text area to hold query value\n",
    "TEXT_AREA = widgets.Textarea(value='', placeholder='Type a query', layout=Layout(width='100%',height='300px'))\n",
    "display(TEXT_AREA)\n",
    "\n",
    "# Button to send query\n",
    "\n",
    "button= widgets.Button(description='Run')\n",
    "output= widgets.Output()\n",
    "display(button, output)\n",
    "\n",
    "# QUERY FUNCTIONS\n",
    "\n",
    "# Method to execute query\n",
    "@output.capture()\n",
    "def send_query(q):\n",
    "    query= TEXT_AREA.value\n",
    "    params= {'sparql_query': query}\n",
    "    msg= requests.post(url= URL_MICROSERVICE, params= params)\n",
    "    response_json = msg.json()\n",
    "    df_assessments = pd.DataFrame(response_json, columns=['Assessments', 'Scenario'])\n",
    "    pprint(df_assessments)\n",
    "    \n",
    "    \n",
    "button.on_click(send_query)"
   ]
  },
  {
   "cell_type": "code",
   "execution_count": null,
   "metadata": {},
   "outputs": [],
   "source": []
  },
  {
   "cell_type": "code",
   "execution_count": null,
   "metadata": {},
   "outputs": [],
   "source": []
  }
 ],
 "metadata": {
  "kernelspec": {
   "display_name": "Python 3",
   "language": "python",
   "name": "python3"
  },
  "language_info": {
   "codemirror_mode": {
    "name": "ipython",
    "version": 3
   },
   "file_extension": ".py",
   "mimetype": "text/x-python",
   "name": "python",
   "nbconvert_exporter": "python",
   "pygments_lexer": "ipython3",
   "version": "3.8.5"
  }
 },
 "nbformat": 4,
 "nbformat_minor": 5
}
