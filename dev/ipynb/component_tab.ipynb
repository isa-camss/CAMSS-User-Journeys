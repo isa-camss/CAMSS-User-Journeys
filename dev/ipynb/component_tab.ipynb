{
 "cells": [
  {
   "cell_type": "code",
   "execution_count": 1,
   "metadata": {},
   "outputs": [],
   "source": [
    "import sys\n",
    "sys.path.append('../')\n",
    "import requests\n",
    "import ipywidgets as widgets\n",
    "from ipywidgets import Layout, AppLayout\n",
    "import pandas as pd\n",
    "import json\n",
    "from pprint import pprint\n",
    "import cfg.sparql as sparql"
   ]
  },
  {
   "cell_type": "code",
   "execution_count": 2,
   "metadata": {},
   "outputs": [],
   "source": [
    "# variables\n",
    "URL_MICROSERVICE= 'http://localhost:5100/assessments/get_assessments'\n",
    "\n",
    "query_assessments = sparql.QUERY_ASSESSMENTS\n",
    "query_test = sparql.QUERY_2"
   ]
  },
  {
   "cell_type": "code",
   "execution_count": 3,
   "metadata": {},
   "outputs": [],
   "source": [
    "# Method to execute Microservice query (API assessments)\n",
    "\n",
    "output= widgets.Output()\n",
    "\n",
    "@output.capture()\n",
    "def send_query(q):\n",
    "    query= text_area.value\n",
    "    params= {'sparql_query': query}\n",
    "    msg= requests.post(url= URL_MICROSERVICE, params= params)\n",
    "    response_json = msg.json()\n",
    "    df_assessments = pd.DataFrame(response_json, columns=['Assessments', 'Scenario'])\n",
    "    pprint(df_assessments)\n",
    "    "
   ]
  },
  {
   "cell_type": "code",
   "execution_count": 4,
   "metadata": {},
   "outputs": [
    {
     "data": {
      "application/vnd.jupyter.widget-view+json": {
       "model_id": "22615769127a42ba8710bf55f4040bed",
       "version_major": 2,
       "version_minor": 0
      },
      "text/plain": [
       "Tab(children=(Textarea(value='', layout=Layout(height='200px', width='100%'), placeholder='Type a query'), Tex…"
      ]
     },
     "metadata": {},
     "output_type": "display_data"
    },
    {
     "data": {
      "application/vnd.jupyter.widget-view+json": {
       "model_id": "daf9bb86a4364c0389f9dc71b8bb06b3",
       "version_major": 2,
       "version_minor": 0
      },
      "text/plain": [
       "Button(description='Run', style=ButtonStyle())"
      ]
     },
     "metadata": {},
     "output_type": "display_data"
    },
    {
     "data": {
      "application/vnd.jupyter.widget-view+json": {
       "model_id": "a9e7798e3ed14223bed3ba521604f71a",
       "version_major": 2,
       "version_minor": 0
      },
      "text/plain": [
       "Output()"
      ]
     },
     "metadata": {},
     "output_type": "display_data"
    }
   ],
   "source": [
    "# UI\n",
    "tab_names = ['Own queries', 'query 1', 'query 2']\n",
    "text_area_content = ['', query_assessments, query_test]\n",
    "\n",
    "button= widgets.Button(description=\"Run\")\n",
    "button.on_click(send_query)\n",
    "\n",
    "children = [widgets.Textarea(value=value, placeholder='Type a query', layout=Layout(width='100%',height='200px')) \n",
    "            for value in text_area_content]\n",
    "\n",
    "text_area= widgets.Textarea(value=query_assessments, placeholder='Type a query', layout=Layout(width='100%',height='300px'))\n",
    "\n",
    "tab = widgets.Tab()\n",
    "tab.children = children\n",
    "for i in range(len(tab_names)):\n",
    "    tab.set_title(i, tab_names[i])\n",
    "display(tab, button, output)"
   ]
  },
  {
   "cell_type": "code",
   "execution_count": null,
   "metadata": {},
   "outputs": [],
   "source": []
  }
 ],
 "metadata": {
  "kernelspec": {
   "display_name": "Python 3",
   "language": "python",
   "name": "python3"
  },
  "language_info": {
   "codemirror_mode": {
    "name": "ipython",
    "version": 3
   },
   "file_extension": ".py",
   "mimetype": "text/x-python",
   "name": "python",
   "nbconvert_exporter": "python",
   "pygments_lexer": "ipython3",
   "version": "3.8.5"
  }
 },
 "nbformat": 4,
 "nbformat_minor": 5
}
