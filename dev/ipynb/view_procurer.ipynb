{
 "cells": [
  {
   "cell_type": "markdown",
   "id": "fbb44703-1840-4fa0-b579-942cb59887ad",
   "metadata": {},
   "source": [
    "<nav>\n",
    "  <a href=\"index.ipynb\">Home</a> &nbsp;&nbsp;&nbsp;\n",
    "  <a href=\"view_journeys.ipynb\">User Journeys</a> &nbsp;&nbsp;&nbsp;\n",
    "</nav>"
   ]
  },
  {
   "cell_type": "code",
   "execution_count": null,
   "id": "3fe8f6e4",
   "metadata": {},
   "outputs": [],
   "source": []
  },
  {
   "cell_type": "markdown",
   "id": "87cc6cea-c1cc-4b6e-a19c-824ca26bbf0e",
   "metadata": {},
   "source": [
    "<table>\n",
    "    <tr>\n",
    "        <td> <img src='../img/logo1.jpg' alt='assessment logo' width=110px height=100px margin-right=10px/>\n",
    "        </td>\n",
    "        <td> <img src='../img/european-union-logo.png' alt='EU logo' width=160px height=100px/></td>\n",
    "        <td> <img src='../img/POEU_logo.png' alt='OP logo' width=300px height=150px/> \n",
    "        </td>\n",
    "    </tr>\n",
    "</table>"
   ]
  },
  {
   "cell_type": "markdown",
   "id": "a83b3163-5ff8-462f-bd51-823392e947a4",
   "metadata": {},
   "source": [
    "<center>\n",
    "    <h1 style='text-align: center;font-weight: bold;'>\n",
    "        PROCURER'S JOURNEY\n",
    "    </h1> \n",
    "</center>\n"
   ]
  },
  {
   "cell_type": "markdown",
   "id": "6d55de31-e70e-48a0-a73d-5b45c1fda513",
   "metadata": {},
   "source": [
    "<h2 style='font-weight: bold;'> \n",
    "    User Story: Interoperability Specifications Catalog and assessments\n",
    "</h2>\n",
    "\n",
    "<p style='text-align: justify;font-weight: bold;'> \n",
    "I, as a procurer, want to obtain the interoperability specifications catalogued by CAMSS and their assessments, so I can mention the specifications I am interested in my procurement procedure.\n",
    "</p>"
   ]
  },
  {
   "cell_type": "markdown",
   "id": "662e5193-cbf4-4d4f-9f8b-207618df41d4",
   "metadata": {
    "tags": []
   },
   "source": [
    "<h2 style='font-weight: bold;'> \n",
    "    Use Cases\n",
    "</h2>   \n",
    "<p style='text-align: justify'> \n",
    "Typically a User Story cast one or more Use Cases. For example, given the above User Story we can think of flows and sub-flows like:</p>\n",
    "    <ul>\n",
    "      <li>1. Get the <u>list</u> <u>of</u> all <u>Specifications</u> identified in the context of CAMSS</li>\n",
    "      <li>2. Re-direct me to the <u>CAMSS</u> <u>Assessments</u> of one Specification</li>\n",
    "    </ul>\n",
    "<p style='text-align: justify'>\n",
    "A User Story can easily be mapped to a SPARQL query. Since all CAMSS datasets are obtained from <a href='https://op.europa.eu/en/web/eu-vocabularies/news/-/blogs/new-brochure-about-cellar'>CELLAR</a>, this notebook provides you <u>prepared queries</u> which help you obtain useful information.<br> <br>\n",
    "Additionally, it allows you to draft your own custom queries. So feel free to use this notebook to experiment with the CAMSS datasets in CELLAR. Alternatively, you could use the <a href='http://publications.europa.eu/webapi/rdf/sparql'>CELLAR's Virtuoso endpoint</a>. <br><br>\n",
    "<strong>Note:</strong> If you want to know more about what is running this module, you can consult the <a href='UI_components/component_tab_procurer.ipynb'>component code</a>. <br><br>\n",
    "With this in mind, let's try out!\n",
    "</p>\n"
   ]
  },
  {
   "cell_type": "markdown",
   "id": "e71298e0",
   "metadata": {},
   "source": [
    "<h2>Let's start!</h2>\n",
    "<p style='text-align: justify'> \n",
    "Click on the \"Kernel\" menu and choose the otpion \"Restart & Run All\"</p>"
   ]
  },
  {
   "cell_type": "code",
   "execution_count": 1,
   "id": "814fba31-b72a-4cf0-a036-5a8e438362f2",
   "metadata": {},
   "outputs": [
    {
     "data": {
      "application/javascript": [
       "require.config({\n",
       "    paths: {\n",
       "        jquery: 'https://code.jquery.com/jquery-3.5.1.min',\n",
       "        datatables: 'https://cdn.datatables.net/1.11.3/js/jquery.dataTables.min',\n",
       "    }\n",
       "});\n",
       "\n",
       "require(['jquery'], function($) {\n",
       "    $('head').append('<link rel=\"stylesheet\" type=\"text/css\" \\\n",
       "                href = \"https://cdn.datatables.net/1.10.19/css/jquery.dataTables.min.css\" > ');\n",
       "    $('head').append('<style> table td { text-overflow: ellipsis; overflow: hidden; } </style>');\n",
       "});\n",
       "require(['jquery'], function($) {\n",
       "$('head').append(`<script>\n",
       "function eval_functions(map_or_text) {\n",
       "    if (typeof map_or_text === \"string\") {\n",
       "        if (map_or_text.startsWith(\"function\")) {\n",
       "            try {\n",
       "                // Note: parenthesis are required around the whole expression for eval to return a value!\n",
       "                // See https://stackoverflow.com/a/7399078/911298.\n",
       "                //\n",
       "                // eval(\"local_fun = \" + map_or_text) would fail because local_fun is not declared\n",
       "                // (using var, let or const would work, but it would only be declared in the local scope\n",
       "                // and therefore the value could not be retrieved).\n",
       "                const func = eval(\"(\" + map_or_text + \")\");\n",
       "                if (typeof func !== \"function\") {\n",
       "                    // Note: backquotes are super convenient!\n",
       "                    // https://developer.mozilla.org/en-US/docs/Web/JavaScript/Reference/Template_literals\n",
       "                    console.error(\"Evaluated expression \" + map_or_text + \" is not a function (type is \" + typeof func + \")\");\n",
       "                    return map_or_text;\n",
       "                }\n",
       "                // Return the function\n",
       "                return func;\n",
       "            } catch (e) {\n",
       "                // Make sure to print the error with a second argument to console.error().\n",
       "                console.error(\"itables was not able to parse \" + map_or_text, e);\n",
       "            }\n",
       "        }\n",
       "    } else if (typeof map_or_text === \"object\") {\n",
       "        if (map_or_text instanceof Array) {\n",
       "            // Note: \"var\" is now superseded by \"let\" and \"const\".\n",
       "            // https://medium.com/javascript-scene/javascript-es6-var-let-or-const-ba58b8dcde75\n",
       "            const result = [];\n",
       "            // Note: \"for of\" is the best way to iterate through an iterable.\n",
       "            // https://developer.mozilla.org/en-US/docs/Web/JavaScript/Reference/Statements/for...of\n",
       "            for (const item of map_or_text) {\n",
       "                result.push(eval_functions(item));\n",
       "            }\n",
       "            return result;\n",
       "\n",
       "            // Alternatively, more functional approach in one line:\n",
       "            // return map_or_text.map(eval_functions);\n",
       "        } else {\n",
       "            const result = {};\n",
       "            // Object.keys() is safer than \"for in\" because otherwise you might have keys\n",
       "            // that aren't defined in the object itself.\n",
       "            //\n",
       "            // See https://stackoverflow.com/a/684692/911298.\n",
       "            for (const item of Object.keys(map_or_text)) {\n",
       "                result[item] = eval_functions(map_or_text[item]);\n",
       "            }\n",
       "            return result;\n",
       "        }\n",
       "    }\n",
       "\n",
       "    return map_or_text;\n",
       "}\n",
       "\n",
       "</` + 'script>');});"
      ],
      "text/plain": [
       "<IPython.core.display.Javascript object>"
      ]
     },
     "metadata": {},
     "output_type": "display_data"
    },
    {
     "data": {
      "application/vnd.jupyter.widget-view+json": {
       "model_id": "82efe41614e3459bafdfeb03d2faddc8",
       "version_major": 2,
       "version_minor": 0
      },
      "text/plain": [
       "Tab(children=(VBox(children=(HTML(value='<strong>SPECIFICATIONS CATALOG</strong>', layout=Layout(width='10%x')…"
      ]
     },
     "metadata": {},
     "output_type": "display_data"
    },
    {
     "data": {
      "application/vnd.jupyter.widget-view+json": {
       "model_id": "87e901486b3c4ae9a24b403949c994bb",
       "version_major": 2,
       "version_minor": 0
      },
      "text/plain": [
       "Output()"
      ]
     },
     "metadata": {},
     "output_type": "display_data"
    }
   ],
   "source": [
    "import sys\n",
    "sys.path.append('../')\n",
    "import margo_loader\n",
    "import UI_components.component_tab_procurer as tab\n"
   ]
  },
  {
   "cell_type": "markdown",
   "id": "de5f3e56-067f-4c70-b728-03606a349f2c",
   "metadata": {},
   "source": [
    "<img src=\"../img/POEU_logo.png\" width=160px height=100></img>\n",
    "<h2 style='font-weight: bold;'> \n",
    "    What is going on?\n",
    "</h2> \n",
    "\n",
    "<p style='text-align: justify'>\n",
    "The query is sent to <a href=\"http://publications.europa.eu/webapi/rdf/sparql\">Cellar triplestore</a> through a microservice developed by the team, then it returns the results, which are formatted inside the jupyter notebook module using the Pandas library.\n",
    "</p>"
   ]
  },
  {
   "cell_type": "code",
   "execution_count": null,
   "metadata": {},
   "outputs": [],
   "source": [
    "()"
   ]
  },
  {
   "cell_type": "code",
   "execution_count": 3,
   "id": "9bf812c3",
   "metadata": {},
   "outputs": [
    {
     "data": {
      "text/html": [
       "<script>$(\"div.input\").hide()</script>"
      ],
      "text/plain": [
       "<IPython.core.display.HTML object>"
      ]
     },
     "metadata": {},
     "output_type": "display_data"
    },
    {
     "data": {
      "application/vnd.jupyter.widget-view+json": {
       "model_id": "d4241de14d66450dae78e6323fd950d1",
       "version_major": 2,
       "version_minor": 0
      },
      "text/plain": [
       "ToggleButton(value=False, description='Show code')"
      ]
     },
     "metadata": {},
     "output_type": "display_data"
    }
   ],
   "source": [
    "from hidecode import display_hidebuttom\n",
    "display_hidebuttom()"
   ]
  },
  {
   "cell_type": "code",
   "execution_count": null,
   "id": "fa3f105a",
   "metadata": {},
   "outputs": [],
   "source": []
  }
 ],
 "metadata": {
  "kernelspec": {
   "display_name": "Python 3 (ipykernel)",
   "language": "python",
   "name": "python3"
  },
  "language_info": {
   "codemirror_mode": {
    "name": "ipython",
    "version": 3
   },
   "file_extension": ".py",
   "mimetype": "text/x-python",
   "name": "python",
   "nbconvert_exporter": "python",
   "pygments_lexer": "ipython3",
   "version": "3.9.9"
  },
  "toc-autonumbering": false,
  "toc-showcode": true,
  "toc-showmarkdowntxt": false,
  "toc-showtags": false
 },
 "nbformat": 4,
 "nbformat_minor": 5
}
