{
 "cells": [
  {
   "cell_type": "markdown",
   "metadata": {},
   "source": [
    "<ul style='list-style:none;display:flex;flex-direction:row'>\n",
    "  <li><a href=\"view_home.ipynb\">Home</a></li> &nbsp;&nbsp;&nbsp;&nbsp;\n",
    "  <li><a href=\"view_tools.ipynb\">Tools</a></li> &nbsp;&nbsp;&nbsp;&nbsp;\n",
    "  <li><a href=\"view_assessments.ipynb\">Assessments</a></li> &nbsp;&nbsp;&nbsp;&nbsp;\n",
    "  <li><a href=\"view_elis.ipynb\">ELIS</a></li> &nbsp;&nbsp;&nbsp;&nbsp;\n",
    "  <li><a href=\"view_cssv.ipynb\">CSSV</a></li> &nbsp;&nbsp;&nbsp;&nbsp;\n",
    "  <li><a href=\"view_cav.ipynb\">CAV</a></li> &nbsp;&nbsp;&nbsp;&nbsp;\n",
    "  <li><a href=\"view_ontology.ipynb\">Ontology</a></li> &nbsp;&nbsp;&nbsp;&nbsp;\n",
    "  <li><a href=\"view_glossary.ipynb\">Glossary</a></li>\n",
    "</ul>"
   ]
  },
  {
   "cell_type": "markdown",
   "metadata": {},
   "source": [
    "<table>\n",
    "    <tr>\n",
    "        <td> <img src='../img/camss_assessment.jpg' alt='assessment logo' style='width:110px;height:100px;border-radius:3px'/>\n",
    "        </td>\n",
    "        <td> <img src='../img/european-union-logo.png' alt='EU logo' style='width:150px;height:100px;border-radius:3px'/> \n",
    "        </td>\n",
    "    </tr>\n",
    "</table>"
   ]
  },
  {
   "cell_type": "markdown",
   "metadata": {},
   "source": [
    "<strong> <h1 style='text-align: center;'> CAMSS ASSESSMENTS LIBRARY </h1> <strong/>"
   ]
  },
  {
   "cell_type": "markdown",
   "metadata": {},
   "source": [
    "<p> \n",
    "The CAMSS Assessment is a solution which corresponds to the output of an assessment of a standard or technical specification using the CAMSS Tools. Each assessment produced is considered a CAMSS Assessment once it is approved by the CAMSS team. Any approved assessment is published by the CAMSS Team and publicly available within the Assessment Library. Each assessment constitutes a CAMSS solition and is fully reusable\n",
    "\n",
    "\n",
    "This section of the jupiter notebook is designed to allow you to run SPARQL queries and extract the information you want about the assessments.\n",
    "    \n",
    "Each step you need to follow to run the query environment is explained in the next section.  \n",
    "</p>"
   ]
  },
  {
   "cell_type": "markdown",
   "metadata": {},
   "source": [
    "<strong> <h2> Quering assessments </h2> <strong/>\n",
    "<p>As mentioned above this jupyter notebook is designed to run SPARQL queries, you can write your own queries or select one from the collection that the CAMSS team has prepared.\n",
    "\n",
    "The collection of SPARQL queries we offer are the following:\n",
    "</p>\n",
    "    <ul>\n",
    "      <li>Query A: returns the assessments per scenario</li>\n",
    "      <li>Query B: returns ... </li>\n",
    "      <li>Query C: returns ...</li>\n",
    "    </ul>"
   ]
  },
  {
   "cell_type": "markdown",
   "metadata": {
    "tags": []
   },
   "source": [
    "<strong> <h2> Import modules </h2> <strong/>\n",
    "<p> To run the modules that the CAMSS team prepared, you must import them by placing yourself in the cell containing the imports and clicking on the play button in the top bar of the jupyter notebook. You will know that they were imported correctly because you will see a togglebar, a text area and a buton to run the query.\n",
    "\n",
    "In that user interface that will appear once you make the imports you will be able to:</p>\n",
    "    <ul>\n",
    "      <li>Execute one by one the queries of the collection by clicking on each of the buttons.</li>\n",
    "      <li>Modify the selected queries</li>\n",
    "      <li>Elaborate your own queries</li>\n",
    "    </ul>\n",
    "<p>\n",
    "With this in mind, let's try out!  \n",
    "</p>"
   ]
  },
  {
   "cell_type": "code",
   "execution_count": 1,
   "metadata": {},
   "outputs": [
    {
     "data": {
      "application/vnd.jupyter.widget-view+json": {
       "model_id": "c5310e293ed34704b75cf884bb4a4815",
       "version_major": 2,
       "version_minor": 0
      },
      "text/plain": [
       "Tab(children=(VBox(children=(Textarea(value='\\n        PREFIX camssa: <http://data.europa.eu/2sa/assessments/>…"
      ]
     },
     "metadata": {},
     "output_type": "display_data"
    },
    {
     "data": {
      "application/vnd.jupyter.widget-view+json": {
       "model_id": "39335243a4934e879cacaaf362689a0c",
       "version_major": 2,
       "version_minor": 0
      },
      "text/plain": [
       "Output()"
      ]
     },
     "metadata": {},
     "output_type": "display_data"
    }
   ],
   "source": [
    "import margo_loader\n",
    "import component_tab as tab"
   ]
  },
  {
   "cell_type": "markdown",
   "metadata": {},
   "source": [
    "<strong> <h2> What is going on?</h2> <strong/>\n",
    "<p>\n",
    "The query is sent to <a href=\"view_glossary.ipynb\">Cellar triplestore</a> through a microservice developed by the team, then it returns the results, which are formatted inside the jupyter notebook module using the Pandas library  \n",
    "</p>"
   ]
  },
  {
   "cell_type": "code",
   "execution_count": null,
   "metadata": {},
   "outputs": [],
   "source": []
  }
 ],
 "metadata": {
  "kernelspec": {
   "display_name": "Python 3",
   "language": "python",
   "name": "python3"
  },
  "language_info": {
   "codemirror_mode": {
    "name": "ipython",
    "version": 3
   },
   "file_extension": ".py",
   "mimetype": "text/x-python",
   "name": "python",
   "nbconvert_exporter": "python",
   "pygments_lexer": "ipython3",
   "version": "3.8.5"
  },
  "toc-autonumbering": false,
  "toc-showcode": true,
  "toc-showmarkdowntxt": false,
  "toc-showtags": false
 },
 "nbformat": 4,
 "nbformat_minor": 5
}
