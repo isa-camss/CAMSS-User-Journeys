{
 "cells": [
  {
   "cell_type": "markdown",
   "id": "surprising-hollow",
   "metadata": {},
   "source": [
    "<table>\n",
    "    <tr>\n",
    "        <td> <img src='src/img/logo1.jpg' alt='assessment logo' style='width:110px;height:100px;border-radius:3px'/>\n",
    "        </td>\n",
    "        <td> <img src='src/img/european-union-logo.png' alt='EU logo' style='width:150px;height:100px;border-radius:3px'/> \n",
    "        </td>\n",
    "    </tr>\n",
    "</table>"
   ]
  },
  {
   "cell_type": "markdown",
   "id": "adopted-sunday",
   "metadata": {
    "tags": []
   },
   "source": [
    "<strong> <h1 style='text-align: center;'> CAMSS <br> Common Assessment Method for Standards and Specifications </h1> <strong/>"
   ]
  },
  {
   "cell_type": "markdown",
   "id": "supported-amount",
   "metadata": {},
   "source": [
    "<p> \n",
    "CAMSS is the European guide for assessing and selecting standards and specifications for an eGovernment project, a reference when building an architecture and an enabler for justifying the choice of standards and specifications in terms of interoperability needs and requirements. It is fully aligned with the European Standardisation Regulation 1025/2012 \n",
    "\n",
    "This jupyter notebook.....   \n",
    "</p>"
   ]
  },
  {
   "cell_type": "markdown",
   "id": "forward-custody",
   "metadata": {
    "tags": []
   },
   "source": [
    "<table>\n",
    "    <tr>\n",
    "        <td>\n",
    "            <a href=\"camms_tools.ipynb\">\n",
    "                <img src='src/img/camss_tools.jpg' alt='tools logo' style='width:110px;height:100px;border-radius:3px'/>\n",
    "            </a>\n",
    "        </td>\n",
    "        <td>\n",
    "            <a href=\"camss_assessments.ipynb\">\n",
    "                <img src='src/img/camss_assessment.jpg' alt='assessment logo' style='width:110px;height:100px;border-radius:3px'/>\n",
    "            </a>\n",
    "        </td>\n",
    "        <td>\n",
    "            <a href=\"camss_elis.ipynb\">\n",
    "                <img src='src/img/camss_ELIS.jpg' alt='ELIS logo' style='width:110px;height:100px;border-radius:3px'/>\n",
    "            </a>\n",
    "        </td>\n",
    "        <td>\n",
    "            <a href=\"camss_cssv.ipynb\">\n",
    "                <img src='src/img/camss_cssv.jpg' alt='cssv logo' style='width:110px;height:100px;border-radius:3px'/>\n",
    "            </a>\n",
    "        </td>\n",
    "         <td>\n",
    "            <a href=\"camss_cav.ipynb\">\n",
    "                <img src='src/img/camss_cav.jpg' alt='cav logo' style='width:110px;height:100px;border-radius:3px'/>\n",
    "            </a>\n",
    "        </td>\n",
    "         <td>\n",
    "            <a href=\"camss_ontology.ipynb\">\n",
    "                <img src='src/img/camss_ontology.jpg' alt='ontology logo' style='width:110px;height:100px;border-radius:3px'/>\n",
    "            </a>\n",
    "        </td>\n",
    "</table>"
   ]
  },
  {
   "cell_type": "code",
   "execution_count": null,
   "id": "advance-capital",
   "metadata": {},
   "outputs": [],
   "source": []
  }
 ],
 "metadata": {
  "kernelspec": {
   "display_name": "Python 3",
   "language": "python",
   "name": "python3"
  },
  "language_info": {
   "codemirror_mode": {
    "name": "ipython",
    "version": 3
   },
   "file_extension": ".py",
   "mimetype": "text/x-python",
   "name": "python",
   "nbconvert_exporter": "python",
   "pygments_lexer": "ipython3",
   "version": "3.8.5"
  }
 },
 "nbformat": 4,
 "nbformat_minor": 5
}
