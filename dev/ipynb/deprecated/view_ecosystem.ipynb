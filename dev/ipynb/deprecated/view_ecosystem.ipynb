{
 "cells": [
  {
   "cell_type": "markdown",
   "id": "e1116bac",
   "metadata": {},
   "source": [
    "<nav>\n",
    "  <a href=\"view_home.ipynb\">Home</a> &nbsp;&nbsp;&nbsp;\n",
    "  <a href=\"view_journeys.ipynb\">User Journeys</a> &nbsp;&nbsp;&nbsp;\n",
    "  <a href=\"view_ecosystem.ipynb\">CAMSS Ecosystem</a> &nbsp;&nbsp;&nbsp;\n",
    "  <a href=\"view_glossary.ipynb\">Glossary</a> &nbsp;&nbsp;&nbsp;\n",
    "</nav>"
   ]
  },
  {
   "cell_type": "markdown",
   "id": "35ff8220",
   "metadata": {
    "tags": []
   },
   "source": [
    "<center>\n",
    "<h1 style='text-align: center;font-weight: bold;'> \n",
    "    WELCOME TO<br>CAMSS ECOSYSTEM\n",
    "</h1>\n",
    "</center>"
   ]
  },
  {
   "cell_type": "markdown",
   "id": "680a627d",
   "metadata": {},
   "source": [
    "<p style='text-align: justify'>The camss ecosystem arises from the action and interaction of the actors of the camss method with the solutions developed to guide the evaluation and selection of standards and specifications of an eGovernment project.</p>"
   ]
  },
  {
   "cell_type": "markdown",
   "id": "da93c586",
   "metadata": {},
   "source": [
    "<p>The CAMSS solutions and their release components are depicted below:</p>"
   ]
  },
  {
   "cell_type": "markdown",
   "id": "792479b1",
   "metadata": {},
   "source": [
    "<center>\n",
    "    <table>\n",
    "        <tr>\n",
    "            <td><a href=\"view_tools.ipynb\"><img src='../img/camss_tools.jpg' alt='tools logo' width=110px height=100px border-radius=3px margin-right=10px/></a>\n",
    "            </td>\n",
    "            <td> <a href=\"view_assessments.ipynb\"><img src='../img/camss_assessment.png' alt='assessment logo' width=110px height=100px border-radius=3px margin-right=10px/></a> \n",
    "            </td>\n",
    "            <td> <a href=\"view_elis.ipynb\"><img src='../img/camss_ELIS.jpg' alt='ELIS logo' width=110px height=100px border-radius=3px margin-right=10px/></a> \n",
    "            </td>\n",
    "            <td> <a href=\"view_cssv.ipynb\"><img src='../img/camss_cssv.jpg' alt='cssv logo' width=110px height=100px border-radius=3px margin-right=10px/></a> \n",
    "            </td>\n",
    "        </tr>\n",
    "        <tr>\n",
    "            <td><a href=\"view_cav.ipynb\"><img src='../img/camss_cav.jpg' alt='cav logo' width=110px height=100px border-radius=3px margin-right=10px/></a>\n",
    "            </td>\n",
    "            <td> <a href=\"view_ontology.ipynb\"><img src='../img/camss_ontology.jpg' alt='ontology logo' width=110px height=100px border-radius=3px margin-right=10px/></a> \n",
    "            </td>\n",
    "            <td> <a href=\"view_elap.ipynb\">\n",
    "            <img src='../img/camss_elap.jpg' alt='elap logo' width=110px height=100px border-radius=3px margin-right=10px/></a> \n",
    "            </td>\n",
    "        </tr>\n",
    "    </table>\n",
    "</center>"
   ]
  },
  {
   "cell_type": "markdown",
   "id": "8012758b",
   "metadata": {},
   "source": [
    "<p> All solutions of CAMSS are designed to connect different aspects of different business domains to standards and specifications: support to software architectural development, support to ICT procurement.</p>"
   ]
  },
  {
   "cell_type": "markdown",
   "id": "6ab05238",
   "metadata": {},
   "source": [
    "<center>\n",
    "    <img src='../img/camss_tools_interaction.png' alt='assessment logo' width=50% height=90% border-radius=3px align=center/>\n",
    "</center>"
   ]
  },
  {
   "cell_type": "code",
   "execution_count": null,
   "id": "866e0a89",
   "metadata": {},
   "outputs": [],
   "source": []
  }
 ],
 "metadata": {
  "kernelspec": {
   "display_name": "Python 3",
   "language": "python",
   "name": "python3"
  },
  "language_info": {
   "codemirror_mode": {
    "name": "ipython",
    "version": 3
   },
   "file_extension": ".py",
   "mimetype": "text/x-python",
   "name": "python",
   "nbconvert_exporter": "python",
   "pygments_lexer": "ipython3",
   "version": "3.8.8"
  }
 },
 "nbformat": 4,
 "nbformat_minor": 5
}
