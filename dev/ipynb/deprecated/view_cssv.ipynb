{
 "cells": [
  {
   "cell_type": "markdown",
   "metadata": {},
   "source": [
    "<nav>\n",
    "  <a href=\"view_home.ipynb\">Home</a> &nbsp;&nbsp;&nbsp;\n",
    "  <a href=\"view_journeys.ipynb\">User Journeys</a> &nbsp;&nbsp;&nbsp;\n",
    "  <a href=\"view_ecosystem.ipynb\">CAMSS Ecosystem</a> &nbsp;&nbsp;&nbsp;\n",
    "  <a href=\"view_glossary.ipynb\">Glossary</a> &nbsp;&nbsp;&nbsp;\n",
    "</nav>"
   ]
  },
  {
   "cell_type": "markdown",
   "metadata": {},
   "source": [
    "<center>\n",
    "    <table>\n",
    "        <tr>\n",
    "            <td> <img src='../img/camss_cssv.jpg' alt='cssv logo' width=110px height=100px margin-right=10px/>\n",
    "            </td>\n",
    "            <td> <img src='../img/european-union-logo.png' alt='EU logo' width=160px height=100px/> \n",
    "            </td>\n",
    "        </tr>\n",
    "    </table>\n",
    "</center>"
   ]
  },
  {
   "cell_type": "markdown",
   "metadata": {},
   "source": [
    "<center>\n",
    "    <h1 style='text-align: center;font-weight: bold;'> \n",
    "        Core Standards and Specifications Vocabulary <br>CSSV\n",
    "    </h1>\n",
    "</center>"
   ]
  },
  {
   "cell_type": "markdown",
   "metadata": {},
   "source": [
    "<p style='text-align: justify'>\n",
    "    The CSSV is the vocabulary used for the information exchange related to standards and specifications amongst software solutions, and also for the description of themselves like EIRA, CPSV, IMAPS, amongst other specifications. The CSSV is the key element for the development of the EIRA Library of Interoperability Specifications (<a href='view_elis.ipynb'>ELIS</a>).<br><br>\n",
    "    In order to improve the quality of this vocabulary, it has been reviewed publicly through a public consultation in a <a href='https://github.com/SEMICeu/CAMSS_CSSV'>Github repository</a> where some stakeholders contributed to the improvement of it. You can read more on the\n",
    "    <a href='https://joinup.ec.europa.eu/collection/common-assessment-method-standards-and-specifications-camss/solution/core-standards-and-specifications-vocabulary-cssv/about'>Joinup website</a>.  \n",
    "</p>\n"
   ]
  },
  {
   "cell_type": "markdown",
   "metadata": {},
   "source": [
    "<h2 style='font-weight: bold;'> \n",
    "    CSSV Data Model\n",
    "</h2>\n",
    "<p style='text-align: justify'> \n",
    "The CSSV is based on a preliminary Core Interoperability Standards and Specifications Vocabulary (CISSV) and EIRA CISSV-AP model, which was used for the development of the BETA version of the ELIS in 2018.The CSSV thus replaces that other preliminary model.<br>\n",
    "    The following figure shows the classes and properties that are used or defined in the CSSV and which are part of the new release of the ELIS:\n",
    "</p>"
   ]
  },
  {
   "cell_type": "markdown",
   "metadata": {},
   "source": [
    "<center>\n",
    "    <img src='../img/camss_cssv/cssv_conceptual_model.jpg' alt='CSSV conceptual overview' style='width:100%;height:100%;border-radius:3px;align:\"center\"'/>\n",
    "</center>"
   ]
  },
  {
   "cell_type": "markdown",
   "metadata": {},
   "source": [
    "<p style='text-align: justify'> \n",
    "The main class of the CSSV model is the “Specification”. A Specification is an asset, as it inherits from the dcat:Dataset, which is the representative of an ADMS Asset.\n",
    "A Specification, additionally, can be a Standard, an ApplicationProfile and or a Family or a collection of other specifications. The CSSV model defines:\n",
    "</p>\n",
    "\n",
    "<ul style='text-align: justify'>\n",
    "    <li>A <strong>Specification</strong> as a set of agreed, descriptive and normative statements about how a specification should be designed or made</li>\n",
    "     <li>A <strong>Standard</strong> as a specification that is largely adopted and possibly endorsed.</li>\n",
    "     <li>An <strong>Aplication Profile</strong>  as customisation of one or more existing specifications potentially for a given use case or a policy domain adding an end-to-end narrative describing and ensuring the interoperability of its underlying specification(s). By customisation, we understand the “addition of more specificity by identifying mandatory, recommended and optional elements, as well as by defining controlled vocabularies to be employed”.</li>\n",
    "     <li>A <strong>Family</strong> as a collection of interrelated and/or complementary specifications, standards or application profiles and the explanation of how they are combined, used or both. </li>\n",
    "    </ul>"
   ]
  },
  {
   "cell_type": "markdown",
   "metadata": {},
   "source": [
    "<h2 style='font-weight: bold;'> \n",
    "    CAMSS CSSV Releases\n",
    "</h2>\n",
    "<p>CAMSS CSSV has 2 releases, you can enter each version by clicking on the releases below.</p>"
   ]
  },
  {
   "cell_type": "markdown",
   "metadata": {},
   "source": [
    "<center>\n",
    "    <table>\n",
    "        <tr>\n",
    "            <td><a href=\"https://joinup.ec.europa.eu/collection/common-assessment-method-standards-and-specifications-camss/solution/core-standards-and-specifications-vocabulary-cssv/release/v110\">\n",
    "                <img src='../img/camss_cssv/camss_cssv_110.jpg' alt='camss cssv release 1.1.0' width=180px height=100px border-radius=15px/></a>\n",
    "            </td>\n",
    "            <td><a href=\"https://joinup.ec.europa.eu/collection/common-assessment-method-standards-and-specifications-camss/solution/core-standards-and-specifications-vocabulary-cssv/release/v100\">\n",
    "                <img src='../img/camss_cssv/camss_cssv_100.jpg' alt='camss cssv release 1.0.0' width=180px height=100px border-radius=15px/></a>\n",
    "            </td>\n",
    "        </tr>\n",
    "    </table>\n",
    "</center>"
   ]
  },
  {
   "cell_type": "markdown",
   "metadata": {},
   "source": [
    "<p style='text-align: justify'> \n",
    "You can also to interact with the Specifications through this jupiter notebook, to do that it is important that you identify your role in the <a href=\"view_journeys.ipynb\">user journeys</a> section and we will guide you to obtain the information that best suits you from the <a href='http://publications.europa.eu/webapi/rdf/sparql'>CELLAR's Virtuoso endpoint</a> launching the queries and retrieving the data.\n",
    "</p>"
   ]
  },
  {
   "cell_type": "code",
   "execution_count": null,
   "metadata": {},
   "outputs": [],
   "source": []
  }
 ],
 "metadata": {
  "kernelspec": {
   "display_name": "camss journeys env",
   "language": "python",
   "name": ".env"
  },
  "language_info": {
   "codemirror_mode": {
    "name": "ipython",
    "version": 3
   },
   "file_extension": ".py",
   "mimetype": "text/x-python",
   "name": "python",
   "nbconvert_exporter": "python",
   "pygments_lexer": "ipython3",
   "version": "3.8.5"
  }
 },
 "nbformat": 4,
 "nbformat_minor": 5
}
