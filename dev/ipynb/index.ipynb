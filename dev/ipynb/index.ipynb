{
 "cells": [
  {
   "cell_type": "markdown",
   "id": "0a9e874f-e8e9-4fe7-8993-1a988c69d4a3",
   "metadata": {
    "tags": []
   },
   "source": [
    "<nav>\n",
    "  <a href=\"index.ipynb\">Home</a> &nbsp;&nbsp;&nbsp;\n",
    "  <a href=\"view_journeys.ipynb\">User Journeys</a> &nbsp;&nbsp;&nbsp;\n",
    "</nav>"
   ]
  },
  {
   "cell_type": "markdown",
   "id": "274b8a01-2513-441e-9b35-268eb0f5bc5e",
   "metadata": {},
   "source": [
    "<table>\n",
    "    <tr>\n",
    "        <td> <img src='../img/logo1.jpg' alt='assessment logo' width=110px height=100px margin-right=10px/>\n",
    "        </td>\n",
    "        <td> <img src='../img/european-union-logo.png' alt='EU logo' width=160px height=100px/> \n",
    "        </td>\n",
    "    </tr>\n",
    "</table>"
   ]
  },
  {
   "cell_type": "markdown",
   "id": "20815ae3-8f30-4398-a7dd-9ddfaa541f31",
   "metadata": {
    "tags": []
   },
   "source": [
    "<center>\n",
    "    <h1 style='text-align: center;font-weight: bold;'> \n",
    "        CAMSS <br>Common Assessment Method for Standards and Specifications\n",
    "    </h1>\n",
    "</center>"
   ]
  },
  {
   "cell_type": "markdown",
   "id": "1cd2daa1-7f29-4cf1-a2db-109c201b8f01",
   "metadata": {},
   "source": [
    "<p style='text-align: justify'>\n",
    "The CAMSS team understands the essence of the user's goal from their perspective and has designed this Jupyter Notebook to guide the user to achieve it in very simple steps, facilitating the use of the tools to their role. So, if you want to know more about what is CAMSS you can access to <a href='https://joinup.ec.europa.eu/collection/common-assessment-method-standards-and-specifications-camss/about'>Join up.</a><br></p>\n",
    "<p>To provide you with a good experience and make sure you get right information continue reading what is a User Journey and how CAMSS User Journeys are structured, or if you prefer to take action and start discovering what CAMSS has prepared for you go to <a href='view_journeys.ipynb'>User Journeys</a>.</p>"
   ]
  },
  {
   "cell_type": "markdown",
   "metadata": {},
   "source": [
    "<h1> \n",
    "   What is a User Journey?\n",
    "</h1>"
   ]
  },
  {
   "cell_type": "markdown",
   "metadata": {},
   "source": [
    "<p style='text-align: justify'>\n",
    "A user journey is the path a user can take to reach a goal when using a certain tool or methodology. This journey usually consists of a series of moments, situations and decision points that take the user from one step to another. The user journey is used to map the actual path that a typical user might take to reach his or her goal. This journey is then redesigned to form an \"ideal\" user journey, free of frustrations. The result is usually a flowchart showing each situation and decision point along the entire process.</p>\n",
    "\n",
    "<p style='text-align: justify'>\n",
    "    The image below shows the model of a typical user journey, it is important to define :\n",
    "    <ul>\n",
    "        <li>User story to understand who is using the tool and what their objectives are,</li>\n",
    "        <li>Use case to delimit the scope and approaches that the user has to fulfil their objective,</li>\n",
    "        <li>Route of steps that the user can follow to achieve their objective little by little in a sequential way.</li>\n",
    "    </ul>\n",
    "</p>\n"
   ]
  },
  {
   "cell_type": "markdown",
   "metadata": {},
   "source": [
    "<h4>\n",
    "    User Journey Model\n",
    "</h4>\n",
    "<img src='../img/user_journeys/user_journeys_model.jpg' alt='Journey Map' width=70% height=70%/>"
   ]
  },
  {
   "cell_type": "markdown",
   "metadata": {},
   "source": [
    "<p>Now it's time to take action, start discovering the <a href='view_journeys.ipynb'>User Journeys</a> that CAMSS Team has prepared for you.</p> "
   ]
  },
  {
   "cell_type": "code",
   "execution_count": null,
   "metadata": {},
   "outputs": [],
   "source": []
  }
 ],
 "metadata": {
  "kernelspec": {
   "display_name": "Python 3",
   "language": "python",
   "name": "python3"
  },
  "language_info": {
   "codemirror_mode": {
    "name": "ipython",
    "version": 3
   },
   "file_extension": ".py",
   "mimetype": "text/x-python",
   "name": "python",
   "nbconvert_exporter": "python",
   "pygments_lexer": "ipython3",
   "version": "3.8.5"
  }
 },
 "nbformat": 4,
 "nbformat_minor": 5
}
