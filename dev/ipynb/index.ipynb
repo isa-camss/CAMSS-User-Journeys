{
 "cells": [
  {
   "cell_type": "markdown",
   "id": "0a9e874f-e8e9-4fe7-8993-1a988c69d4a3",
   "metadata": {
    "tags": []
   },
   "source": [
    "<nav>\n",
    "  <a href=\"index.ipynb\">Home</a> &nbsp;&nbsp;&nbsp;\n",
    "  <a href=\"view_journeys.ipynb\">User Journeys</a> &nbsp;&nbsp;&nbsp;\n",
    "</nav>"
   ]
  },
  {
   "cell_type": "markdown",
   "id": "274b8a01-2513-441e-9b35-268eb0f5bc5e",
   "metadata": {},
   "source": [
    "<table>\n",
    "    <tr>\n",
    "        <td> <img src='../img/logo1.jpg' alt='assessment logo' width=110px height=100px margin-right=10px/>\n",
    "        </td>\n",
    "        <td> <img src='../img/european-union-logo.png' alt='EU logo' width=160px height=100px/> \n",
    "        </td>\n",
    "    </tr>\n",
    "</table>"
   ]
  },
  {
   "cell_type": "markdown",
   "id": "20815ae3-8f30-4398-a7dd-9ddfaa541f31",
   "metadata": {
    "tags": []
   },
   "source": [
    "<center>\n",
    "    <h1 style='text-align: center;font-weight: bold;'> \n",
    "        CAMSS <br>Common Assessment Method for Standards and Specifications\n",
    "    </h1>\n",
    "</center>"
   ]
  },
  {
   "cell_type": "markdown",
   "id": "1cd2daa1-7f29-4cf1-a2db-109c201b8f01",
   "metadata": {},
   "source": [
    "<p style='text-align: justify'>\n",
    "    CAMSS is the European guide for assessing and selecting standards and specifications for an eGovernment project, a reference when building an architecture and an enabler for justifying the choice of standards and specifications in terms of interoperability needs and requirements. It is fully aligned with the European Standardisation Regulation 1025/2012.<br>CAMSS brings value when you want to use ICT standards or specifications in the assessment and implementation of your regional, national or cross-border ICT services. You want to ensure that you choose the best ICT standards or specifications available to meet your business needs. More information is available on the <a href='https://joinup.ec.europa.eu/collection/common-assessment-method-standards-and-specifications-camss/about'>CAMSS page</a> on Joinup.<br><br> The purposes of CAMSS is:\n",
    "</p>\n",
    "        <ul style='text-align: justify'>\n",
    "            <li>to ensure that assessments of technical ICT specifications or standards and interoperability profiles are performed according to high and consistent standards</li>\n",
    "            <li>to ensure that assessments will contribute significantly to confidence in the interoperability of systems implementing these specifications and profiles;</li>\n",
    "            <li>to enable the reuse, in whole or in part, of such assessments;</li>\n",
    "            <li>to continuously improve the efficiency and effectiveness of the assessment process for ICT technical specifications, standards and interoperability profiles.</li>\n",
    "        </ul>      \n",
    "\n",
    "<p style='text-align: justify'>\n",
    "    This Jupyter notebook has been developed with the purpose of facilitating the use of the tools to CAMSS users according to their role.<br><p>To give you a good experience and ensure you get the right information for you, tell us more about your role in the <a href='view_journeys.ipynb'>User Journeys</a>.</p>\n",
    "</p>"
   ]
  },
  {
   "cell_type": "code",
   "execution_count": null,
   "id": "bd45dbf3-fb5a-4bf8-b9f5-adf7563f2732",
   "metadata": {},
   "outputs": [],
   "source": []
  }
 ],
 "metadata": {
  "kernelspec": {
   "display_name": "Python 3",
   "language": "python",
   "name": "python3"
  },
  "language_info": {
   "codemirror_mode": {
    "name": "ipython",
    "version": 3
   },
   "file_extension": ".py",
   "mimetype": "text/x-python",
   "name": "python",
   "nbconvert_exporter": "python",
   "pygments_lexer": "ipython3",
   "version": "3.8.5"
  }
 },
 "nbformat": 4,
 "nbformat_minor": 5
}
