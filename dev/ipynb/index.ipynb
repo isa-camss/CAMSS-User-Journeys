{
 "cells": [
  {
   "cell_type": "markdown",
   "id": "0a9e874f-e8e9-4fe7-8993-1a988c69d4a3",
   "metadata": {
    "tags": []
   },
   "source": [
    "<nav>\n",
    "  <a href=\"index.ipynb\">Home</a> &nbsp;&nbsp;&nbsp;\n",
    "  <a href=\"view_journeys.ipynb\">User Journeys</a> &nbsp;&nbsp;&nbsp;\n",
    "</nav>"
   ]
  },
  {
   "cell_type": "markdown",
   "id": "274b8a01-2513-441e-9b35-268eb0f5bc5e",
   "metadata": {},
   "source": [
    "<table>\n",
    "    <tr>\n",
    "        <td> <img src='../img/logo1.jpg' alt='assessment logo' width=110px height=100px margin-right=10px/>\n",
    "        </td>\n",
    "        <td> <img src='../img/european-union-logo.png' alt='EU logo' width=160px height=100px/> \n",
    "        </td>\n",
    "    </tr>\n",
    "</table>"
   ]
  },
  {
   "cell_type": "markdown",
   "id": "20815ae3-8f30-4398-a7dd-9ddfaa541f31",
   "metadata": {
    "tags": []
   },
   "source": [
    "<center>\n",
    "    <h1 style='text-align: center;font-weight: bold;'> \n",
    "        CAMSS <br>Common Assessment Method for Standards and Specifications\n",
    "    </h1>\n",
    "</center>"
   ]
  },
  {
   "cell_type": "markdown",
   "id": "1cd2daa1-7f29-4cf1-a2db-109c201b8f01",
   "metadata": {},
   "source": [
    "<p style='text-align: justify'>\n",
    "This Jupyter notebook has been developed with the purpose of facilitating the use of the tools to CAMSS users according to their role. So, if you want to know more about CAMSS you can access to <a href='https://joinup.ec.europa.eu/collection/common-assessment-method-standards-and-specifications-camss/about'>Join up.</a><br></p>\n",
    "<p>To provide you with a good experience and make sure you get the right information we invite you to read what is a User Journey and how CAMSS User Journeys are structured, or if you prefer to take action and start discovering what CAMSS has prepared for you go to <a href='view_journeys.ipynb'>User Journeys</a>.</p>"
   ]
  },
  {
   "cell_type": "markdown",
   "metadata": {},
   "source": [
    "<h1> \n",
    "   What is a User Journeys?\n",
    "</h1>"
   ]
  },
  {
   "cell_type": "markdown",
   "metadata": {},
   "source": []
  },
  {
   "cell_type": "markdown",
   "metadata": {},
   "source": [
    "<img src='../img/user_journeys/user_journeys_model.jpg' alt='Journey Map' width=70% height=70%/>"
   ]
  },
  {
   "cell_type": "markdown",
   "metadata": {},
   "source": [
    "<h1> \n",
    "   CAMSS User Journeys\n",
    "</h1>"
   ]
  },
  {
   "cell_type": "markdown",
   "metadata": {},
   "source": []
  },
  {
   "cell_type": "markdown",
   "metadata": {},
   "source": [
    "<img src='../img/user_journeys/user_journeys.jpg' alt='Journey Map' width=150% height=150%/>"
   ]
  },
  {
   "cell_type": "markdown",
   "metadata": {},
   "source": [
    "<p>Now it's time to take action, start discovering the <a href='view_journeys.ipynb'>User Journeys</a>.</p> that CAMSS has prepared for you."
   ]
  }
 ],
 "metadata": {
  "kernelspec": {
   "display_name": "Python 3",
   "language": "python",
   "name": "python3"
  },
  "language_info": {
   "codemirror_mode": {
    "name": "ipython",
    "version": 3
   },
   "file_extension": ".py",
   "mimetype": "text/x-python",
   "name": "python",
   "nbconvert_exporter": "python",
   "pygments_lexer": "ipython3",
   "version": "3.8.5"
  }
 },
 "nbformat": 4,
 "nbformat_minor": 5
}
