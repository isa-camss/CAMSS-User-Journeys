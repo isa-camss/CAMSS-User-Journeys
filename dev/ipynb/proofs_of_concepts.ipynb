{
 "cells": [
  {
   "cell_type": "code",
   "execution_count": 1,
   "metadata": {},
   "outputs": [],
   "source": [
    "import sys\n",
    "sys.path.append('../')\n",
    "import requests\n",
    "import ipywidgets as widgets\n",
    "from ipywidgets import Layout, AppLayout\n",
    "import pandas as pd\n",
    "import json\n",
    "from pprint import pprint\n",
    "import cfg.sparql as sparql"
   ]
  },
  {
   "cell_type": "code",
   "execution_count": 2,
   "metadata": {},
   "outputs": [],
   "source": [
    "# variables\n",
    "URL_MICROSERVICE= 'http://localhost:5100/assessments/get_assessments'\n",
    "\n",
    "query_assessments = sparql.QUERY_ASSESSMENTS\n",
    "query_test = sparql.QUERY_2"
   ]
  },
  {
   "cell_type": "code",
   "execution_count": 13,
   "metadata": {},
   "outputs": [],
   "source": [
    "# Method to execute Microservice query (API assessments)\n",
    "\n",
    "output= widgets.Output()\n",
    "\n",
    "@output.capture()\n",
    "def funcion1(q):\n",
    "    query= text_area_content.value\n",
    "    return query\n",
    "    pprint(query)\n",
    "def send_query(query):\n",
    "    params= {'sparql_query': query}\n",
    "    msg= requests.post(url= URL_MICROSERVICE, params= params)\n",
    "    response_json = msg.json()\n",
    "    \n",
    "    df_assessments = pd.DataFrame(response_json, columns=['Assessments', 'Scenario'])\n",
    "    pprint(df_assessments)\n",
    "    "
   ]
  },
  {
   "cell_type": "code",
   "execution_count": 14,
   "metadata": {},
   "outputs": [
    {
     "ename": "AttributeError",
     "evalue": "'list' object has no attribute 'value'",
     "output_type": "error",
     "traceback": [
      "\u001b[1;31m---------------------------------------------------------------------------\u001b[0m",
      "\u001b[1;31mAttributeError\u001b[0m                            Traceback (most recent call last)",
      "\u001b[1;32m<ipython-input-14-1d05e9635fee>\u001b[0m in \u001b[0;36m<module>\u001b[1;34m\u001b[0m\n\u001b[0;32m      5\u001b[0m \u001b[1;33m\u001b[0m\u001b[0m\n\u001b[0;32m      6\u001b[0m \u001b[0mbutton\u001b[0m\u001b[1;33m=\u001b[0m \u001b[0mwidgets\u001b[0m\u001b[1;33m.\u001b[0m\u001b[0mButton\u001b[0m\u001b[1;33m(\u001b[0m\u001b[0mdescription\u001b[0m\u001b[1;33m=\u001b[0m\u001b[1;34m\"Run\"\u001b[0m\u001b[1;33m)\u001b[0m\u001b[1;33m\u001b[0m\u001b[1;33m\u001b[0m\u001b[0m\n\u001b[1;32m----> 7\u001b[1;33m \u001b[0mbutton\u001b[0m\u001b[1;33m.\u001b[0m\u001b[0mon_click\u001b[0m\u001b[1;33m(\u001b[0m\u001b[0mfuncion1\u001b[0m\u001b[1;33m(\u001b[0m\u001b[0mtext_area\u001b[0m\u001b[1;33m.\u001b[0m\u001b[0mvalue\u001b[0m\u001b[1;33m)\u001b[0m\u001b[1;33m)\u001b[0m\u001b[1;33m\u001b[0m\u001b[1;33m\u001b[0m\u001b[0m\n\u001b[0m\u001b[0;32m      8\u001b[0m \u001b[1;33m\u001b[0m\u001b[0m\n\u001b[0;32m      9\u001b[0m text_area= [widgets.Textarea(value = query_value, placeholder='Type a query', layout=Layout(width='100%',height='300px'))\n",
      "\u001b[1;31mAttributeError\u001b[0m: 'list' object has no attribute 'value'"
     ]
    }
   ],
   "source": [
    "# Proof 1 \n",
    "\n",
    "tab_names = ['Own queries', 'query 1', 'query 2']\n",
    "text_area_content = ['', query_assessments, query_test]\n",
    "\n",
    "button= widgets.Button(description=\"Run\")\n",
    "button.on_click(funcion1(text_area.value))\n",
    "\n",
    "text_area= [widgets.Textarea(value = query_value, placeholder='Type a query', layout=Layout(width='100%',height='300px'))\n",
    "           for query_value in text_area_content]\n",
    "\n",
    "tab_content = [widgets.HBox([text_area, button]) for text_area in text_area]\n",
    "\n",
    "tab= widgets.Tab(tab_content)\n",
    "[tab.set_title(i, title) for i, title in enumerate(tab_names)]\n",
    "\n",
    "\n",
    "display(tab, output)"
   ]
  },
  {
   "cell_type": "code",
   "execution_count": 5,
   "metadata": {},
   "outputs": [
    {
     "data": {
      "application/vnd.jupyter.widget-view+json": {
       "model_id": "aa9efe0faf7240bf89178a4781807ba0",
       "version_major": 2,
       "version_minor": 0
      },
      "text/plain": [
       "Tab(children=(Textarea(value='', layout=Layout(height='200px', width='100%'), placeholder='Type a query'), Tex…"
      ]
     },
     "metadata": {},
     "output_type": "display_data"
    },
    {
     "data": {
      "application/vnd.jupyter.widget-view+json": {
       "model_id": "9cef47327c11468282e39e0c38d1b1ac",
       "version_major": 2,
       "version_minor": 0
      },
      "text/plain": [
       "Button(description='Run', style=ButtonStyle())"
      ]
     },
     "metadata": {},
     "output_type": "display_data"
    },
    {
     "data": {
      "application/vnd.jupyter.widget-view+json": {
       "model_id": "7e8ec51251ac481a9ffc6cc79b205d8d",
       "version_major": 2,
       "version_minor": 0
      },
      "text/plain": [
       "Output()"
      ]
     },
     "metadata": {},
     "output_type": "display_data"
    }
   ],
   "source": [
    "# Proof 2\n",
    "\n",
    "tab_names = ['Own queries', 'query 1', 'query 2']\n",
    "text_area_content = ['', query_assessments, query_test]\n",
    "\n",
    "button= widgets.Button(description=\"Run\")\n",
    "button.on_click(send_query)\n",
    "\n",
    "children = [widgets.Textarea(value=value, placeholder='Type a query', layout=Layout(width='100%',height='200px')) \n",
    "            for value in text_area_content]\n",
    "\n",
    "# text_area= widgets.Textarea(value=query_assessments,placeholder='Type a query', layout=Layout(width='100%',height='300px'))\n",
    "\n",
    "tab = widgets.Tab()\n",
    "tab.children = children\n",
    "\n",
    "for i in range(len(tab_names)):\n",
    "    tab.set_title(i, tab_names[i])\n",
    "display(tab, button, output)"
   ]
  },
  {
   "cell_type": "code",
   "execution_count": 6,
   "metadata": {},
   "outputs": [
    {
     "ename": "TypeError",
     "evalue": "send_query() missing 1 required positional argument: 'query'",
     "output_type": "error",
     "traceback": [
      "\u001b[1;31m---------------------------------------------------------------------------\u001b[0m",
      "\u001b[1;31mTypeError\u001b[0m                                 Traceback (most recent call last)",
      "\u001b[1;32m<ipython-input-6-dc2ff3bc4d5a>\u001b[0m in \u001b[0;36m<module>\u001b[1;34m\u001b[0m\n\u001b[0;32m      6\u001b[0m \u001b[0mtext_area\u001b[0m\u001b[1;33m=\u001b[0m \u001b[0mwidgets\u001b[0m\u001b[1;33m.\u001b[0m\u001b[0mTextarea\u001b[0m\u001b[1;33m(\u001b[0m\u001b[0mvalue\u001b[0m\u001b[1;33m=\u001b[0m\u001b[1;34m''\u001b[0m\u001b[1;33m,\u001b[0m \u001b[0mplaceholder\u001b[0m\u001b[1;33m=\u001b[0m\u001b[1;34m'Type a query'\u001b[0m\u001b[1;33m,\u001b[0m \u001b[0mlayout\u001b[0m\u001b[1;33m=\u001b[0m\u001b[0mLayout\u001b[0m\u001b[1;33m(\u001b[0m\u001b[0mwidth\u001b[0m\u001b[1;33m=\u001b[0m\u001b[1;34m'100%'\u001b[0m\u001b[1;33m,\u001b[0m\u001b[0mheight\u001b[0m\u001b[1;33m=\u001b[0m\u001b[1;34m'200px'\u001b[0m\u001b[1;33m)\u001b[0m\u001b[1;33m)\u001b[0m\u001b[1;33m\u001b[0m\u001b[1;33m\u001b[0m\u001b[0m\n\u001b[0;32m      7\u001b[0m \u001b[0mbutton\u001b[0m\u001b[1;33m=\u001b[0m \u001b[0mwidgets\u001b[0m\u001b[1;33m.\u001b[0m\u001b[0mButton\u001b[0m\u001b[1;33m(\u001b[0m\u001b[0mdescription\u001b[0m\u001b[1;33m=\u001b[0m\u001b[1;34m\"Run\"\u001b[0m\u001b[1;33m)\u001b[0m\u001b[1;33m\u001b[0m\u001b[1;33m\u001b[0m\u001b[0m\n\u001b[1;32m----> 8\u001b[1;33m \u001b[0mbutton\u001b[0m\u001b[1;33m.\u001b[0m\u001b[0mon_click\u001b[0m\u001b[1;33m(\u001b[0m\u001b[0msend_query\u001b[0m\u001b[1;33m(\u001b[0m\u001b[1;33m)\u001b[0m\u001b[1;33m)\u001b[0m\u001b[1;33m\u001b[0m\u001b[1;33m\u001b[0m\u001b[0m\n\u001b[0m\u001b[0;32m      9\u001b[0m \u001b[1;33m\u001b[0m\u001b[0m\n\u001b[0;32m     10\u001b[0m \u001b[0mtab_content\u001b[0m \u001b[1;33m=\u001b[0m \u001b[1;33m[\u001b[0m\u001b[0mwidgets\u001b[0m\u001b[1;33m.\u001b[0m\u001b[0mHBox\u001b[0m\u001b[1;33m(\u001b[0m\u001b[1;33m[\u001b[0m\u001b[0mtext_area\u001b[0m\u001b[1;33m,\u001b[0m \u001b[0mbutton\u001b[0m\u001b[1;33m]\u001b[0m\u001b[1;33m)\u001b[0m \u001b[1;32mfor\u001b[0m \u001b[0mname\u001b[0m \u001b[1;32min\u001b[0m \u001b[0mtab_names\u001b[0m\u001b[1;33m]\u001b[0m\u001b[1;33m\u001b[0m\u001b[1;33m\u001b[0m\u001b[0m\n",
      "\u001b[1;31mTypeError\u001b[0m: send_query() missing 1 required positional argument: 'query'"
     ]
    }
   ],
   "source": [
    "# Proof 3\n",
    "\n",
    "tab_names = ['Own queries', 'query 1', 'query 2']\n",
    "text_area_content = ['', query_assessments, query_test]\n",
    "\n",
    "text_area= widgets.Textarea(value='', placeholder='Type a query', layout=Layout(width='100%',height='200px'))\n",
    "button= widgets.Button(description=\"Run\")\n",
    "button.on_click(send_query())\n",
    "\n",
    "tab_content = [widgets.HBox([text_area, button]) for name in tab_names]\n",
    "tab = widgets.Tab(tab_content)\n",
    "\n",
    "for i in range(len(tab_names)):\n",
    "    tab.set_title(i, tab_names[i])\n",
    "\n",
    "display(tab, output)"
   ]
  },
  {
   "cell_type": "code",
   "execution_count": null,
   "metadata": {},
   "outputs": [],
   "source": []
  }
 ],
 "metadata": {
  "kernelspec": {
   "display_name": "Python 3",
   "language": "python",
   "name": "python3"
  },
  "language_info": {
   "codemirror_mode": {
    "name": "ipython",
    "version": 3
   },
   "file_extension": ".py",
   "mimetype": "text/x-python",
   "name": "python",
   "nbconvert_exporter": "python",
   "pygments_lexer": "ipython3",
   "version": "3.8.5"
  }
 },
 "nbformat": 4,
 "nbformat_minor": 4
}
