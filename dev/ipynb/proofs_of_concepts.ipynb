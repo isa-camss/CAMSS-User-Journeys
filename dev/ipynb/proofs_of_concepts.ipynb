{
 "cells": [
  {
   "cell_type": "code",
   "execution_count": 1,
   "metadata": {},
   "outputs": [],
   "source": [
    "import sys\n",
    "sys.path.append('../')\n",
    "import requests\n",
    "import ipywidgets as widgets\n",
    "from ipywidgets import Layout, AppLayout\n",
    "import pandas as pd\n",
    "import json\n",
    "from pprint import pprint\n",
    "import cfg.sparql as sparql\n",
    "from itables import init_notebook_mode\n",
    "init_notebook_mode(all_interactive=True)"
   ]
  },
  {
   "cell_type": "code",
   "execution_count": 2,
   "metadata": {},
   "outputs": [],
   "source": [
    "# variables\n",
    "URL_MICROSERVICE= 'http://localhost:5100/assessments/get_assessments'\n",
    "\n",
    "query_assessments = sparql.QUERY_ASSESSMENTS\n",
    "query_test = sparql.QUERY_2"
   ]
  },
  {
   "cell_type": "code",
   "execution_count": 22,
   "metadata": {},
   "outputs": [],
   "source": [
    "# Method to execute Microservice query (API assessments)\n",
    "\n",
    "output= widgets.Output()\n",
    "\n",
    "@output.capture()\n",
    "def send_query(q):\n",
    "    query= text_area.value\n",
    "    params= {'sparql_query': query}\n",
    "    msg= requests.post(url= URL_MICROSERVICE, params= params)\n",
    "    response_json = msg.json()\n",
    "    df_assessments = pd.DataFrame(response_json, columns=['Assessments', 'Scenario'])\n",
    "    pprint(df_assessments)\n",
    "    "
   ]
  },
  {
   "cell_type": "code",
   "execution_count": 23,
   "metadata": {},
   "outputs": [
    {
     "data": {
      "application/vnd.jupyter.widget-view+json": {
       "model_id": "965ddb89301c4cd4ad3d4949f39ae8a5",
       "version_major": 2,
       "version_minor": 0
      },
      "text/plain": [
       "Tab(children=(VBox(children=(Textarea(value='\\n    PREFIX camssa: <http://data.europa.eu/2sa/assessments/>\\n  …"
      ]
     },
     "metadata": {},
     "output_type": "display_data"
    },
    {
     "data": {
      "application/vnd.jupyter.widget-view+json": {
       "model_id": "d624fdccc93d4f4bab1758d9d9d0ccb1",
       "version_major": 2,
       "version_minor": 0
      },
      "text/plain": [
       "Output()"
      ]
     },
     "metadata": {},
     "output_type": "display_data"
    }
   ],
   "source": [
    "# UI\n",
    "# Proof 1 \n",
    "\n",
    "tab_names = ['Own queries', 'query 1', 'query 2']\n",
    "\n",
    "button= widgets.Button(description=\"Run\")\n",
    "button.on_click(send_query)\n",
    "\n",
    "text_area= widgets.Textarea(value=query_assessments, placeholder='Type a query', layout=Layout(width='100%',height='300px'))\n",
    "\n",
    "tab_content = [widgets.VBox([text_area, button]) for _ in tab_names]\n",
    "tab= widgets.Tab(tab_content)\n",
    "[tab.set_title(i, title) for i, title in enumerate(tab_names)]\n",
    "\n",
    "\n",
    "display(tab, output)"
   ]
  },
  {
   "cell_type": "code",
   "execution_count": 5,
   "metadata": {},
   "outputs": [
    {
     "data": {
      "application/vnd.jupyter.widget-view+json": {
       "model_id": "a00ca52d531741dc884316e3bcc6b415",
       "version_major": 2,
       "version_minor": 0
      },
      "text/plain": [
       "Tab(children=(Textarea(value='', layout=Layout(height='200px', width='100%'), placeholder='Type a query'), Tex…"
      ]
     },
     "metadata": {},
     "output_type": "display_data"
    },
    {
     "data": {
      "application/vnd.jupyter.widget-view+json": {
       "model_id": "8636d55d849f4b2ab2df647870cd29a3",
       "version_major": 2,
       "version_minor": 0
      },
      "text/plain": [
       "Button(description='Run', style=ButtonStyle())"
      ]
     },
     "metadata": {},
     "output_type": "display_data"
    },
    {
     "data": {
      "application/vnd.jupyter.widget-view+json": {
       "model_id": "37b7c3f7214b4d468e869e70d3427799",
       "version_major": 2,
       "version_minor": 0
      },
      "text/plain": [
       "Output()"
      ]
     },
     "metadata": {},
     "output_type": "display_data"
    }
   ],
   "source": [
    "# UI\n",
    "tab_names = ['Own queries', 'query 1', 'query 2']\n",
    "text_area_content = ['', query_assessments, query_test]\n",
    "\n",
    "button= widgets.Button(description=\"Run\")\n",
    "button.on_click(send_query)\n",
    "\n",
    "children = [widgets.Textarea(value=value, placeholder='Type a query', layout=Layout(width='100%',height='200px')) \n",
    "            for value in text_area_content]\n",
    "\n",
    "text_area= widgets.Textarea(value=query_assessments,placeholder='Type a query', layout=Layout(width='100%',height='300px'))\n",
    "\n",
    "tab = widgets.Tab()\n",
    "tab.children = children\n",
    "for i in range(len(tab_names)):\n",
    "    tab.set_title(i, tab_names[i])\n",
    "display(tab, button, output)"
   ]
  },
  {
   "cell_type": "code",
   "execution_count": 6,
   "metadata": {},
   "outputs": [
    {
     "data": {
      "application/vnd.jupyter.widget-view+json": {
       "model_id": "39ed2b160d81492bbff626c55ae54494",
       "version_major": 2,
       "version_minor": 0
      },
      "text/plain": [
       "Tab(children=(HBox(children=(Text(value='', description='one', placeholder='name'), Button(description='ok', s…"
      ]
     },
     "metadata": {},
     "output_type": "display_data"
    }
   ],
   "source": [
    "lst = ['one', 'two']\n",
    "list_widgets  = [\n",
    "    widgets.HBox([widgets.Text(\n",
    "        placeholder=\"name\",\n",
    "        description=name,\n",
    "        disabled=False),\n",
    "                  widgets.Button(\n",
    "                  description=\"ok\")]) for name in lst]\n",
    "\n",
    "children=list_widgets\n",
    "tab = widgets.Tab(children)\n",
    "[tab.set_title(num, name) for num, name in enumerate(lst)]\n",
    "\n",
    "display(tab)"
   ]
  },
  {
   "cell_type": "code",
   "execution_count": 7,
   "metadata": {},
   "outputs": [],
   "source": [
    "import pandas as pd\n",
    "import numpy as np"
   ]
  },
  {
   "cell_type": "code",
   "execution_count": 18,
   "metadata": {},
   "outputs": [
    {
     "data": {
      "text/html": [
       "<div>\n",
       "<style scoped>\n",
       "    .dataframe tbody tr th:only-of-type {\n",
       "        vertical-align: middle;\n",
       "    }\n",
       "\n",
       "    .dataframe tbody tr th {\n",
       "        vertical-align: top;\n",
       "    }\n",
       "\n",
       "    .dataframe thead th {\n",
       "        text-align: right;\n",
       "    }\n",
       "</style>\n",
       "<table border=\"1\" class=\"dataframe\">\n",
       "  <thead>\n",
       "    <tr style=\"text-align: right;\">\n",
       "      <th></th>\n",
       "      <th>Col1</th>\n",
       "      <th>Col2</th>\n",
       "      <th>Col3</th>\n",
       "      <th>Col4</th>\n",
       "    </tr>\n",
       "  </thead>\n",
       "  <tbody>\n",
       "    <tr>\n",
       "      <th>0</th>\n",
       "      <td>0.574948</td>\n",
       "      <td>0.783455</td>\n",
       "      <td>0.236760</td>\n",
       "      <td>0.892150</td>\n",
       "    </tr>\n",
       "    <tr>\n",
       "      <th>1</th>\n",
       "      <td>0.610127</td>\n",
       "      <td>0.805898</td>\n",
       "      <td>0.295972</td>\n",
       "      <td>0.126123</td>\n",
       "    </tr>\n",
       "    <tr>\n",
       "      <th>2</th>\n",
       "      <td>0.609320</td>\n",
       "      <td>0.758590</td>\n",
       "      <td>0.543944</td>\n",
       "      <td>0.123686</td>\n",
       "    </tr>\n",
       "    <tr>\n",
       "      <th>3</th>\n",
       "      <td>0.431379</td>\n",
       "      <td>0.680556</td>\n",
       "      <td>0.169595</td>\n",
       "      <td>0.471497</td>\n",
       "    </tr>\n",
       "    <tr>\n",
       "      <th>4</th>\n",
       "      <td>0.370735</td>\n",
       "      <td>0.603453</td>\n",
       "      <td>0.515211</td>\n",
       "      <td>0.295579</td>\n",
       "    </tr>\n",
       "  </tbody>\n",
       "</table>\n",
       "</div>"
      ],
      "text/plain": [
       "       Col1      Col2      Col3      Col4\n",
       "0  0.574948  0.783455  0.236760  0.892150\n",
       "1  0.610127  0.805898  0.295972  0.126123\n",
       "2  0.609320  0.758590  0.543944  0.123686\n",
       "3  0.431379  0.680556  0.169595  0.471497\n",
       "4  0.370735  0.603453  0.515211  0.295579"
      ]
     },
     "execution_count": 18,
     "metadata": {},
     "output_type": "execute_result"
    }
   ],
   "source": [
    "random_data = np.random.rand(5,4)\n",
    "\n",
    "df = pd.DataFrame(random_data, columns=[\"Col1\", \"Col2\", \"Col3\", \"Col4\"])\n",
    "df"
   ]
  },
  {
   "cell_type": "code",
   "execution_count": 29,
   "metadata": {},
   "outputs": [
    {
     "ename": "ModuleNotFoundError",
     "evalue": "No module named 'jupyter_datatables'",
     "output_type": "error",
     "traceback": [
      "\u001b[1;31m---------------------------------------------------------------------------\u001b[0m",
      "\u001b[1;31mModuleNotFoundError\u001b[0m                       Traceback (most recent call last)",
      "\u001b[1;32m<ipython-input-29-4284656b3e41>\u001b[0m in \u001b[0;36m<module>\u001b[1;34m\u001b[0m\n\u001b[1;32m----> 1\u001b[1;33m \u001b[1;32mfrom\u001b[0m \u001b[0mjupyter_datatables\u001b[0m \u001b[1;32mimport\u001b[0m \u001b[0minit_datatables_mode\u001b[0m\u001b[1;33m\u001b[0m\u001b[1;33m\u001b[0m\u001b[0m\n\u001b[0m\u001b[0;32m      2\u001b[0m \u001b[1;33m\u001b[0m\u001b[0m\n\u001b[0;32m      3\u001b[0m \u001b[0minit_datatables_mode\u001b[0m\u001b[1;33m(\u001b[0m\u001b[1;33m)\u001b[0m\u001b[1;33m\u001b[0m\u001b[1;33m\u001b[0m\u001b[0m\n",
      "\u001b[1;31mModuleNotFoundError\u001b[0m: No module named 'jupyter_datatables'"
     ]
    }
   ],
   "source": [
    "from jupyter_datatables import init_datatables_mode\n",
    "\n",
    "init_datatables_mode()"
   ]
  },
  {
   "cell_type": "code",
   "execution_count": null,
   "metadata": {},
   "outputs": [],
   "source": []
  }
 ],
 "metadata": {
  "kernelspec": {
   "display_name": "Python 3",
   "language": "python",
   "name": "python3"
  },
  "language_info": {
   "codemirror_mode": {
    "name": "ipython",
    "version": 3
   },
   "file_extension": ".py",
   "mimetype": "text/x-python",
   "name": "python",
   "nbconvert_exporter": "python",
   "pygments_lexer": "ipython3",
   "version": "3.8.5"
  }
 },
 "nbformat": 4,
 "nbformat_minor": 4
}
