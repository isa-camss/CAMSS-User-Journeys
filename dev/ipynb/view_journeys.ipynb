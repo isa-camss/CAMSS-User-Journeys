{
 "cells": [
  {
   "cell_type": "markdown",
   "id": "f12555cc-24e3-4c99-8cbf-face05171ba4",
   "metadata": {},
   "source": [
    "<nav>\n",
    "  <a href=\"view_home.ipynb\">Home</a> &nbsp;&nbsp;&nbsp;\n",
    "  <a href=\"view_journeys.ipynb\">User Journeys</a> &nbsp;&nbsp;&nbsp;\n",
    "</nav>"
   ]
  },
  {
   "cell_type": "markdown",
   "id": "5b100471-8466-48a0-a810-4fdcae64ddb5",
   "metadata": {
    "tags": []
   },
   "source": [
    "<center>\n",
    "    <h1 style='text-align: center;font-weight: bold;'> \n",
    "        WHAT IS YOUR PROFILE?\n",
    "    </h1>\n",
    "</center>"
   ]
  },
  {
   "cell_type": "markdown",
   "id": "4728b258-71a0-4341-8e17-3a720c336b59",
   "metadata": {
    "tags": []
   },
   "source": [
    "<p>In order to provide you with the tools and information that fit your needs, it is important to know your role, please select from the list below the one you identify with.</p>"
   ]
  },
  {
   "cell_type": "markdown",
   "id": "2a9e0fdd-b1ce-4c15-95e2-3cc50c3d8d63",
   "metadata": {},
   "source": [
    "<ul>\n",
    "    <li><a href='view_procurer.ipynb'>I am a Procurer</a></li>\n",
    "    <li><a href='view_software.ipynb'>I am an Architect or Software Engineer</a></li>\n",
    "</ul>"
   ]
  }
 ],
 "metadata": {
  "kernelspec": {
   "display_name": "Python 3 (ipykernel)",
   "language": "python",
   "name": "python3"
  },
  "language_info": {
   "codemirror_mode": {
    "name": "ipython",
    "version": 3
   },
   "file_extension": ".py",
   "mimetype": "text/x-python",
   "name": "python",
   "nbconvert_exporter": "python",
   "pygments_lexer": "ipython3",
   "version": "3.9.9"
  }
 },
 "nbformat": 4,
 "nbformat_minor": 5
}
