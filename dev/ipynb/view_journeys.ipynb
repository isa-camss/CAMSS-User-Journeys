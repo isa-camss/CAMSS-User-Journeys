{
 "cells": [
  {
   "cell_type": "markdown",
   "id": "f12555cc-24e3-4c99-8cbf-face05171ba4",
   "metadata": {},
   "source": [
    "<nav>\n",
    "  <a href=\"index.ipynb\">Home</a> &nbsp;&nbsp;&nbsp;\n",
    "  <a href=\"view_journeys.ipynb\">User Journeys</a> &nbsp;&nbsp;&nbsp;\n",
    "</nav>"
   ]
  },
  {
   "cell_type": "markdown",
   "id": "5b100471-8466-48a0-a810-4fdcae64ddb5",
   "metadata": {
    "tags": []
   },
   "source": [
    "<center>\n",
    "    <h1 style='text-align: center;font-weight: bold;'> \n",
    "        WHAT IS YOUR USER STORY?\n",
    "    </h1>\n",
    "</center>"
   ]
  },
  {
   "cell_type": "markdown",
   "id": "4728b258-71a0-4341-8e17-3a720c336b59",
   "metadata": {
    "tags": []
   },
   "source": [
    "<p>Camss has prepared two User journeys in this Jupyter Notebook. One of them is for a user who is a Procurer and the other one is for a user who is a Software Architect.<br> From the cards below, identify the User Story with which you most identify, then select the Use Case and User Journey you wish to follow.</p>"
   ]
  },
  {
   "cell_type": "markdown",
   "metadata": {},
   "source": [
    "<img src='../img/user_journeys/user_story_procu.jpg' alt='user story' width=20% height=20% align='left'/>"
   ]
  },
  {
   "cell_type": "markdown",
   "metadata": {},
   "source": [
    "<a href='view_procurer_j1.ipynb'><img src='../img/user_journeys/procurer_journey 1.jpg' alt='journey' width=55% height=55% align='left' /></a>"
   ]
  },
  {
   "cell_type": "markdown",
   "metadata": {},
   "source": [
    "<img src='../img/user_journeys/user_story_soft.jpg' alt='user story' width=20% height=20% align='left'/>"
   ]
  },
  {
   "cell_type": "markdown",
   "metadata": {},
   "source": [
    "<a href='view_software_journey1.ipynb'><img src='../img/user_journeys/software_journey1.jpg' alt='journey' width=67% height=67% align='left'/></a>"
   ]
  },
  {
   "cell_type": "markdown",
   "metadata": {},
   "source": [
    "<a href='view_software_journey2.ipynb'><img src='../img/user_journeys/software_journey2.jpg' alt='journey' width=100% height=100% align='left'/></a>"
   ]
  },
  {
   "cell_type": "code",
   "execution_count": null,
   "metadata": {},
   "outputs": [],
   "source": []
  }
 ],
 "metadata": {
  "kernelspec": {
   "display_name": "camss journeys env",
   "language": "python",
   "name": ".env"
  },
  "language_info": {
   "codemirror_mode": {
    "name": "ipython",
    "version": 3
   },
   "file_extension": ".py",
   "mimetype": "text/x-python",
   "name": "python",
   "nbconvert_exporter": "python",
   "pygments_lexer": "ipython3",
   "version": "3.8.5"
  }
 },
 "nbformat": 4,
 "nbformat_minor": 5
}
