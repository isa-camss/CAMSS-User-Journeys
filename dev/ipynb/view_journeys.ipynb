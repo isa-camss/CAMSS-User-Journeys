{
 "cells": [
  {
   "cell_type": "markdown",
   "id": "f12555cc-24e3-4c99-8cbf-face05171ba4",
   "metadata": {},
   "source": [
    "<nav>\n",
    "  <a href=\"view_home.ipynb\">Home</a> &nbsp;&nbsp;&nbsp;\n",
    "  <a href=\"view_journeys.ipynb\">User Journeys</a> &nbsp;&nbsp;&nbsp;\n",
    "</nav>"
   ]
  },
  {
   "cell_type": "markdown",
   "id": "5b100471-8466-48a0-a810-4fdcae64ddb5",
   "metadata": {
    "tags": []
   },
   "source": [
    "<center>\n",
    "    <h1 style='text-align: center;font-weight: bold;'> \n",
    "        WHAT IS YOUR PROFILE?\n",
    "    </h1>\n",
    "</center>"
   ]
  },
  {
   "cell_type": "markdown",
   "id": "4728b258-71a0-4341-8e17-3a720c336b59",
   "metadata": {
    "tags": []
   },
   "source": [
    "<p>In order to provide you with the tools and information that fit your needs, it is important to know your role, please select from the list below the one you identify with.</p>"
   ]
  },
  {
   "cell_type": "markdown",
   "metadata": {},
   "source": [
    "<table>\n",
    "    <tr>\n",
    "        <td><a href='view_software.ipynb'> <img src='../img/user_journeys/user_story_software.jpg' alt='software architect user story' width=70% height=100%/></a>\n",
    "        </td>\n",
    "        <td><a href='view_procurer.ipynb'><img src='../img/user_journeys/user_story_procurer.jpg' alt='procurer user story' width=70% height=100%/></a></td>\n",
    "    </tr>\n",
    "</table>"
   ]
  },
  {
   "cell_type": "markdown",
   "metadata": {},
   "source": [
    "<img src='../img/user_journeys/user_journeys.jpg' alt='Journey Map' width=150% height=150%/>"
   ]
  },
  {
   "cell_type": "code",
   "execution_count": null,
   "metadata": {},
   "outputs": [],
   "source": []
  }
 ],
 "metadata": {
  "kernelspec": {
   "display_name": "camss journeys env",
   "language": "python",
   "name": ".env"
  },
  "language_info": {
   "codemirror_mode": {
    "name": "ipython",
    "version": 3
   },
   "file_extension": ".py",
   "mimetype": "text/x-python",
   "name": "python",
   "nbconvert_exporter": "python",
   "pygments_lexer": "ipython3",
   "version": "3.8.5"
  }
 },
 "nbformat": 4,
 "nbformat_minor": 5
}
