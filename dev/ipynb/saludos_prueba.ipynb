{
 "cells": [
  {
   "cell_type": "code",
   "execution_count": 1,
   "id": "solid-pharmacology",
   "metadata": {},
   "outputs": [
    {
     "name": "stdout",
     "output_type": "stream",
     "text": [
      "hello,mundiño!\n",
      "hello,luisa!\n"
     ]
    }
   ],
   "source": [
    "import margo_loader\n",
    "import src.app.saludos"
   ]
  },
  {
   "cell_type": "code",
   "execution_count": 2,
   "id": "raised-exhibition",
   "metadata": {},
   "outputs": [
    {
     "data": {
      "text/plain": [
       "'hello,mundiño!'"
      ]
     },
     "execution_count": 2,
     "metadata": {},
     "output_type": "execute_result"
    }
   ],
   "source": [
    "src.app.saludos.say_hello()"
   ]
  },
  {
   "cell_type": "code",
   "execution_count": 3,
   "id": "expensive-estate",
   "metadata": {},
   "outputs": [
    {
     "name": "stdout",
     "output_type": "stream",
     "text": [
      "Help on module src.app.saludos in src.app:\n",
      "\n",
      "NAME\n",
      "    src.app.saludos\n",
      "\n",
      "FUNCTIONS\n",
      "    say_hello(to='mundiño')\n",
      "\n",
      "FILE\n",
      "    c:\\sembu\\github\\camss\\camss_ontology_tools\\dev\\ipynb\\src\\app\\saludos.ipynb\n",
      "\n",
      "\n"
     ]
    }
   ],
   "source": [
    "help(src.app.saludos)"
   ]
  },
  {
   "cell_type": "code",
   "execution_count": 6,
   "id": "silent-elite",
   "metadata": {},
   "outputs": [
    {
     "ename": "NameError",
     "evalue": "name 'button_option' is not defined",
     "output_type": "error",
     "traceback": [
      "\u001b[1;31m---------------------------------------------------------------------------\u001b[0m",
      "\u001b[1;31mNameError\u001b[0m                                 Traceback (most recent call last)",
      "\u001b[1;32m<ipython-input-6-49b48f4bbeac>\u001b[0m in \u001b[0;36m<module>\u001b[1;34m\u001b[0m\n\u001b[1;32m----> 1\u001b[1;33m \u001b[0msrc\u001b[0m\u001b[1;33m.\u001b[0m\u001b[0mapp\u001b[0m\u001b[1;33m.\u001b[0m\u001b[0msaludos\u001b[0m\u001b[1;33m(\u001b[0m\u001b[0mbutton_option\u001b[0m\u001b[1;33m)\u001b[0m\u001b[1;33m\u001b[0m\u001b[1;33m\u001b[0m\u001b[0m\n\u001b[0m",
      "\u001b[1;31mNameError\u001b[0m: name 'button_option' is not defined"
     ]
    }
   ],
   "source": [
    "src.app.saludos(button_option)"
   ]
  },
  {
   "cell_type": "code",
   "execution_count": null,
   "id": "amazing-barbados",
   "metadata": {},
   "outputs": [],
   "source": []
  }
 ],
 "metadata": {
  "kernelspec": {
   "display_name": "Python 3",
   "language": "python",
   "name": "python3"
  },
  "language_info": {
   "codemirror_mode": {
    "name": "ipython",
    "version": 3
   },
   "file_extension": ".py",
   "mimetype": "text/x-python",
   "name": "python",
   "nbconvert_exporter": "python",
   "pygments_lexer": "ipython3",
   "version": "3.8.5"
  }
 },
 "nbformat": 4,
 "nbformat_minor": 5
}
