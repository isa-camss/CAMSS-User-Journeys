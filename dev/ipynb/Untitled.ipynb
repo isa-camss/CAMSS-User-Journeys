{
 "cells": [
  {
   "cell_type": "code",
   "execution_count": 6,
   "metadata": {},
   "outputs": [
    {
     "data": {
      "application/vnd.jupyter.widget-view+json": {
       "model_id": "27a6e8561c3a4b5e940b749d8377f269",
       "version_major": 2,
       "version_minor": 0
      },
      "text/plain": [
       "Tab(children=(Output(), Output(), Output()), _titles={'0': 'Own queries', '1': 'query 1', '2': 'query 2'})"
      ]
     },
     "metadata": {},
     "output_type": "display_data"
    }
   ],
   "source": [
    "from IPython.display import clear_output, display\n",
    "import time\n",
    "from functools import lru_cache\n",
    "import sys\n",
    "sys.path.append('../')\n",
    "import requests\n",
    "import ipywidgets as widgets\n",
    "from ipywidgets import Layout, AppLayout\n",
    "import pandas as pd\n",
    "import json\n",
    "from pprint import pprint\n",
    "import cfg.sparql as sparql\n",
    "\n",
    "# Method to execute Microservice query (API assessments)\n",
    "\n",
    "output= widgets.Output()\n",
    "\n",
    "@output.capture()\n",
    "def send_query(q):\n",
    "    query= text_area.value\n",
    "    params= {'sparql_query': query}\n",
    "    msg= requests.post(url= URL_MICROSERVICE, params= params)\n",
    "    response_json = msg.json()\n",
    "    df_assessments = pd.DataFrame(response_json, columns=['Assessments', 'Scenario'])\n",
    "    pprint(df_assessments)\n",
    "\n",
    "tab_names = ['Own queries', 'query 1', 'query 2']\n",
    "\n",
    "# set up a dictionary of Output widgets\n",
    "outputs = {i: widgets.Output() for i in range(0,3)}\n",
    "\n",
    "# add the Output widgets as tab childen\n",
    "\n",
    "tab= widgets.Tab(tab_content)\n",
    "tab.children = list(outputs.values())\n",
    "\n",
    "# assign tab names\n",
    "for i, title in outputs.items():\n",
    "    tab.set_title(i, tab_names[i])\n",
    "\n",
    "def print_on_select(widget):\n",
    "# get the correct Output widget based on the index of the chosen tab\n",
    "    tab_idx = widget['new']\n",
    "    output_widget = outputs[tab_idx]\n",
    "    with output_widget:\n",
    "        clear_output()\n",
    "        print('This section is loading')\n",
    "        value = long_running_function(tab_idx)\n",
    "        clear_output()\n",
    "        print(value)\n",
    "\n",
    "@lru_cache(32)\n",
    "def long_running_function(tab_idx):\n",
    "        time.sleep(1)\n",
    "        \n",
    "        return 'this is tab number ' + str(tab_idx)\n",
    "        button= widgets.Button(description=\"Run\")\n",
    "        button.on_click(send_query)\n",
    "\n",
    "        text_area= widgets.Textarea(value= '', placeholder='Type a query', layout=Layout(width='100%',height='300px'))\n",
    "\n",
    "        tab_content = [widgets.HBox([text_area, button]) for _ in tab_names]\n",
    "\n",
    "tab.observe(print_on_select, names='selected_index')\n",
    "\n",
    "display(tab)"
   ]
  },
  {
   "cell_type": "code",
   "execution_count": 10,
   "metadata": {},
   "outputs": [
    {
     "data": {
      "application/vnd.jupyter.widget-view+json": {
       "model_id": "15d395cab23e43dd813a6ef7681d3fd2",
       "version_major": 2,
       "version_minor": 0
      },
      "text/plain": [
       "Tab(children=(Text(value='', description='P0'), Text(value='', description='P1'), Text(value='', description='…"
      ]
     },
     "metadata": {},
     "output_type": "display_data"
    }
   ],
   "source": [
    "tab_contents = ['P0', 'P1', 'P2', 'P3', 'P4']\n",
    "children = [widgets.Text(description=name) for name in tab_contents]\n",
    "tab = widgets.Tab()\n",
    "tab.children = children\n",
    "for i in range(len(children)):\n",
    "    tab.set_title(i, str(i))\n",
    "tab"
   ]
  },
  {
   "cell_type": "code",
   "execution_count": 18,
   "metadata": {},
   "outputs": [],
   "source": [
    "tab.selected_index = 3"
   ]
  },
  {
   "cell_type": "code",
   "execution_count": null,
   "metadata": {},
   "outputs": [],
   "source": []
  },
  {
   "cell_type": "code",
   "execution_count": null,
   "metadata": {},
   "outputs": [],
   "source": []
  }
 ],
 "metadata": {
  "kernelspec": {
   "display_name": "Python 3",
   "language": "python",
   "name": "python3"
  },
  "language_info": {
   "codemirror_mode": {
    "name": "ipython",
    "version": 3
   },
   "file_extension": ".py",
   "mimetype": "text/x-python",
   "name": "python",
   "nbconvert_exporter": "python",
   "pygments_lexer": "ipython3",
   "version": "3.8.5"
  }
 },
 "nbformat": 4,
 "nbformat_minor": 4
}
