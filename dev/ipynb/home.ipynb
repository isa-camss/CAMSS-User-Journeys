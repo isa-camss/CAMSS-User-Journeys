{
 "cells": [
  {
   "cell_type": "markdown",
   "metadata": {},
   "source": [
    "<table>\n",
    "    <tr>\n",
    "        <td> <img src='src/img/logo1.jpg' alt='assessment logo' style='width:110px;height:100px;border-radius:3px'/>\n",
    "        </td>\n",
    "        <td> <img src='src/img/european-union-logo.png' alt='EU logo' style='width:150px;height:100px;border-radius:3px'/> \n",
    "        </td>\n",
    "    </tr>\n",
    "</table>"
   ]
  },
  {
   "cell_type": "markdown",
   "metadata": {
    "tags": []
   },
   "source": [
    "<strong> <h1 style='text-align: center;'> CAMSS <br> Common Assessment Method for Standards and Specifications </h1> <strong/>"
   ]
  },
  {
   "cell_type": "markdown",
   "metadata": {},
   "source": [
    "<p> \n",
    "CAMSS is the European guide for assessing and selecting standards and specifications for an eGovernment project, a reference when building an architecture and an enabler for justifying the choice of standards and specifications in terms of interoperability needs and requirements. It is fully aligned with the European Standardisation Regulation 1025/2012 \n",
    "\n",
    "CAMSS will be useful if you want to use ICT standards or specifications in the procurement and implementation of your regional, national or cross-border ICT services. You want to ensure that you choose the best ICT standards or specifications available to meet your business needs.\n",
    "</p>"
   ]
  },
  {
   "cell_type": "markdown",
   "metadata": {},
   "source": [
    "<strong> <h2> What can offer you? </h2> <strong/>\n",
    "<p>\n",
    "CAMSS will provide you with a comprehensive method to assist you in the evaluation of ICT standards and specifications. CAMSS provides a method. It does not select the standards itself.\n",
    "\n",
    "The CAMSS method aims at achieving interoperability and avoiding vendor lock-in: CAMSS criteria assess (among other things) the openness of standards and specifications.\n",
    "CAMSS tools are flexible and can be adapted to the needs of each Member State (e.g. by adding or selecting the most relevant criteria, selecting exclusion criteria, etc.). \n",
    "    \n",
    "This jupyter notebook is designed for you to interact with all the solutions that CAMSS offers and also to understand a little of what happens every time you execute an action. Below you will find the CAMSS solutions, select one and let's get started!\n",
    "</p>"
   ]
  },
  {
   "cell_type": "markdown",
   "metadata": {
    "tags": []
   },
   "source": [
    "<table>\n",
    "    <tr>\n",
    "        <td>\n",
    "            <a href=\"camss_tools.ipynb\">\n",
    "                <img src='src/img/camss_tools.jpg' alt='tools logo' style='width:110px;height:100px;border-radius:3px'/>\n",
    "            </a>\n",
    "        </td>\n",
    "        <td>\n",
    "            <a href=\"camss_assessments.ipynb\">\n",
    "                <img src='src/img/camss_assessment.jpg' alt='assessment logo' style='width:110px;height:100px;border-radius:3px'/>\n",
    "            </a>\n",
    "        </td>\n",
    "        <td>\n",
    "            <a href=\"camss_elis.ipynb\">\n",
    "                <img src='src/img/camss_ELIS.jpg' alt='ELIS logo' style='width:110px;height:100px;border-radius:3px'/>\n",
    "            </a>\n",
    "        </td>\n",
    "        <td>\n",
    "            <a href=\"camss_cssv.ipynb\">\n",
    "                <img src='src/img/camss_cssv.jpg' alt='cssv logo' style='width:110px;height:100px;border-radius:3px'/>\n",
    "            </a>\n",
    "        </td>\n",
    "         <td>\n",
    "            <a href=\"camss_cav.ipynb\">\n",
    "                <img src='src/img/camss_cav.jpg' alt='cav logo' style='width:110px;height:100px;border-radius:3px'/>\n",
    "            </a>\n",
    "        </td>\n",
    "         <td>\n",
    "            <a href=\"camss_ontology.ipynb\">\n",
    "                <img src='src/img/camss_ontology.jpg' alt='ontology logo' style='width:110px;height:100px;border-radius:3px'/>\n",
    "            </a>\n",
    "        </td>\n",
    "</table>"
   ]
  }
 ],
 "metadata": {
  "kernelspec": {
   "display_name": "Python 3",
   "language": "python",
   "name": "python3"
  },
  "language_info": {
   "codemirror_mode": {
    "name": "ipython",
    "version": 3
   },
   "file_extension": ".py",
   "mimetype": "text/x-python",
   "name": "python",
   "nbconvert_exporter": "python",
   "pygments_lexer": "ipython3",
   "version": "3.8.5"
  }
 },
 "nbformat": 4,
 "nbformat_minor": 5
}
