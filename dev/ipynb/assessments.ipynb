{
 "cells": [
  {
   "cell_type": "markdown",
   "id": "sought-compromise",
   "metadata": {},
   "source": [
    "<ul style='list-style:none;display:flex;flex-direction:row'>\n",
    "  <li><a href=\"main.ipynb\">Home</a></li> &nbsp;&nbsp;&nbsp;&nbsp;\n",
    "  <li><a href=\"assessments.ipynb\">Assessments</a></li>\n",
    "</ul>"
   ]
  },
  {
   "cell_type": "markdown",
   "id": "genuine-drain",
   "metadata": {},
   "source": [
    "<table>\n",
    "    <tr>\n",
    "        <td> <img src='src/img/camss_assessment.jpg' alt='assessment logo' style='width:110px;height:100px;border-radius:3px'/>\n",
    "        </td>\n",
    "        <td> <img src='src/img/european-union-logo.png' alt='EU logo' style='width:150px;height:100px;border-radius:3px'/> \n",
    "        </td>\n",
    "    </tr>\n",
    "</table>"
   ]
  },
  {
   "cell_type": "markdown",
   "id": "hawaiian-outreach",
   "metadata": {},
   "source": [
    "<strong> <h1 style='text-align: center;'> CAMSS ASSESSMENTS LIBRARY </h1> <strong/>"
   ]
  },
  {
   "cell_type": "markdown",
   "id": "centered-throat",
   "metadata": {},
   "source": [
    "<p> \n",
    "The CAMSS Assessments Library is a catalogue of the assessments produced through the use of the CAMSS Tools. Each assessment constitutes a CAMSS solution and is fully reusable. \n",
    "\n",
    "This section of the jupyter notebook is prepared to run SPARQL queries to extract the information you need about the assessments.  \n",
    "</p>"
   ]
  },
  {
   "cell_type": "code",
   "execution_count": 52,
   "id": "israeli-colony",
   "metadata": {},
   "outputs": [],
   "source": [
    "import ipywidgets as widgets\n",
    "from ipywidgets import Layout\n",
    "from SPARQLWrapper import SPARQLWrapper, JSON, CSV\n",
    "from pprint import pprint\n",
    "import pandas as pd"
   ]
  },
  {
   "cell_type": "code",
   "execution_count": 53,
   "id": "parental-panama",
   "metadata": {},
   "outputs": [],
   "source": [
    "# Establish connection to cellar\n",
    "cellar_connection = SPARQLWrapper('http://publications.europa.eu/webapi/rdf/sparql')"
   ]
  },
  {
   "cell_type": "code",
   "execution_count": 56,
   "id": "increasing-verification",
   "metadata": {},
   "outputs": [
    {
     "data": {
      "application/vnd.jupyter.widget-view+json": {
       "model_id": "05d48d6aaa84432ebb041731b190de06",
       "version_major": 2,
       "version_minor": 0
      },
      "text/plain": [
       "Textarea(value='', layout=Layout(height='250px', width='100%'), placeholder='Type a query')"
      ]
     },
     "metadata": {},
     "output_type": "display_data"
    },
    {
     "data": {
      "application/vnd.jupyter.widget-view+json": {
       "model_id": "a6baeb4d8894436e8724615874eeab31",
       "version_major": 2,
       "version_minor": 0
      },
      "text/plain": [
       "Button(button_style='info', description='Run', style=ButtonStyle(), tooltip='Click me')"
      ]
     },
     "metadata": {},
     "output_type": "display_data"
    }
   ],
   "source": [
    "text_box = widgets.Textarea(\n",
    "    value='',\n",
    "    placeholder='Type a query',\n",
    "    #description='String:',\n",
    "    disabled=False,\n",
    "    layout=Layout(width='100%', height='250px')\n",
    ")\n",
    "display(text_box)\n",
    "\n",
    "button = widgets.Button(\n",
    "    description='Run',\n",
    "    disabled=False,\n",
    "    button_style='info', # 'success', 'info', 'warning', 'danger' or ''\n",
    "    tooltip='Click me',\n",
    "    icon='' # (FontAwesome names without the `fa-` prefix)\n",
    ")\n",
    "display(button)\n",
    "\n",
    "def send_query(q):\n",
    "    query=text_box.value\n",
    "    pprint(query)\n",
    "    cellar_connection.setQuery(query)\n",
    "    \n",
    "button.on_click(send_query)\n",
    "\n",
    "def obtain_results(send_query):\n",
    "    cellar_connection.setReturnFormat(CSV)\n",
    "    qres = cellar_connection.query().convert()\n",
    "    pprint(qres)\n",
    "    \n",
    "button.on_click(obtain_results)\n",
    "\n",
    "    \n",
    "\n"
   ]
  }
 ],
 "metadata": {
  "kernelspec": {
   "display_name": "Python 3",
   "language": "python",
   "name": "python3"
  },
  "language_info": {
   "codemirror_mode": {
    "name": "ipython",
    "version": 3
   },
   "file_extension": ".py",
   "mimetype": "text/x-python",
   "name": "python",
   "nbconvert_exporter": "python",
   "pygments_lexer": "ipython3",
   "version": "3.8.5"
  }
 },
 "nbformat": 4,
 "nbformat_minor": 5
}
