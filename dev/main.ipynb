{
 "cells": [
  {
   "cell_type": "code",
   "execution_count": 10,
   "id": "fitting-daily",
   "metadata": {},
   "outputs": [],
   "source": [
    "from SPARQLWrapper import SPARQLWrapper, JSON, CSV\n",
    "from pprint import pprint\n",
    "import pandas as pd"
   ]
  },
  {
   "cell_type": "code",
   "execution_count": 11,
   "id": "polyphonic-insulin",
   "metadata": {},
   "outputs": [],
   "source": [
    "# Establish connection to cellar\n",
    "cellar_connection = SPARQLWrapper('http://publications.europa.eu/webapi/rdf/sparql')"
   ]
  },
  {
   "cell_type": "code",
   "execution_count": 14,
   "id": "northern-digest",
   "metadata": {},
   "outputs": [],
   "source": [
    "# Execute query\n",
    "cellar_connection.setQuery('''\n",
    "    PREFIX camssa: <http://data.europa.eu/2sa/assessments/>\n",
    "    PREFIX cssvrsc: <http://data.europa.eu/2sa/cssv/rsc/>\n",
    "    PREFIX sc: <http://data.europa.eu/2sa/scenarios#>\n",
    "    PREFIX rdf: <http://www.w3.org/1999/02/22-rdf-syntax-ns#>\n",
    "    PREFIX cav: <http://data.europa.eu/2sa/cav#>\n",
    "    PREFIX camss: <http://data.europa.eu/2sa#>\n",
    "    PREFIX cssv: <http://data.europa.eu/2sa/cssv#>\n",
    "    PREFIX dct: <http://purl.org/dc/terms/>\n",
    "    select distinct ?Assessment ?Scenario\n",
    "    from camssa:\n",
    "    from cav:\n",
    "    from camss:\n",
    "    where {\n",
    "        ?assObj rdf:type cav:Assessment ;\n",
    "        cav:contextualisedBy ?scObj ;\n",
    "        dct:title ?Assessment .\n",
    "        ?scObj rdf:type cav:Scenario ;\n",
    "        dct:title ?Scenario.\n",
    "    }\n",
    "''')"
   ]
  },
  {
   "cell_type": "code",
   "execution_count": 15,
   "id": "marked-dryer",
   "metadata": {},
   "outputs": [
    {
     "name": "stdout",
     "output_type": "stream",
     "text": [
      "{'head': {'link': [], 'vars': ['Assessment', 'Scenario']},\n",
      " 'results': {'bindings': [], 'distinct': False, 'ordered': True}}\n"
     ]
    }
   ],
   "source": [
    " # Format results\n",
    "cellar_connection.setReturnFormat(JSON)\n",
    "qres = cellar_connection.query().convert()\n",
    "\n",
    "pprint(qres)"
   ]
  },
  {
   "cell_type": "code",
   "execution_count": null,
   "id": "stunning-qatar",
   "metadata": {},
   "outputs": [],
   "source": []
  },
  {
   "cell_type": "code",
   "execution_count": null,
   "id": "linear-rainbow",
   "metadata": {},
   "outputs": [],
   "source": []
  }
 ],
 "metadata": {
  "kernelspec": {
   "display_name": "Python 3",
   "language": "python",
   "name": "python3"
  },
  "language_info": {
   "codemirror_mode": {
    "name": "ipython",
    "version": 3
   },
   "file_extension": ".py",
   "mimetype": "text/x-python",
   "name": "python",
   "nbconvert_exporter": "python",
   "pygments_lexer": "ipython3",
   "version": "3.8.5"
  }
 },
 "nbformat": 4,
 "nbformat_minor": 5
}
